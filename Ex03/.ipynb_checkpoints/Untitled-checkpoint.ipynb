{
 "cells": [
  {
   "cell_type": "markdown",
   "metadata": {},
   "source": [
    "# <center>Machine Intelligence 1</center>"
   ]
  },
  {
   "cell_type": "markdown",
   "metadata": {},
   "source": [
    "<h2 align=\"right\">Exercise Sheet 03</h2> "
   ]
  },
  {
   "cell_type": "markdown",
   "metadata": {},
   "source": [
    "<pre style=\"text-align: right\">\n",
    "Gruppe:             \n",
    "                MeSi\n",
    "Autoren:            \n",
    "Jens Meiners\n",
    "Arne Siebenmorgen\n",
    "</pre>"
   ]
  },
  {
   "cell_type": "markdown",
   "metadata": {},
   "source": [
    "### 3.1 MLP Backpropagation (5 points)"
   ]
  },
  {
   "cell_type": "code",
   "execution_count": 44,
   "metadata": {
    "collapsed": true
   },
   "outputs": [],
   "source": [
    "import numpy as np\n",
    "import matplotlib.pyplot as plt\n",
    "\n",
    "%matplotlib inline\n",
    "\n",
    "class mlp:\n",
    "\n",
    "    def __init__(self,hiddenUnits, lower, upper):\n",
    "        self.hiddenUnits = hiddenUnits\n",
    "        self.w1 = np.random.uniform(lower,upper,hiddenUnits) #weights from input to hiddenlayser\n",
    "        self.b = np.random.uniform(lower,upper,hiddenUnits) # bias\n",
    "        self.w2 = np.random.uniform(lower,upper,hiddenUnits)#weights from hiddenlayer to output\n",
    "    \n",
    "    def getOutput(self,x):\n",
    "        sum = 0\n",
    "        for i in range(1,self.hiddenUnits):\n",
    "            sum += self.w1[i]*np.tanh(self.w2[i]*(x-self.b[i]))\n",
    "        return sum\n",
    "    \n",
    "    def getOutputArray(self,x):\n",
    "        result = np.empty(x.size)\n",
    "        for i in range(1,x.size):\n",
    "            result[i] = self.getOutput(x[i])\n",
    "        return result\n",
    "    \n",
    "    "
   ]
  },
  {
   "cell_type": "code",
   "execution_count": 45,
   "metadata": {
    "collapsed": true
   },
   "outputs": [],
   "source": [
    "def forward_propagation(mlp, x):\n",
    "    return mlp.getOutput(x)"
   ]
  },
  {
   "cell_type": "code",
   "execution_count": 156,
   "metadata": {
    "collapsed": true
   },
   "outputs": [],
   "source": [
    "def output_error(output_value, true_value):\n",
    "    print\"output_value\",output_value\n",
    "    print\"true_value\",true_value\n",
    "    return 0.5*np.square((output_value - true_value))\n",
    "    #return output_value*(1-output_value)*(true_value - output_value)"
   ]
  },
  {
   "cell_type": "code",
   "execution_count": 157,
   "metadata": {
    "collapsed": false
   },
   "outputs": [],
   "source": [
    "def backpropagation( mlp, _input, error, learning_rate):\n",
    "    \n",
    "    #output neuron\n",
    "    hidden_layer_input = mlp.w1*np.tanh(_input)-mlp.b # MUSS tanh(_input)??\n",
    "    hidden_layer_output = np.tanh(hidden_layer_input)\n",
    "    output_layer_input = mlp.w2*hidden_layer_output\n",
    "    \n",
    "    sigma = error*(1.0-np.tanh(np.sum(output_layer_input)))\n",
    "    print sigma\n",
    "    \n",
    "    w_delta_out = -learning_rate * sigma * hidden_layer_output\n",
    "    \n",
    "    w_delta_hidden = -learning_rate * sigma * np.tanh(sum(hidden_layer_input)) * _input *mlp.w2\n",
    "    \n",
    "    w_delta_bias = -learning_rate * sigma * np.tanh(sum(hidden_layer_input)) *mlp.b\n",
    "    \n",
    "    print \"w_delta_out\", w_delta_out\n",
    "    print \"w_delta_hidden\", w_delta_hidden\n",
    "    print \"w_delta_bias\", w_delta_bias\n",
    "    \n",
    "    mlp.w2 += w_delta_out\n",
    "    mlp.w1 += w_delta_hidden\n",
    "    mlp.b += w_delta_bias"
   ]
  },
  {
   "cell_type": "code",
   "execution_count": 141,
   "metadata": {
    "collapsed": false
   },
   "outputs": [
    {
     "data": {
      "text/plain": [
       "<matplotlib.collections.PathCollection at 0x7f910113a610>"
      ]
     },
     "execution_count": 141,
     "metadata": {},
     "output_type": "execute_result"
    },
    {
     "data": {
      "image/png": "[encoded data removed]",
      "text/plain": [
       "<matplotlib.figure.Figure at 0x7f9101e4fc10>"
      ]
     },
     "metadata": {},
     "output_type": "display_data"
    }
   ],
   "source": [
    "#TODO daten laden\n",
    "from numpy import genfromtxt\n",
    "data = genfromtxt('RegressionData.txt', delimiter=' ', skip_header=1)\n",
    "\n",
    "#print data\n",
    "\n",
    "plt.scatter(data[:,0],data[:,1])"
   ]
  },
  {
   "cell_type": "code",
   "execution_count": 160,
   "metadata": {
    "collapsed": false
   },
   "outputs": [
    {
     "name": "stdout",
     "output_type": "stream",
     "text": [
      "mlp1.w1 [ 0.21554448 -0.19525417 -0.05707743]\n",
      "mlp1.b [-0.19740992 -0.19104492  0.49898745]\n",
      "mlp1.w2 [ 0.26412486 -0.23166355 -0.43691274]\n",
      "---------------\n",
      "output_value 0.0595972348669\n",
      "true_value -0.2507\n",
      "0.034386937671\n",
      "w_delta_out [-0.00584337 -0.00084618  0.00848185]\n",
      "w_delta_hidden [ 0.0005702  -0.00050013 -0.00094323]\n",
      "w_delta_bias [-0.00046293 -0.00044801  0.00117015]\n",
      "output_value 0.0336834471458\n",
      "true_value -0.0468\n",
      "0.00241078628882\n",
      "w_delta_out [-0.00035527 -0.00011488  0.00058377]\n",
      "w_delta_hidden [  2.14435441e-05  -1.93038720e-05  -3.55700171e-05]\n",
      "w_delta_bias [ -3.06553133e-05  -2.96669081e-05   7.74865645e-05]\n",
      "output_value 0.0386793224955\n",
      "true_value -0.3402\n",
      "0.0530424453115\n",
      "w_delta_out [-0.0080937  -0.00225571  0.01290829]\n",
      "w_delta_hidden [ 0.00054293 -0.00048967 -0.0009006 ]\n",
      "w_delta_bias [-0.00068505 -0.00066296  0.00173159]\n",
      "output_value -0.00184865054032\n",
      "true_value 0.2857\n",
      "0.0332177000848\n",
      "w_delta_out [-0.00332547 -0.00308974  0.00771642]\n",
      "w_delta_hidden [  9.34621192e-06  -8.78685179e-06  -1.55228245e-05]\n",
      "w_delta_bias [-0.00036778 -0.00035592  0.00092963]\n",
      "output_value 0.0563029980538\n",
      "true_value -1.0683\n",
      "0.464923263718\n",
      "w_delta_out [-0.07803169 -0.01310712  0.11526618]\n",
      "w_delta_hidden [ 0.00672113 -0.00648837 -0.01110311]\n",
      "w_delta_bias [-0.00634832 -0.00614363  0.01604647]\n",
      "output_value 0.0162449530923\n",
      "true_value 0.8605\n",
      "0.304224028269\n",
      "w_delta_out [-0.03825545 -0.02290895  0.07443081]\n",
      "w_delta_hidden [ 0.00075941 -0.00113174 -0.001316  ]\n",
      "w_delta_bias [-0.00392624 -0.00379965  0.00992425]\n",
      "output_value 0.037255490842\n",
      "true_value -0.0801\n",
      "0.00606662688908\n",
      "w_delta_out [-0.00091161 -0.00033452  0.00154309]\n",
      "w_delta_hidden [  2.66587178e-05  -5.60906497e-05  -4.45319690e-05]\n",
      "w_delta_bias [ -8.83720010e-05  -8.55226631e-05   2.23375396e-04]\n",
      "output_value 0.0313892543979\n",
      "true_value 0.6837\n",
      "0.189033558495\n",
      "w_delta_out [-0.02705097 -0.01176742  0.04774595]\n",
      "w_delta_hidden [ 0.00066317 -0.00140688 -0.00110768]\n",
      "w_delta_bias [-0.00268646 -0.00259984  0.0067905 ]\n",
      "output_value 0.0193010643583\n",
      "true_value 1.185\n",
      "0.636784462654\n",
      "w_delta_out [-0.07961134 -0.05221414  0.15933769]\n",
      "w_delta_hidden [ 0.00081712 -0.00228608 -0.00134435]\n",
      "w_delta_bias [-0.00865662 -0.00837751  0.02188109]\n",
      "--------------------\n",
      "mlp1.w1 [ 0.22567589 -0.2076412  -0.07388803]\n",
      "mlp1.b [-0.22066236 -0.21354764  0.55776198]\n",
      "mlp1.w2 [ 0.02264598 -0.33830222 -0.00889869]\n"
     ]
    },
    {
     "data": {
      "text/plain": [
       "<matplotlib.collections.PathCollection at 0x7f910078f4d0>"
      ]
     },
     "execution_count": 160,
     "metadata": {},
     "output_type": "execute_result"
    },
    {
     "data": {
      "image/png": "[encoded data removed]",
      "text/plain": [
       "<matplotlib.figure.Figure at 0x7f9101d7c610>"
      ]
     },
     "metadata": {},
     "output_type": "display_data"
    }
   ],
   "source": [
    "\n",
    "mlp1 = mlp(3,-0.5,0.5)\n",
    "learning_rate = 0.5\n",
    "\n",
    "iterations = 9\n",
    "error_ary = np.zeros((iterations,2))\n",
    "\n",
    "print \"mlp1.w1\",mlp1.w1\n",
    "print \"mlp1.b\",mlp1.b\n",
    "print \"mlp1.w2\",mlp1.w2\n",
    "print \"---------------\"\n",
    "for i in range(9):\n",
    "    #date = data[np.random.randint(data.shape[0]),:]\n",
    "    date = data[i,:]\n",
    "    output_value = forward_propagation(mlp1,date[0])\n",
    "    error = output_error( output_value, date[1])\n",
    "    backpropagation(mlp1, date[0], error, learning_rate)\n",
    "    error_ary[i,:] = [i,error]\n",
    "    #print error\n",
    "\n",
    "print \"--------------------\"    \n",
    "print \"mlp1.w1\",mlp1.w1\n",
    "print \"mlp1.b\",mlp1.b\n",
    "print \"mlp1.w2\",mlp1.w2\n",
    " \n",
    "    \n",
    "plt.scatter(error_ary[:,0],error_ary[:,1])\n",
    "#print error_ary"
   ]
  },
  {
   "cell_type": "code",
   "execution_count": 103,
   "metadata": {
    "collapsed": false
   },
   "outputs": [
    {
     "name": "stdout",
     "output_type": "stream",
     "text": [
      "[ -2.42105891e-57   1.30441531e-57   5.83120496e-57]\n",
      "[ 0.9206 -0.2507]\n",
      "[ 0.5359 -0.0468]\n",
      "[ 0.6081 -0.3402]\n",
      "[ 0.0202  0.2857]\n",
      "[ 0.8545 -1.0683]\n",
      "[ 0.2357  0.8605]\n",
      "[ 0.4847 -0.0801]\n",
      "[ 0.3996  0.6837]\n",
      "[ 0.1957  1.185 ]\n",
      "[  0.00000000e+00   0.00000000e+00   0.00000000e+00  -2.22882684e-57\n",
      "   1.20084474e-57   5.36820729e-57  -1.29744547e-57   6.99036165e-58\n",
      "   3.12494274e-57  -1.47224593e-57   7.93214951e-58   3.54595574e-57\n",
      "  -4.89053900e-59   2.63491893e-59   1.17790340e-58  -2.06879484e-57\n",
      "   1.11462288e-57   4.98276464e-57  -5.70643586e-58   3.07450689e-58\n",
      "   1.37441501e-57  -1.17348726e-57   6.32250101e-58   2.82638505e-57\n",
      "  -9.67455142e-58   5.21244358e-58   2.33014950e-57  -4.73801229e-58\n",
      "   2.55274076e-58   1.14116681e-57]\n"
     ]
    }
   ],
   "source": [
    "activation = np.zeros((1,3))\n",
    "print mlp1.w1\n",
    "for date in data:\n",
    "    print date\n",
    "    activation = np.append(activation,mlp1.w1*date[0])\n",
    "print activation"
   ]
  },
  {
   "cell_type": "markdown",
   "metadata": {},
   "source": [
    "### 3.2 Application to a simulated experiment (2 points)"
   ]
  },
  {
   "cell_type": "markdown",
   "metadata": {},
   "source": [
    "### 3.3 Crossvalidation (3 points)"
   ]
  },
  {
   "cell_type": "code",
   "execution_count": null,
   "metadata": {
    "collapsed": true
   },
   "outputs": [],
   "source": []
  }
 ],
 "metadata": {
  "kernelspec": {
   "display_name": "Python 2",
   "language": "python",
   "name": "python2"
  },
  "language_info": {
   "codemirror_mode": {
    "name": "ipython",
    "version": 2
   },
   "file_extension": ".py",
   "mimetype": "text/x-python",
   "name": "python",
   "nbconvert_exporter": "python",
   "pygments_lexer": "ipython2",
   "version": "2.7.10"
  }
 },
 "nbformat": 4,
 "nbformat_minor": 0
}
