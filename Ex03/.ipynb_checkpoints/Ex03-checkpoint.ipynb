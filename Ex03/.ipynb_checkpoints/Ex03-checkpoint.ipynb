{
 "cells": [
  {
   "cell_type": "markdown",
   "metadata": {},
   "source": [
    "# <center>Machine Intelligence 1</center>"
   ]
  },
  {
   "cell_type": "markdown",
   "metadata": {},
   "source": [
    "<h2 align=\"right\">Exercise Sheet 03</h2> "
   ]
  },
  {
   "cell_type": "markdown",
   "metadata": {},
   "source": [
    "<pre style=\"text-align: right\">\n",
    "Gruppe:             \n",
    "                MeSi\n",
    "Autoren:            \n",
    "Jens Meiners\n",
    "Arne Siebenmorgen\n",
    "</pre>"
   ]
  },
  {
   "cell_type": "markdown",
   "metadata": {},
   "source": [
    "#### 3.1 MLP Backpropagation (5 points)"
   ]
  },
  {
   "cell_type": "code",
   "execution_count": 1,
   "metadata": {
    "collapsed": false
   },
   "outputs": [],
   "source": [
    "# imports \n",
    "import numpy as np\n",
    "from numpy import tanh\n",
    "from numpy.random import random"
   ]
  },
  {
   "cell_type": "code",
   "execution_count": 2,
   "metadata": {
    "collapsed": true
   },
   "outputs": [],
   "source": [
    "# basic functions\n",
    "def d_tanh(x):\n",
    "    \"\"\"\n",
    "    the differentiated function of tanh\n",
    "    \"\"\"\n",
    "    return 1.0 - np.power(tanh(x),2)\n",
    "\n",
    "def rand(shape, off=0.5):\n",
    "    \"\"\"\n",
    "    returns a matrix of given shape with random entries in [0,1) - off\n",
    "    \"\"\"\n",
    "    return random(shape)-off\n",
    "\n",
    "def to_matrix(x):\n",
    "    return np.atleast_2d(x)"
   ]
  },
  {
   "cell_type": "code",
   "execution_count": 3,
   "metadata": {
    "collapsed": false
   },
   "outputs": [],
   "source": [
    "class MLP:\n",
    "\n",
    "    def __init__(self, layers):\n",
    "        \"\"\"\n",
    "        initialize with a construction plan like [1,3,1] denoting\n",
    "        one input node, three nodes in the hidden layer and one output node\n",
    "        \"\"\"\n",
    "        # preparing bias weights - add one to every layer but the last.\n",
    "        layers = [layers[i] + 1 for i in range(len(layers))]\n",
    "        layers[-1] -= 1\n",
    "        # initialize weights\n",
    "        self.w = [rand((layers[i], layers[i+1])) for i in range(len(layers) - 1)]\n",
    "\n",
    "    def fit(self, X, y, alpha=0.2, eta=10000, verbose=True):\n",
    "        # for X of shape 2x3 we want to add another column of ones to\n",
    "        # the front resulting in X of shape 2x4 with X[:,0] = 1\n",
    "        X = np.concatenate((np.ones((X.shape[0], 1)), X), axis=1)\n",
    "        \n",
    "        for k in range(eta):\n",
    "            # pick a random example\n",
    "            i = np.random.randint(X.shape[0])\n",
    "            # first feedforward input is the input layer for this pick\n",
    "            feed = [X[i]]\n",
    "            for l in range(len(self.w)):\n",
    "                # feed forward, append this layers result for next iterations input\n",
    "                feed.append(tanh(np.dot(feed[l], self.w[l])))\n",
    "            res = feed[-1]\n",
    "            \n",
    "            # find error; delta\n",
    "            e = y[i] - res\n",
    "            d = [e * d_tanh(res)]\n",
    "\n",
    "            # start right before the ouput layer, iterating backwards to 0\n",
    "            for l in range(len(feed) - 2, 0, -1): \n",
    "                d.append(d[-1].dot(self.w[l].T) * d_tanh(feed[l]))\n",
    "\n",
    "            # weight update\n",
    "            for i in range(len(self.w)):\n",
    "                self.w[i] += alpha * to_matrix(feed[i]).T.dot(to_matrix(d[::-1][i]))\n",
    "            \n",
    "            if verbose:\n",
    "                if k % 1000 == 0: print 'error:', e\n",
    "\n",
    "    def predict(self, x): \n",
    "        feed = np.concatenate((np.ones(1).T, np.array(x)), axis=1)      \n",
    "        for l in range(0, len(self.w)):\n",
    "            feed = tanh(np.dot(feed, self.w[l]))\n",
    "        return feed"
   ]
  },
  {
   "cell_type": "markdown",
   "metadata": {},
   "source": [
    "We could not get the vectorized version to run. Therefor we implemented a stochastic approach that picks a random training point every iteration. the rest should be as requested."
   ]
  },
  {
   "cell_type": "code",
   "execution_count": 4,
   "metadata": {
    "collapsed": false
   },
   "outputs": [
    {
     "data": {
      "text/plain": [
       "<matplotlib.collections.PathCollection at 0x7fc677df0f50>"
      ]
     },
     "execution_count": 4,
     "metadata": {},
     "output_type": "execute_result"
    },
    {
     "data": {
      "image/png": "[encoded data removed]",
      "text/plain": [
       "<matplotlib.figure.Figure at 0x7fc691d4b210>"
      ]
     },
     "metadata": {},
     "output_type": "display_data"
    }
   ],
   "source": [
    "#TODO daten laden\n",
    "from numpy import genfromtxt\n",
    "import matplotlib.pyplot as plt\n",
    "%matplotlib inline\n",
    "\n",
    "data = genfromtxt('RegressionData.txt', delimiter=' ', skip_header=1)\n",
    "\n",
    "#print data\n",
    "\n",
    "plt.scatter(data[:,0],data[:,1])"
   ]
  },
  {
   "cell_type": "code",
   "execution_count": 5,
   "metadata": {
    "collapsed": false
   },
   "outputs": [
    {
     "name": "stdout",
     "output_type": "stream",
     "text": [
      "error: [ 0.25618009]\n",
      "error: [-0.2524938]\n",
      "error: [-0.0773474]\n",
      "error: [ 0.35814913]\n",
      "error: [-0.31317004]\n",
      "error: [ 0.20176643]\n",
      "error: [ 0.10385479]\n",
      "error: [ 0.00751255]\n",
      "error: [-0.46191064]\n",
      "error: [ 0.23773425]\n"
     ]
    },
    {
     "name": "stderr",
     "output_type": "stream",
     "text": [
      "/home/arne/anaconda2/lib/python2.7/site-packages/ipykernel/__main__.py:45: DeprecationWarning: axis != 0 for ndim == 1; this will raise an error in future versions of numpy\n"
     ]
    },
    {
     "data": {
      "text/plain": [
       "[<matplotlib.lines.Line2D at 0x7fc6900a2190>]"
      ]
     },
     "execution_count": 5,
     "metadata": {},
     "output_type": "execute_result"
    },
    {
     "data": {
      "image/png": "[encoded data removed]",
      "text/plain": [
       "<matplotlib.figure.Figure at 0x7fc6900a24d0>"
      ]
     },
     "metadata": {},
     "output_type": "display_data"
    }
   ],
   "source": [
    "mlp = MLP([1,7,7,1])\n",
    "X = to_matrix(data[:,0]).T\n",
    "y = data[:,1]\n",
    "mlp.fit(X, y,alpha=0.5,eta=9999)\n",
    "pred = [mlp.predict([x]) for x in np.arange(0,1,0.01)]\n",
    "\n",
    "plt.scatter(data[:,0],data[:,1])\n",
    "plt.plot(np.arange(0,1,0.01),pred,c='r')"
   ]
  },
  {
   "cell_type": "markdown",
   "metadata": {},
   "source": [
    "#### 3.2 Application to a simulated experiment (2 points)"
   ]
  },
  {
   "cell_type": "code",
   "execution_count": 6,
   "metadata": {
    "collapsed": false
   },
   "outputs": [
    {
     "data": {
      "text/plain": [
       "<matplotlib.collections.PathCollection at 0x7fc677dde950>"
      ]
     },
     "execution_count": 6,
     "metadata": {},
     "output_type": "execute_result"
    },
    {
     "data": {
      "image/png": "[encoded data removed]",
      "text/plain": [
       "<matplotlib.figure.Figure at 0x7fc677d1ac50>"
      ]
     },
     "metadata": {},
     "output_type": "display_data"
    }
   ],
   "source": [
    "data = genfromtxt('simulatedRFmapping.csv', delimiter=',', skip_header=1)\n",
    "# \"normalizing\"\n",
    "data[:,0] = data[:,0] / max(data[:,0])\n",
    "data[:,1] = data[:,1] / max(data[:,1])\n",
    "\n",
    "#print data\n",
    "plt.scatter(data[:,0],data[:,1])"
   ]
  },
  {
   "cell_type": "code",
   "execution_count": 7,
   "metadata": {
    "collapsed": false
   },
   "outputs": [
    {
     "name": "stdout",
     "output_type": "stream",
     "text": [
      "error: [ 0.57534661]\n",
      "error: [-0.2934852]\n",
      "error: [-0.10457817]\n",
      "error: [-0.19791035]\n",
      "error: [-0.05080707]\n",
      "error: [ 0.43611252]\n",
      "error: [-0.04049783]\n",
      "error: [-0.14906903]\n",
      "error: [-0.38179879]\n",
      "error: [-0.00012001]\n"
     ]
    },
    {
     "name": "stderr",
     "output_type": "stream",
     "text": [
      "/home/arne/anaconda2/lib/python2.7/site-packages/ipykernel/__main__.py:45: DeprecationWarning: axis != 0 for ndim == 1; this will raise an error in future versions of numpy\n"
     ]
    },
    {
     "data": {
      "text/plain": [
       "[<matplotlib.lines.Line2D at 0x7fc677dac1d0>]"
      ]
     },
     "execution_count": 7,
     "metadata": {},
     "output_type": "execute_result"
    },
    {
     "data": {
      "image/png": "[encoded data removed]",
      "text/plain": [
       "<matplotlib.figure.Figure at 0x7fc677e9a610>"
      ]
     },
     "metadata": {},
     "output_type": "display_data"
    }
   ],
   "source": [
    "mlp = MLP([1,2,1])\n",
    "X = to_matrix(data[:,0]).T\n",
    "y = data[:,1]\n",
    "mlp.fit(X, y,alpha=0.1,eta=9999)\n",
    "pred = [mlp.predict([x]) for x in np.arange(0,1,0.01)]\n",
    "\n",
    "plt.scatter(data[:,0],data[:,1])\n",
    "plt.plot(np.arange(0,1,0.01),pred,c='r')"
   ]
  },
  {
   "cell_type": "markdown",
   "metadata": {},
   "source": [
    "small number of hidden nodes results in simpler functions"
   ]
  },
  {
   "cell_type": "code",
   "execution_count": 8,
   "metadata": {
    "collapsed": false
   },
   "outputs": [
    {
     "name": "stdout",
     "output_type": "stream",
     "text": [
      "error: [ 0.20066889]\n",
      "error: [-0.13080502]\n",
      "error: [-0.20984956]\n",
      "error: [-0.14065782]\n",
      "error: [-0.30682591]\n",
      "error: [-0.05097179]\n",
      "error: [-0.08887503]\n",
      "error: [-0.27359834]\n",
      "error: [-0.20571314]\n",
      "error: [-0.00356407]\n"
     ]
    },
    {
     "name": "stderr",
     "output_type": "stream",
     "text": [
      "/home/arne/anaconda2/lib/python2.7/site-packages/ipykernel/__main__.py:45: DeprecationWarning: axis != 0 for ndim == 1; this will raise an error in future versions of numpy\n"
     ]
    },
    {
     "data": {
      "text/plain": [
       "[<matplotlib.lines.Line2D at 0x7fc677e33a10>]"
      ]
     },
     "execution_count": 8,
     "metadata": {},
     "output_type": "execute_result"
    },
    {
     "data": {
      "image/png": "[encoded data removed]",
      "text/plain": [
       "<matplotlib.figure.Figure at 0x7fc677b4d290>"
      ]
     },
     "metadata": {},
     "output_type": "display_data"
    }
   ],
   "source": [
    "mlp = MLP([1,5,1])\n",
    "X = to_matrix(data[:,0]).T\n",
    "y = data[:,1]\n",
    "mlp.fit(X, y,alpha=0.2,eta=9999)\n",
    "pred = [mlp.predict([x]) for x in np.arange(0,1,0.01)]\n",
    "\n",
    "plt.scatter(data[:,0],data[:,1])\n",
    "plt.plot(np.arange(0,1,0.01),pred,c='r')"
   ]
  },
  {
   "cell_type": "markdown",
   "metadata": {},
   "source": [
    "Still quite simple, but fitting the data way better"
   ]
  },
  {
   "cell_type": "code",
   "execution_count": 9,
   "metadata": {
    "collapsed": false
   },
   "outputs": [
    {
     "name": "stdout",
     "output_type": "stream",
     "text": [
      "error: [ 0.66842441]\n",
      "error: [ 0.33528771]\n",
      "error: [-0.15202754]\n",
      "error: [ 0.13029194]\n",
      "error: [ 0.04786781]\n",
      "error: [ 0.16924832]\n",
      "error: [-0.06519304]\n",
      "error: [ 0.2041039]\n",
      "error: [ 0.12137285]\n",
      "error: [-0.12933141]\n"
     ]
    },
    {
     "name": "stderr",
     "output_type": "stream",
     "text": [
      "/home/arne/anaconda2/lib/python2.7/site-packages/ipykernel/__main__.py:45: DeprecationWarning: axis != 0 for ndim == 1; this will raise an error in future versions of numpy\n"
     ]
    },
    {
     "data": {
      "text/plain": [
       "[<matplotlib.lines.Line2D at 0x7fc677e33390>]"
      ]
     },
     "execution_count": 9,
     "metadata": {},
     "output_type": "execute_result"
    },
    {
     "data": {
      "image/png": "[encoded data removed]",
      "text/plain": [
       "<matplotlib.figure.Figure at 0x7fc677a704d0>"
      ]
     },
     "metadata": {},
     "output_type": "display_data"
    }
   ],
   "source": [
    "mlp = MLP([1,5,5,5,1])\n",
    "X = to_matrix(data[:,0]).T\n",
    "y = data[:,1]\n",
    "mlp.fit(X, y,alpha=0.2,eta=9999)\n",
    "pred = [mlp.predict([x]) for x in np.arange(0,1,0.01)]\n",
    "\n",
    "plt.scatter(data[:,0],data[:,1])\n",
    "plt.plot(np.arange(0,1,0.01),pred,c='r')"
   ]
  },
  {
   "cell_type": "markdown",
   "metadata": {},
   "source": [
    "adding new hidden layers is the real fun"
   ]
  },
  {
   "cell_type": "markdown",
   "metadata": {},
   "source": [
    "#### 3.3 Crossvalidation (3 points)"
   ]
  },
  {
   "cell_type": "code",
   "execution_count": 214,
   "metadata": {
    "collapsed": false
   },
   "outputs": [
    {
     "data": {
      "text/plain": [
       "<matplotlib.collections.PathCollection at 0x7f0d7d051090>"
      ]
     },
     "execution_count": 214,
     "metadata": {},
     "output_type": "execute_result"
    },
    {
     "data": {
      "image/png": "[encoded data removed]",
      "text/plain": [
       "<matplotlib.figure.Figure at 0x7f0d7cfcdbd0>"
      ]
     },
     "metadata": {},
     "output_type": "display_data"
    }
   ],
   "source": [
    "# create dataset \n",
    "n = 100\n",
    "X = rand((n,1),off=0)\n",
    "mu, sigma = 0, 0.8 # mean and standard deviation\n",
    "e = np.random.normal(mu, sigma, n)\n",
    "y = (np.sin(1.5*np.pi*X.T) + e).T # f(x) = sin(1.5πx) + e\n",
    "plt.scatter(X,y)"
   ]
  },
  {
   "cell_type": "code",
   "execution_count": 215,
   "metadata": {
    "collapsed": false
   },
   "outputs": [
    {
     "name": "stderr",
     "output_type": "stream",
     "text": [
      "/home/jens/Programme/anaconda/lib/python2.7/site-packages/ipykernel/__main__.py:45: DeprecationWarning: axis != 0 for ndim == 1; this will raise an error in future versions of numpy\n"
     ]
    }
   ],
   "source": [
    "data = range(100)\n",
    "num_folds = 5\n",
    "sub = len(data)/num_folds\n",
    "units = [1, 2, 3, 4, 6, 8, 10]\n",
    "accs_test = np.zeros((num_folds,len(units)))\n",
    "accs_train = np.zeros((num_folds,len(units)))\n",
    "\n",
    "for j,n in enumerate(units):\n",
    "    #print 'n',n\n",
    "    for i in range(num_folds):\n",
    "        #print 'i',i\n",
    "        #print 'i',i\n",
    "        test = data[i*sub:][:sub]\n",
    "        #print 'test',test\n",
    "        train = data[:i*sub] + data[(i+1)*sub:]\n",
    "        #print 'train',train\n",
    "        mlp = MLP([1,n,1])\n",
    "\n",
    "        mlp.fit(X[train], y[train],alpha=0.5,eta=9999, verbose=False)\n",
    "        pred = np.array([mlp.predict(x) for x in X[test]])\n",
    "        accs_test[i,j] = abs(pred - y[test]).sum()\n",
    "        pred = np.array([mlp.predict(x) for x in X[train]])\n",
    "        accs_train[i,j] = abs(pred - y[train]).sum()\n",
    "    "
   ]
  },
  {
   "cell_type": "code",
   "execution_count": 216,
   "metadata": {
    "collapsed": false
   },
   "outputs": [
    {
     "name": "stdout",
     "output_type": "stream",
     "text": [
      "test_set prediction\n",
      "hidden units: 1 error: 0.67048134438\n",
      "hidden units: 2 error: 0.690602855844\n",
      "hidden units: 3 error: 0.664069502132\n",
      "hidden units: 4 error: 0.703666381031\n",
      "hidden units: 6 error: 0.7475698108\n",
      "hidden units: 8 error: 0.725496900587\n",
      "hidden units: 10 error: 0.687334595219\n",
      "training set prediction\n",
      "hidden units: 1 error: 0.691527836898\n",
      "hidden units: 2 error: 0.685175242109\n",
      "hidden units: 3 error: 0.660334621689\n",
      "hidden units: 4 error: 0.711752567404\n",
      "hidden units: 6 error: 0.67415650603\n",
      "hidden units: 8 error: 0.71861711926\n",
      "hidden units: 10 error: 0.650131521579\n"
     ]
    }
   ],
   "source": [
    "print 'test_set prediction'\n",
    "for i,e in enumerate(accs_test.mean(0)/20):\n",
    "    print 'hidden units:',units[i],'error:',e\n",
    "print 'training set prediction'\n",
    "for i,e in enumerate(accs_train.mean(0)/80):\n",
    "    print 'hidden units:',units[i],'error:',e"
   ]
  },
  {
   "cell_type": "markdown",
   "metadata": {},
   "source": [
    "As we can see, the error decreases to a minimum at 3 hidden units for the test set prediction while steadily decreasing on the training set.\n",
    "That makes perfectly sense regarding that a higher number of hidden units may overfit the training data and therefor yield bad results on the test set."
   ]
  },
  {
   "cell_type": "code",
   "execution_count": null,
   "metadata": {
    "collapsed": true
   },
   "outputs": [],
   "source": []
  }
 ],
 "metadata": {
  "kernelspec": {
   "display_name": "Python 2",
   "language": "python",
   "name": "python2"
  },
  "language_info": {
   "codemirror_mode": {
    "name": "ipython",
    "version": 2
   },
   "file_extension": ".py",
   "mimetype": "text/x-python",
   "name": "python",
   "nbconvert_exporter": "python",
   "pygments_lexer": "ipython2",
   "version": "2.7.10"
  }
 },
 "nbformat": 4,
 "nbformat_minor": 0
}
