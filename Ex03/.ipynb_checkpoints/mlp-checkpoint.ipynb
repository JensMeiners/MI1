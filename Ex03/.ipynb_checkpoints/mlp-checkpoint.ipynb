{
 "cells": [
  {
   "cell_type": "markdown",
   "metadata": {},
   "source": [
    "# <center>Machine Intelligence 1</center>"
   ]
  },
  {
   "cell_type": "markdown",
   "metadata": {},
   "source": [
    "<h2 align=\"right\">Exercise Sheet 03</h2> "
   ]
  },
  {
   "cell_type": "markdown",
   "metadata": {},
   "source": [
    "<pre style=\"text-align: right\">\n",
    "Gruppe:             \n",
    "                MeSi\n",
    "Autoren:            \n",
    "Jens Meiners\n",
    "Arne Siebenmorgen\n",
    "</pre>"
   ]
  },
  {
   "cell_type": "markdown",
   "metadata": {},
   "source": [
    "### 3.1 MLP Backpropagation (5 points)"
   ]
  },
  {
   "cell_type": "code",
   "execution_count": 1,
   "metadata": {
    "collapsed": true
   },
   "outputs": [],
   "source": [
    "import numpy as np\n",
    "import matplotlib.pyplot as plt\n",
    "\n",
    "%matplotlib inline\n",
    "\n",
    "class mlp:\n",
    "\n",
    "    def __init__(self,hiddenUnits, lower, upper):\n",
    "        self.hiddenUnits = hiddenUnits\n",
    "        self.w1 = np.random.uniform(lower,upper,hiddenUnits) #weights from input to hiddenlayser\n",
    "        self.b = np.random.uniform(lower,upper,hiddenUnits) # bias\n",
    "        self.w2 = np.random.uniform(lower,upper,hiddenUnits)#weights from hiddenlayer to output\n",
    "    \n",
    "    def getOutput(self,x):\n",
    "        sum = 0\n",
    "        for i in range(1,self.hiddenUnits):\n",
    "            sum += self.w1[i]*np.tanh(self.w2[i]*(x-self.b[i]))\n",
    "        return sum\n",
    "    \n",
    "    def getOutputArray(self,x):\n",
    "        result = np.empty(x.size)\n",
    "        for i in range(1,x.size):\n",
    "            result[i] = self.getOutput(x[i])\n",
    "        return result\n",
    "    \n",
    "    "
   ]
  },
  {
   "cell_type": "code",
   "execution_count": 2,
   "metadata": {
    "collapsed": true
   },
   "outputs": [],
   "source": [
    "def forward_propagation(mlp, x):\n",
    "    return mlp.getOutput(x)"
   ]
  },
  {
   "cell_type": "code",
   "execution_count": 3,
   "metadata": {
    "collapsed": true
   },
   "outputs": [],
   "source": [
    "def output_error(output_value, true_value):\n",
    "    print\"output_value\",output_value\n",
    "    print\"true_value\",true_value\n",
    "    return 0.5*np.square((output_value - true_value))\n",
    "    #return output_value*(1-output_value)*(true_value - output_value)"
   ]
  },
  {
   "cell_type": "code",
   "execution_count": 4,
   "metadata": {
    "collapsed": false
   },
   "outputs": [],
   "source": [
    "def backpropagation( mlp, _input, error, learning_rate):\n",
    "    \n",
    "    #output neuron\n",
    "    hidden_layer_input = mlp.w1*np.tanh(_input)-mlp.b # MUSS tanh(_input)??\n",
    "    hidden_layer_output = np.tanh(hidden_layer_input)\n",
    "    output_layer_input = mlp.w2*hidden_layer_output\n",
    "    \n",
    "    sigma = error*(1.0-np.tanh(np.sum(output_layer_input)))\n",
    "    #print sigma\n",
    "    \n",
    "    w_delta_out = -learning_rate * sigma * hidden_layer_output\n",
    "    \n",
    "    w_delta_hidden = -learning_rate * sigma * np.tanh(sum(hidden_layer_input)) * _input *mlp.w2\n",
    "    \n",
    "    w_delta_bias = -learning_rate * sigma * np.tanh(sum(hidden_layer_input)) *mlp.b\n",
    "    \n",
    "    #print \"w_delta_out\", w_delta_out\n",
    "    #print \"w_delta_hidden\", w_delta_hidden\n",
    "    #print \"w_delta_bias\", w_delta_bias\n",
    "    \n",
    "    mlp.w2 += w_delta_out\n",
    "    mlp.w1 += w_delta_hidden\n",
    "    mlp.b += w_delta_bias"
   ]
  },
  {
   "cell_type": "code",
   "execution_count": 5,
   "metadata": {
    "collapsed": false
   },
   "outputs": [
    {
     "data": {
      "text/plain": [
       "<matplotlib.collections.PathCollection at 0x7f76ea6aa950>"
      ]
     },
     "execution_count": 5,
     "metadata": {},
     "output_type": "execute_result"
    },
    {
     "data": {
      "image/png": "[encoded data removed]",
      "text/plain": [
       "<matplotlib.figure.Figure at 0x7f7708e4d690>"
      ]
     },
     "metadata": {},
     "output_type": "display_data"
    }
   ],
   "source": [
    "#TODO daten laden\n",
    "from numpy import genfromtxt\n",
    "data = genfromtxt('RegressionData.txt', delimiter=' ', skip_header=1)\n",
    "\n",
    "#print data\n",
    "\n",
    "plt.scatter(data[:,0],data[:,1])"
   ]
  },
  {
   "cell_type": "code",
   "execution_count": 9,
   "metadata": {
    "collapsed": false
   },
   "outputs": [
    {
     "name": "stdout",
     "output_type": "stream",
     "text": [
      "mlp1.w1 [-0.28020487  0.01355129  0.21753335]\n",
      "mlp1.b [ 0.4705782   0.47968122 -0.39114459]\n",
      "mlp1.w2 [-0.06326318 -0.29387565 -0.12294568]\n",
      "---------------\n",
      "output_value -0.0249106683052\n",
      "true_value -0.0468\n",
      "output_value -0.0249203429348\n",
      "true_value -0.0468\n",
      "output_value -0.0249300101758\n",
      "true_value -0.0468\n",
      "output_value -0.0249396700354\n",
      "true_value -0.0468\n",
      "output_value -0.0249493225207\n",
      "true_value -0.0468\n",
      "output_value -0.024958967639\n",
      "true_value -0.0468\n",
      "output_value -0.0249686053974\n",
      "true_value -0.0468\n",
      "output_value -0.024978235803\n",
      "true_value -0.0468\n",
      "output_value -0.024987858863\n",
      "true_value -0.0468\n",
      "output_value -0.0249974745845\n",
      "true_value -0.0468\n",
      "output_value -0.0250070829746\n",
      "true_value -0.0468\n",
      "output_value -0.0250166840405\n",
      "true_value -0.0468\n",
      "output_value -0.0250262777892\n",
      "true_value -0.0468\n",
      "output_value -0.025035864228\n",
      "true_value -0.0468\n",
      "output_value -0.0250454433638\n",
      "true_value -0.0468\n",
      "output_value -0.0250550152037\n",
      "true_value -0.0468\n",
      "output_value -0.0250645797549\n",
      "true_value -0.0468\n",
      "output_value -0.0250741370245\n",
      "true_value -0.0468\n",
      "output_value -0.0250836870194\n",
      "true_value -0.0468\n",
      "output_value -0.0250932297467\n",
      "true_value -0.0468\n",
      "output_value -0.0251027652136\n",
      "true_value -0.0468\n",
      "output_value -0.0251122934271\n",
      "true_value -0.0468\n",
      "output_value -0.0251218143941\n",
      "true_value -0.0468\n",
      "output_value -0.0251313281218\n",
      "true_value -0.0468\n",
      "output_value -0.0251408346171\n",
      "true_value -0.0468\n",
      "output_value -0.0251503338871\n",
      "true_value -0.0468\n",
      "output_value -0.0251598259388\n",
      "true_value -0.0468\n",
      "output_value -0.0251693107792\n",
      "true_value -0.0468\n",
      "output_value -0.0251787884153\n",
      "true_value -0.0468\n",
      "output_value -0.0251882588541\n",
      "true_value -0.0468\n",
      "output_value -0.0251977221025\n",
      "true_value -0.0468\n",
      "output_value -0.0252071781676\n",
      "true_value -0.0468\n",
      "output_value -0.0252166270563\n",
      "true_value -0.0468\n",
      "output_value -0.0252260687755\n",
      "true_value -0.0468\n",
      "output_value -0.0252355033324\n",
      "true_value -0.0468\n",
      "output_value -0.0252449307336\n",
      "true_value -0.0468\n",
      "output_value -0.0252543509864\n",
      "true_value -0.0468\n",
      "output_value -0.0252637640974\n",
      "true_value -0.0468\n",
      "output_value -0.0252731700738\n",
      "true_value -0.0468\n",
      "output_value -0.0252825689223\n",
      "true_value -0.0468\n",
      "output_value -0.02529196065\n",
      "true_value -0.0468\n",
      "output_value -0.0253013452637\n",
      "true_value -0.0468\n",
      "output_value -0.0253107227703\n",
      "true_value -0.0468\n",
      "output_value -0.0253200931768\n",
      "true_value -0.0468\n",
      "output_value -0.0253294564899\n",
      "true_value -0.0468\n",
      "output_value -0.0253388127166\n",
      "true_value -0.0468\n",
      "output_value -0.0253481618637\n",
      "true_value -0.0468\n",
      "output_value -0.0253575039382\n",
      "true_value -0.0468\n",
      "output_value -0.0253668389468\n",
      "true_value -0.0468\n",
      "output_value -0.0253761668965\n",
      "true_value -0.0468\n",
      "output_value -0.025385487794\n",
      "true_value -0.0468\n",
      "output_value -0.0253948016462\n",
      "true_value -0.0468\n",
      "output_value -0.0254041084599\n",
      "true_value -0.0468\n",
      "output_value -0.025413408242\n",
      "true_value -0.0468\n",
      "output_value -0.0254227009993\n",
      "true_value -0.0468\n",
      "output_value -0.0254319867385\n",
      "true_value -0.0468\n",
      "output_value -0.0254412654665\n",
      "true_value -0.0468\n",
      "output_value -0.02545053719\n",
      "true_value -0.0468\n",
      "output_value -0.0254598019159\n",
      "true_value -0.0468\n",
      "output_value -0.0254690596509\n",
      "true_value -0.0468\n",
      "output_value -0.0254783104018\n",
      "true_value -0.0468\n",
      "output_value -0.0254875541754\n",
      "true_value -0.0468\n",
      "output_value -0.0254967909785\n",
      "true_value -0.0468\n",
      "output_value -0.0255060208177\n",
      "true_value -0.0468\n",
      "output_value -0.0255152436998\n",
      "true_value -0.0468\n",
      "output_value -0.0255244596316\n",
      "true_value -0.0468\n",
      "output_value -0.0255336686198\n",
      "true_value -0.0468\n",
      "output_value -0.0255428706711\n",
      "true_value -0.0468\n",
      "output_value -0.0255520657922\n",
      "true_value -0.0468\n",
      "output_value -0.0255612539899\n",
      "true_value -0.0468\n",
      "output_value -0.0255704352709\n",
      "true_value -0.0468\n",
      "output_value -0.0255796096418\n",
      "true_value -0.0468\n",
      "output_value -0.0255887771093\n",
      "true_value -0.0468\n",
      "output_value -0.0255979376802\n",
      "true_value -0.0468\n",
      "output_value -0.025607091361\n",
      "true_value -0.0468\n",
      "output_value -0.0256162381585\n",
      "true_value -0.0468\n",
      "output_value -0.0256253780794\n",
      "true_value -0.0468\n",
      "output_value -0.0256345111302\n",
      "true_value -0.0468\n",
      "output_value -0.0256436373176\n",
      "true_value -0.0468\n",
      "output_value -0.0256527566484\n",
      "true_value -0.0468\n",
      "output_value -0.025661869129\n",
      "true_value -0.0468\n",
      "output_value -0.0256709747662\n",
      "true_value -0.0468\n",
      "output_value -0.0256800735665\n",
      "true_value -0.0468\n",
      "output_value -0.0256891655366\n",
      "true_value -0.0468\n",
      "output_value -0.0256982506831\n",
      "true_value -0.0468\n",
      "output_value -0.0257073290125\n",
      "true_value -0.0468\n",
      "output_value -0.0257164005316\n",
      "true_value -0.0468\n",
      "output_value -0.0257254652467\n",
      "true_value -0.0468\n",
      "output_value -0.0257345231647\n",
      "true_value -0.0468\n",
      "output_value -0.0257435742919\n",
      "true_value -0.0468\n",
      "--------------------\n",
      "mlp1.w1 [-0.28036411  0.01278649  0.21720562]\n",
      "mlp1.b [ 0.47288489  0.48203253 -0.39306191]\n",
      "mlp1.w2 [-0.05821271 -0.28977033 -0.12722998]\n"
     ]
    },
    {
     "data": {
      "text/plain": [
       "<matplotlib.collections.PathCollection at 0x7f76ea750a90>"
      ]
     },
     "execution_count": 9,
     "metadata": {},
     "output_type": "execute_result"
    },
    {
     "data": {
      "image/png": "[encoded data removed]",
      "text/plain": [
       "<matplotlib.figure.Figure at 0x7f76ea55d150>"
      ]
     },
     "metadata": {},
     "output_type": "display_data"
    }
   ],
   "source": [
    "\n",
    "mlp1 = mlp(3,-0.5,0.5)\n",
    "learning_rate = 0.5\n",
    "\n",
    "iterations = 90\n",
    "error_ary = np.zeros((iterations,2))\n",
    "\n",
    "print \"mlp1.w1\",mlp1.w1\n",
    "print \"mlp1.b\",mlp1.b\n",
    "print \"mlp1.w2\",mlp1.w2\n",
    "print \"---------------\"\n",
    "for i in range(iterations):\n",
    "    #date = data[np.random.randint(data.shape[0]),:]\n",
    "    date = data[1,:]\n",
    "    output_value = forward_propagation(mlp1,date[0])\n",
    "    error = output_error( output_value, date[1])\n",
    "    backpropagation(mlp1, date[0], error, learning_rate)\n",
    "    error_ary[i,:] = [i,error]\n",
    "    #print error\n",
    "\n",
    "print \"--------------------\"    \n",
    "print \"mlp1.w1\",mlp1.w1\n",
    "print \"mlp1.b\",mlp1.b\n",
    "print \"mlp1.w2\",mlp1.w2\n",
    " \n",
    "    \n",
    "plt.scatter(error_ary[:,0],error_ary[:,1])\n",
    "#print error_ary"
   ]
  },
  {
   "cell_type": "code",
   "execution_count": 103,
   "metadata": {
    "collapsed": false
   },
   "outputs": [
    {
     "name": "stdout",
     "output_type": "stream",
     "text": [
      "[ -2.42105891e-57   1.30441531e-57   5.83120496e-57]\n",
      "[ 0.9206 -0.2507]\n",
      "[ 0.5359 -0.0468]\n",
      "[ 0.6081 -0.3402]\n",
      "[ 0.0202  0.2857]\n",
      "[ 0.8545 -1.0683]\n",
      "[ 0.2357  0.8605]\n",
      "[ 0.4847 -0.0801]\n",
      "[ 0.3996  0.6837]\n",
      "[ 0.1957  1.185 ]\n",
      "[  0.00000000e+00   0.00000000e+00   0.00000000e+00  -2.22882684e-57\n",
      "   1.20084474e-57   5.36820729e-57  -1.29744547e-57   6.99036165e-58\n",
      "   3.12494274e-57  -1.47224593e-57   7.93214951e-58   3.54595574e-57\n",
      "  -4.89053900e-59   2.63491893e-59   1.17790340e-58  -2.06879484e-57\n",
      "   1.11462288e-57   4.98276464e-57  -5.70643586e-58   3.07450689e-58\n",
      "   1.37441501e-57  -1.17348726e-57   6.32250101e-58   2.82638505e-57\n",
      "  -9.67455142e-58   5.21244358e-58   2.33014950e-57  -4.73801229e-58\n",
      "   2.55274076e-58   1.14116681e-57]\n"
     ]
    }
   ],
   "source": [
    "activation = np.zeros((1,3))\n",
    "print mlp1.w1\n",
    "for date in data:\n",
    "    print date\n",
    "    activation = np.append(activation,mlp1.w1*date[0])\n",
    "print activation"
   ]
  },
  {
   "cell_type": "markdown",
   "metadata": {},
   "source": [
    "### 3.2 Application to a simulated experiment (2 points)"
   ]
  },
  {
   "cell_type": "markdown",
   "metadata": {},
   "source": [
    "### 3.3 Crossvalidation (3 points)"
   ]
  },
  {
   "cell_type": "code",
   "execution_count": null,
   "metadata": {
    "collapsed": true
   },
   "outputs": [],
   "source": []
  }
 ],
 "metadata": {
  "kernelspec": {
   "display_name": "Python 2",
   "language": "python",
   "name": "python2"
  },
  "language_info": {
   "codemirror_mode": {
    "name": "ipython",
    "version": 2
   },
   "file_extension": ".py",
   "mimetype": "text/x-python",
   "name": "python",
   "nbconvert_exporter": "python",
   "pygments_lexer": "ipython2",
   "version": "2.7.10"
  }
 },
 "nbformat": 4,
 "nbformat_minor": 0
}
