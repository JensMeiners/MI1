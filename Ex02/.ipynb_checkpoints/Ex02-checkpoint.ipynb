{
 "metadata": {
  "name": "",
  "signature": "sha256:c31076a9eb4f4d916ae2c3a9709c29878c2661d23edd6114e9df7452dd409b81"
 },
 "nbformat": 3,
 "nbformat_minor": 0,
 "worksheets": [
  {
   "cells": [
    {
     "cell_type": "heading",
     "level": 1,
     "metadata": {},
     "source": [
      "<center>Machine Intelligence 1</center>"
     ]
    },
    {
     "cell_type": "markdown",
     "metadata": {},
     "source": [
      "<h2 align=\"right\">Exercise Sheet 02</h2> "
     ]
    },
    {
     "cell_type": "markdown",
     "metadata": {},
     "source": [
      "<pre style=\"text-align: right\">\n",
      "Gruppe:             \n",
      "                MeSi\n",
      "Autoren:            \n",
      "Jens Meiners\n",
      "Arne Siebenmorgen\n",
      "</pre>"
     ]
    },
    {
     "cell_type": "heading",
     "level": 6,
     "metadata": {},
     "source": [
      "2.1 Terminology (2 points)"
     ]
    },
    {
     "cell_type": "code",
     "collapsed": false,
     "input": [],
     "language": "python",
     "metadata": {},
     "outputs": [],
     "prompt_number": 2
    },
    {
     "cell_type": "heading",
     "level": 6,
     "metadata": {},
     "source": [
      "2.2 Finding Parameters of a Connectionist Neuron (5 points)"
     ]
    },
    {
     "cell_type": "code",
     "collapsed": false,
     "input": [],
     "language": "python",
     "metadata": {},
     "outputs": [],
     "prompt_number": 2
    },
    {
     "cell_type": "heading",
     "level": 6,
     "metadata": {},
     "source": [
      "2.3 Multi Layer Perceptrons (3 points)"
     ]
    },
    {
     "cell_type": "code",
     "collapsed": false,
     "input": [],
     "language": "python",
     "metadata": {},
     "outputs": []
    }
   ],
   "metadata": {}
  }
 ]
}