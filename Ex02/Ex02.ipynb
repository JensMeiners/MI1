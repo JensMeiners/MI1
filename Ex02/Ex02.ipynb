{
 "metadata": {
  "name": "",
  "signature": "sha256:c1b95ac65ee299b0e450657d4c24ef786cb8aa1b4fcbc9b8f41daa5e7bcf7745"
 },
 "nbformat": 3,
 "nbformat_minor": 0,
 "worksheets": [
  {
   "cells": [
    {
     "cell_type": "heading",
     "level": 1,
     "metadata": {},
     "source": [
      "<center>Machine Intelligence 1</center>"
     ]
    },
    {
     "cell_type": "markdown",
     "metadata": {},
     "source": [
      "<h2 align=\"right\">Exercise Sheet 02</h2> "
     ]
    },
    {
     "cell_type": "markdown",
     "metadata": {},
     "source": [
      "<pre style=\"text-align: right\">\n",
      "Gruppe:             \n",
      "                MeSi\n",
      "Autoren:            \n",
      "Jens Meiners\n",
      "Arne Siebenmorgen\n",
      "</pre>"
     ]
    },
    {
     "cell_type": "heading",
     "level": 3,
     "metadata": {},
     "source": [
      "2.1 Terminology (2 points)"
     ]
    },
    {
     "cell_type": "markdown",
     "metadata": {},
     "source": []
    },
    {
     "cell_type": "heading",
     "level": 3,
     "metadata": {},
     "source": [
      "2.2 Finding Parameters of a Connectionist Neuron (5 points)"
     ]
    },
    {
     "cell_type": "heading",
     "level": 6,
     "metadata": {},
     "source": [
      "a) Plot the Data"
     ]
    },
    {
     "cell_type": "code",
     "collapsed": false,
     "input": [
      "# load the data into a numpy array\n",
      "import numpy as np\n",
      "from numpy import genfromtxt\n",
      "\n",
      "data = genfromtxt('applesOranges.csv', delimiter=',', skip_header=1)\n",
      "print 'data.shape:',data.shape\n",
      "x1,x2,y = data[:,0],data[:,1],data[:,2]\n",
      "print 'x1.shape:  ',x1.shape"
     ],
     "language": "python",
     "metadata": {},
     "outputs": [
      {
       "output_type": "stream",
       "stream": "stdout",
       "text": [
        "data.shape: (200, 3)\n",
        "x1.shape:   (200,)\n"
       ]
      }
     ],
     "prompt_number": 11
    },
    {
     "cell_type": "code",
     "collapsed": false,
     "input": [
      "# start plotting\n",
      "%matplotlib inline\n",
      "\n",
      "import matplotlib.pyplot as plt"
     ],
     "language": "python",
     "metadata": {},
     "outputs": [],
     "prompt_number": 12
    },
    {
     "cell_type": "code",
     "collapsed": false,
     "input": [
      "plt.scatter(x1[y==0], x2[y==0],color='blue')\n",
      "plt.scatter(x1[y==1], x2[y==1],color='red')"
     ],
     "language": "python",
     "metadata": {},
     "outputs": [
      {
       "metadata": {},
       "output_type": "pyout",
       "prompt_number": 16,
       "text": [
        "<matplotlib.collections.PathCollection at 0x7fa781572390>"
       ]
      },
      {
       "metadata": {},
       "output_type": "display_data",
       "png": "[encoded data removed]",
       "text": [
        "<matplotlib.figure.Figure at 0x7fa7815d1ed0>"
       ]
      }
     ],
     "prompt_number": 16
    },
    {
     "cell_type": "heading",
     "level": 6,
     "metadata": {},
     "source": [
      "b)"
     ]
    },
    {
     "cell_type": "markdown",
     "metadata": {},
     "source": [
      "find $w_\\alpha$ using $\\vec a \\cdot \\vec b = \\|\\vec a\\|\\, \\|\\vec b\\|\\,\\cos\\sphericalangle(\\vec a, \\vec b)$.\n",
      "with $\\alpha$ being the angle between $w_\\alpha$ and $\\left(\\begin{array}{c}1\\\\0\\\\\\end{array}\\right)$. <br>\n",
      "also $\\|\\vec w_\\alpha\\| = \\|\\left(\\begin{array}{c}1\\\\0\\\\\\end{array}\\right)\\| = 1$<br>\n",
      "for $\\left(\\begin{array}{c}w_1\\\\w_2\\\\\\end{array}\\right) = w_\\alpha$ <br>\n",
      "define $w_1 = cos(\\alpha)$ using the constraint that we rotate counter-clockwise<br>\n",
      "and therefor: $w_2 = \\sqrt{1 - w_1^2}$"
     ]
    },
    {
     "cell_type": "code",
     "collapsed": false,
     "input": [
      "def get_w(alpha):\n",
      "    w1 = np.cos(np.radians(alpha))\n",
      "    w = np.array([w1, \\\n",
      "                  np.sqrt(1-np.power(w1,2))])\n",
      "    return w"
     ],
     "language": "python",
     "metadata": {},
     "outputs": [],
     "prompt_number": 24
    },
    {
     "cell_type": "code",
     "collapsed": false,
     "input": [
      "alpha = np.arange(0,181,10)\n",
      "w = get_w(alpha)\n",
      "plt.scatter(w[0],w[1])"
     ],
     "language": "python",
     "metadata": {},
     "outputs": [
      {
       "metadata": {},
       "output_type": "pyout",
       "prompt_number": 43,
       "text": [
        "<matplotlib.collections.PathCollection at 0x7fa78139f3d0>"
       ]
      },
      {
       "metadata": {},
       "output_type": "display_data",
       "png": "[encoded data removed]",
       "text": [
        "<matplotlib.figure.Figure at 0x7fa781744410>"
       ]
      }
     ],
     "prompt_number": 43
    },
    {
     "cell_type": "markdown",
     "metadata": {},
     "source": [
      "For each $w_\\alpha$ calculate the percentage of correct classifications $p$."
     ]
    },
    {
     "cell_type": "code",
     "collapsed": false,
     "input": [
      "def f(x,w,theta):\n",
      "    return np.sign(w.T.dot(x) - theta)\n",
      "\n",
      "# if f(x) == 1 the class '1' was predicted correctly.\n",
      "# for the other class y==0, f(x) predicts -1.\n",
      "# the result ot the classifications is a boolean array that python neatly sums up for us.\n",
      "# afterwards devide by 200 and multiply by 100 to result in percentage\n",
      "p = (f([x1,x2],w,0) == 1).sum(1) / 2\n",
      "print p\n",
      "print 'maximum percentage is reached at ',str(alpha[np.argmax(p)])+'\u00b0 with',max(p),'%'"
     ],
     "language": "python",
     "metadata": {},
     "outputs": [
      {
       "output_type": "stream",
       "stream": "stdout",
       "text": [
        "[67 70 72 74 77 75 73 70 69 67 64 61 55 53 51 47 44 37 32]\n",
        "maximum percentage is reached at  40\u00b0 with 77 %\n"
       ]
      }
     ],
     "prompt_number": 48
    },
    {
     "cell_type": "markdown",
     "metadata": {},
     "source": [
      "plot $p$ corresponding to $\\alpha$"
     ]
    },
    {
     "cell_type": "code",
     "collapsed": false,
     "input": [
      "plt.plot(alpha,p)"
     ],
     "language": "python",
     "metadata": {},
     "outputs": [
      {
       "metadata": {},
       "output_type": "pyout",
       "prompt_number": 50,
       "text": [
        "[<matplotlib.lines.Line2D at 0x7fa7811cd3d0>]"
       ]
      },
      {
       "metadata": {},
       "output_type": "display_data",
       "png": "[encoded data removed]",
       "text": [
        "<matplotlib.figure.Figure at 0x7fa781536c90>"
       ]
      }
     ],
     "prompt_number": 50
    },
    {
     "cell_type": "heading",
     "level": 3,
     "metadata": {},
     "source": [
      "2.3 Multi Layer Perceptrons (3 points)"
     ]
    },
    {
     "cell_type": "markdown",
     "metadata": {},
     "source": []
    }
   ],
   "metadata": {}
  }
 ]
}