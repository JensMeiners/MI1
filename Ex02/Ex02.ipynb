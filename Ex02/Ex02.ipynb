{
 "metadata": {
  "name": "",
  "signature": "sha256:280d9d122fb5007b31a1df7a9f12281953a9d13c1797d093af86b99365abbc87"
 },
 "nbformat": 3,
 "nbformat_minor": 0,
 "worksheets": [
  {
   "cells": [
    {
     "cell_type": "heading",
     "level": 1,
     "metadata": {},
     "source": [
      "<center>Machine Intelligence 1</center>"
     ]
    },
    {
     "cell_type": "markdown",
     "metadata": {},
     "source": [
      "<h2 align=\"right\">Exercise Sheet 02</h2> "
     ]
    },
    {
     "cell_type": "markdown",
     "metadata": {},
     "source": [
      "<pre style=\"text-align: right\">\n",
      "Gruppe:             \n",
      "                MeSi\n",
      "Autoren:            \n",
      "Jens Meiners\n",
      "Arne Siebenmorgen\n",
      "</pre>"
     ]
    },
    {
     "cell_type": "heading",
     "level": 3,
     "metadata": {},
     "source": [
      "2.1 Terminology (2 points)"
     ]
    },
    {
     "cell_type": "markdown",
     "metadata": {},
     "source": []
    },
    {
     "cell_type": "heading",
     "level": 3,
     "metadata": {},
     "source": [
      "2.2 Finding Parameters of a Connectionist Neuron (5 points)"
     ]
    },
    {
     "cell_type": "heading",
     "level": 6,
     "metadata": {},
     "source": [
      "a) Plot the Data"
     ]
    },
    {
     "cell_type": "code",
     "collapsed": false,
     "input": [
      "# load the data into a numpy array\n",
      "import numpy as np\n",
      "from numpy import genfromtxt\n",
      "\n",
      "data = genfromtxt('applesOranges.csv', delimiter=',', skip_header=1)\n",
      "print 'data.shape:',data.shape\n",
      "x1,x2,y = data[:,0],data[:,1],data[:,2]\n",
      "print 'x1.shape:  ',x1.shape"
     ],
     "language": "python",
     "metadata": {},
     "outputs": [
      {
       "output_type": "stream",
       "stream": "stdout",
       "text": [
        "data.shape: (200, 3)\n",
        "x1.shape:   (200,)\n"
       ]
      }
     ],
     "prompt_number": 11
    },
    {
     "cell_type": "code",
     "collapsed": false,
     "input": [
      "# start plotting\n",
      "%matplotlib inline\n",
      "\n",
      "import matplotlib.pyplot as plt"
     ],
     "language": "python",
     "metadata": {},
     "outputs": [],
     "prompt_number": 12
    },
    {
     "cell_type": "code",
     "collapsed": false,
     "input": [
      "plt.scatter(x1[y==0], x2[y==0],color='blue')\n",
      "plt.scatter(x1[y==1], x2[y==1],color='red')"
     ],
     "language": "python",
     "metadata": {},
     "outputs": [
      {
       "metadata": {},
       "output_type": "pyout",
       "prompt_number": 16,
       "text": [
        "<matplotlib.collections.PathCollection at 0x7fa781572390>"
       ]
      },
      {
       "metadata": {},
       "output_type": "display_data",
       "png": "[encoded data removed]",
       "text": [
        "<matplotlib.figure.Figure at 0x7fa7815d1ed0>"
       ]
      }
     ],
     "prompt_number": 16
    },
    {
     "cell_type": "heading",
     "level": 6,
     "metadata": {},
     "source": [
      "b)"
     ]
    },
    {
     "cell_type": "markdown",
     "metadata": {},
     "source": [
      "find $w_\\alpha$ using $\\vec a \\cdot \\vec b = \\|\\vec a\\|\\, \\|\\vec b\\|\\,\\cos\\sphericalangle(\\vec a, \\vec b)$.\n",
      "with $\\alpha$ being the angle between $w_\\alpha$ and $\\left(\\begin{array}{c}1\\\\0\\\\\\end{array}\\right)$. <br>\n",
      "also $\\|\\vec w_\\alpha\\| = \\|\\left(\\begin{array}{c}1\\\\0\\\\\\end{array}\\right)\\| = 1$<br>\n",
      "for $\\left(\\begin{array}{c}w_1\\\\w_2\\\\\\end{array}\\right) = w_\\alpha$ <br>\n",
      "define $w_1 = cos(\\alpha)$ using the constraint that we rotate counter-clockwise<br>\n",
      "and therefor: $w_2 = \\sqrt{1 - w_1^2}$"
     ]
    },
    {
     "cell_type": "code",
     "collapsed": false,
     "input": [
      "def get_w(alpha):\n",
      "    w1 = np.cos(np.radians(alpha))\n",
      "    w = np.array([w1, \\\n",
      "                  np.sqrt(1-np.power(w1,2))])\n",
      "    return w"
     ],
     "language": "python",
     "metadata": {},
     "outputs": [],
     "prompt_number": 24
    },
    {
     "cell_type": "code",
     "collapsed": false,
     "input": [
      "alpha = np.arange(0,181,10)\n",
      "w = get_w(alpha)\n",
      "plt.scatter(w[0],w[1])"
     ],
     "language": "python",
     "metadata": {},
     "outputs": [
      {
       "metadata": {},
       "output_type": "pyout",
       "prompt_number": 43,
       "text": [
        "<matplotlib.collections.PathCollection at 0x7fa78139f3d0>"
       ]
      },
      {
       "metadata": {},
       "output_type": "display_data",
       "png": "[encoded data removed]",
       "text": [
        "<matplotlib.figure.Figure at 0x7fa781744410>"
       ]
      }
     ],
     "prompt_number": 43
    },
    {
     "cell_type": "markdown",
     "metadata": {},
     "source": [
      "For each $w_\\alpha$ calculate the percentage of correct classifications $p$."
     ]
    },
    {
     "cell_type": "code",
     "collapsed": false,
     "input": [
      "def f(x,w,theta):\n",
      "    return np.sign(w.T.dot(x) - theta)\n",
      "\n",
      "# f(x) predicts the classes -1 and 1. transform y accordingly\n",
      "y[y==0] = -1\n",
      "\n",
      "# the result ot the classifications is a boolean array that python neatly sums up for us.\n",
      "# afterwards devide by 200 and multiply by 100 to result in percentage\n",
      "p = (f([x1,x2],w,0) == y).sum(1) / 2\n",
      "print p\n",
      "print 'maximum percentage is reached at ',str(alpha[np.argmax(p)])+'\u00b0 with',max(p),'%'"
     ],
     "language": "python",
     "metadata": {},
     "outputs": [
      {
       "output_type": "stream",
       "stream": "stdout",
       "text": [
        "[67 70 76 74 71 73 75 75 72 69 63 60 56 52 50 46 42 35 32]\n",
        "maximum percentage is reached at  20\u00b0 with 76 %\n"
       ]
      }
     ],
     "prompt_number": 68
    },
    {
     "cell_type": "markdown",
     "metadata": {},
     "source": [
      "plot $p$ corresponding to $\\alpha$"
     ]
    },
    {
     "cell_type": "code",
     "collapsed": false,
     "input": [
      "plt.plot(alpha,p)\n",
      "plt.xlabel('alpha in degree')\n",
      "plt.ylabel('percentage of correct classification')"
     ],
     "language": "python",
     "metadata": {},
     "outputs": [
      {
       "metadata": {},
       "output_type": "pyout",
       "prompt_number": 69,
       "text": [
        "<matplotlib.text.Text at 0x7fa780edadd0>"
       ]
      },
      {
       "metadata": {},
       "output_type": "display_data",
       "png": "[encoded data removed]",
       "text": [
        "<matplotlib.figure.Figure at 0x7fa7814161d0>"
       ]
      }
     ],
     "prompt_number": 69
    },
    {
     "cell_type": "heading",
     "level": 6,
     "metadata": {},
     "source": [
      "c)"
     ]
    },
    {
     "cell_type": "markdown",
     "metadata": {},
     "source": [
      "vary $\\theta \\in [-3,3]$ and find the best value for prediction"
     ]
    },
    {
     "cell_type": "code",
     "collapsed": false,
     "input": [
      "best_w = w[:,np.argmax(p)]"
     ],
     "language": "python",
     "metadata": {},
     "outputs": [],
     "prompt_number": 70
    },
    {
     "cell_type": "code",
     "collapsed": false,
     "input": [
      "thetas = np.arange(-3,3.1,0.1)\n",
      "\n",
      "p = [(f([x1,x2],best_w,theta) == y).sum() / 2 for theta in thetas]\n",
      "print p\n",
      "best_theta = thetas[np.argmax(p)]\n",
      "print 'maximum percentage is reached at theta ',best_theta,' with',max(p),'%'"
     ],
     "language": "python",
     "metadata": {},
     "outputs": [
      {
       "output_type": "stream",
       "stream": "stdout",
       "text": [
        "[50, 50, 50, 50, 50, 50, 50, 50, 50, 50, 50, 50, 50, 50, 50, 50, 50, 50, 50, 50, 50, 50, 51, 51, 52, 52, 57, 61, 65, 69, 76, 77, 79, 78, 76, 75, 73, 68, 64, 62, 57, 55, 53, 51, 51, 51, 50, 50, 50, 50, 50, 50, 50, 50, 50, 50, 50, 50, 50, 50, 50]\n",
        "maximum percentage is reached at theta  0.2  with 79 %\n"
       ]
      }
     ],
     "prompt_number": 75
    },
    {
     "cell_type": "heading",
     "level": 3,
     "metadata": {},
     "source": [
      "2.3 Multi Layer Perceptrons (3 points)"
     ]
    },
    {
     "cell_type": "markdown",
     "metadata": {},
     "source": []
    }
   ],
   "metadata": {}
  }
 ]
}