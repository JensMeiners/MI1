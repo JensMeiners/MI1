{
 "cells": [
  {
   "cell_type": "code",
   "execution_count": 98,
   "metadata": {
    "collapsed": false
   },
   "outputs": [],
   "source": [
    "import numpy as np\n",
    "import matplotlib.pyplot as plt\n",
    "%matplotlib inline\n",
    "\n",
    "training_data = np.array(((-1.0,-0.1),(0.3,0.5),(2.0,0.5)))"
   ]
  },
  {
   "cell_type": "code",
   "execution_count": 2,
   "metadata": {
    "collapsed": false
   },
   "outputs": [
    {
     "name": "stdout",
     "output_type": "stream",
     "text": [
      "[[-1.  -0.1]\n",
      " [ 0.3  0.5]\n",
      " [ 2.   0.5]]\n"
     ]
    }
   ],
   "source": [
    "print training_data"
   ]
  },
  {
   "cell_type": "code",
   "execution_count": 66,
   "metadata": {
    "collapsed": true
   },
   "outputs": [],
   "source": [
    "def output_neuron(w,x):   \n",
    "    x = np.vstack((np.ones(x.shape),x))   \n",
    "    return np.dot(w.T,x)"
   ]
  },
  {
   "cell_type": "code",
   "execution_count": 75,
   "metadata": {
    "collapsed": false
   },
   "outputs": [],
   "source": [
    "def error(w, traning_data):\n",
    "    simple_error = output_neuron(w,training_data[:,0])-training_data[:,1]\n",
    "    return 0.5*np.dot(simple_error,simple_error.T)  "
   ]
  },
  {
   "cell_type": "code",
   "execution_count": 76,
   "metadata": {
    "collapsed": false
   },
   "outputs": [],
   "source": [
    "def grad(w, training_data):\n",
    "    x = np.vstack((np.ones(training_data[:,0].shape),training_data[:,0])) \n",
    "    h = np.dot(x,x.T)\n",
    "    b = np.asmatrix(np.dot(-x,training_data[:,1].T)).T #da gibt es bestimmt einen schöneren weg?\n",
    "    return h.dot(w)+b"
   ]
  },
  {
   "cell_type": "code",
   "execution_count": 77,
   "metadata": {
    "collapsed": false
   },
   "outputs": [
    {
     "name": "stdout",
     "output_type": "stream",
     "text": [
      "a [[ 1.11525745  0.30884998 -0.74568286]]\n",
      "error [[ 1.5325574]]\n"
     ]
    }
   ],
   "source": [
    "weights = np.random.uniform(-1,1,(1,2)).T\n",
    "\n",
    "x = training_data[:,0]\n",
    "\n",
    "a = output_neuron(weights, x)\n",
    "\n",
    "print \"a\",a\n",
    "\n",
    "err = error(weights, training_data)\n",
    "\n",
    "print \"error\", err\n",
    "\n",
    "#g = grad(weights, training_data)\n",
    "\n",
    "#print \"grad\", g\n"
   ]
  },
  {
   "cell_type": "markdown",
   "metadata": {
    "collapsed": true
   },
   "source": [
    "###### 4.1 Regular and Conjugate Gradient"
   ]
  },
  {
   "cell_type": "markdown",
   "metadata": {},
   "source": [
    "*a) Gradient Descent*"
   ]
  },
  {
   "cell_type": "code",
   "execution_count": 112,
   "metadata": {
    "collapsed": false
   },
   "outputs": [
    {
     "name": "stdout",
     "output_type": "stream",
     "text": [
      "[[-0.05996512]\n",
      " [ 0.19503981]]\n",
      "[[ 0.15217145]]\n",
      "[[ 0.05732204]]\n"
     ]
    },
    {
     "data": {
      "text/plain": [
       "<matplotlib.collections.PathCollection at 0x7f88bde31310>"
      ]
     },
     "execution_count": 112,
     "metadata": {},
     "output_type": "execute_result"
    },
    {
     "data": {
      "image/png": "[encoded data removed]",
      "text/plain": [
       "<matplotlib.figure.Figure at 0x7f88be2700d0>"
      ]
     },
     "metadata": {},
     "output_type": "display_data"
    }
   ],
   "source": [
    "def gradient_descent(w, training_data, eta=0.2):\n",
    "    return w-eta*grad(w,training_data)\n",
    "\n",
    "weights = np.random.uniform(-1,1,(1,2)).T\n",
    "print weights\n",
    "\n",
    "weight_hist_grad_desc = weights\n",
    "\n",
    "\n",
    "err = error(weights, training_data)\n",
    "print err\n",
    "\n",
    "for i in range(30):\n",
    "    weights = gradient_descent(weights,training_data,0.01)\n",
    "    #print weights\n",
    "    weight_hist_grad_desc = np.concatenate((weight_hist_grad_desc,weights), axis=1)\n",
    "\n",
    "err = error(weights, training_data)\n",
    "print err\n",
    "#print \"weight_hist_grad_desc\", weight_hist_grad_desc\n",
    "\n",
    "plt.scatter(weight_hist_grad_desc[0,:],weight_hist_grad_desc[1,:])\n",
    "    "
   ]
  },
  {
   "cell_type": "markdown",
   "metadata": {},
   "source": [
    "*b) Line Search*"
   ]
  },
  {
   "cell_type": "code",
   "execution_count": 123,
   "metadata": {
    "collapsed": false
   },
   "outputs": [
    {
     "name": "stdout",
     "output_type": "stream",
     "text": [
      "[[-0.44828545]\n",
      " [-0.64184263]]\n",
      "[[ 3.18469046]]\n",
      "[[  1.29090165e+181]]\n"
     ]
    },
    {
     "data": {
      "text/plain": [
       "<matplotlib.collections.PathCollection at 0x7f88bdba8710>"
      ]
     },
     "execution_count": 123,
     "metadata": {},
     "output_type": "execute_result"
    },
    {
     "data": {
      "image/png": "[encoded data removed]",
      "text/plain": [
       "<matplotlib.figure.Figure at 0x7f88bdc23b10>"
      ]
     },
     "metadata": {},
     "output_type": "display_data"
    }
   ],
   "source": [
    "def line_search(w,training_data):\n",
    "    g = grad(w,training_data)\n",
    "    x = np.vstack((np.ones(training_data[:,0].shape),training_data[:,0])) \n",
    "    h = np.dot(x,x.T)\n",
    "    eta = - (g.T*g)/(g.T*h*g)\n",
    "    return w-eta[0,0]*g\n",
    "\n",
    "\n",
    "weights = np.random.uniform(-1,1,(1,2)).T\n",
    "print weights\n",
    "\n",
    "weight_hist_line_search = weights\n",
    "\n",
    "\n",
    "err = error(weights, training_data)\n",
    "print err\n",
    "\n",
    "for i in range(300):\n",
    "    weights = line_search(weights,training_data)\n",
    "    #print weights\n",
    "    weight_hist_line_search = np.concatenate((weight_hist_line_search,weights), axis=1)\n",
    "\n",
    "err = error(weights, training_data)\n",
    "print err\n",
    "#print \"weight_hist_grad_desc\", weight_hist_grad_desc\n",
    "\n",
    "plt.scatter(weight_hist_line_search[0,:],weight_hist_line_search[1,:])"
   ]
  },
  {
   "cell_type": "markdown",
   "metadata": {},
   "source": [
    "*c) Conjugate Gradient*"
   ]
  },
  {
   "cell_type": "code",
   "execution_count": null,
   "metadata": {
    "collapsed": true
   },
   "outputs": [],
   "source": [
    "def conjugate_grad(w,training_data):\n",
    "    d = - gradient_descent(w,training_data)\n",
    "    "
   ]
  }
 ],
 "metadata": {
  "kernelspec": {
   "display_name": "Python 2",
   "language": "python",
   "name": "python2"
  },
  "language_info": {
   "codemirror_mode": {
    "name": "ipython",
    "version": 2
   },
   "file_extension": ".py",
   "mimetype": "text/x-python",
   "name": "python",
   "nbconvert_exporter": "python",
   "pygments_lexer": "ipython2",
   "version": "2.7.10"
  }
 },
 "nbformat": 4,
 "nbformat_minor": 0
}
