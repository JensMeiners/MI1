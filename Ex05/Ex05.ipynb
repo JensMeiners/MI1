{
 "cells": [
  {
   "cell_type": "markdown",
   "metadata": {},
   "source": [
    "# <center>Machine Intelligence 1</center>"
   ]
  },
  {
   "cell_type": "markdown",
   "metadata": {},
   "source": [
    "<h2 align=\"right\">Exercise Sheet 03</h2> "
   ]
  },
  {
   "cell_type": "markdown",
   "metadata": {},
   "source": [
    "<pre style=\"text-align: right\">\n",
    "Gruppe:             \n",
    "                MeSi\n",
    "Autoren:            \n",
    "Jens Meiners\n",
    "Arne Siebenmorgen\n",
    "</pre>"
   ]
  },
  {
   "cell_type": "markdown",
   "metadata": {},
   "source": [
    "### 5.1 The bias variance tradeoff (5 points)"
   ]
  },
  {
   "cell_type": "code",
   "execution_count": 1,
   "metadata": {
    "collapsed": true
   },
   "outputs": [],
   "source": [
    "# imports\n",
    "import numpy as np\n",
    "import matplotlib.pyplot as plt\n",
    "%matplotlib inline"
   ]
  },
  {
   "cell_type": "markdown",
   "metadata": {},
   "source": [
    "<img src=\"Auswahl_2015-11-16_001.png\" />"
   ]
  },
  {
   "cell_type": "code",
   "execution_count": 2,
   "metadata": {
    "collapsed": false
   },
   "outputs": [],
   "source": [
    "# preparing data\n",
    "def f_(x):\n",
    "    return -np.sin(5*np.pi*x) + 2*np.power(2*x - 1, 3)\n",
    "\n",
    "def gen_data(mean=0,sigma=1,start=0,end=1.01,steps=0.02):\n",
    "    x = np.arange(start, end, steps)\n",
    "    y = f_(x) + np.random.normal(mean,sigma,x.shape)\n",
    "    return x,y"
   ]
  },
  {
   "cell_type": "code",
   "execution_count": 3,
   "metadata": {
    "collapsed": false
   },
   "outputs": [
    {
     "data": {
      "image/png": "[encoded data removed]",
      "text/plain": [
       "<matplotlib.figure.Figure at 0x3d714a8>"
      ]
     },
     "metadata": {},
     "output_type": "display_data"
    }
   ],
   "source": [
    "x,y = gen_data()\n",
    "plt.plot(x,y)\n",
    "plt.show()"
   ]
  },
  {
   "cell_type": "markdown",
   "metadata": {},
   "source": [
    "<img src=\"Auswahl_2015-11-16_002.png\" />"
   ]
  },
  {
   "cell_type": "code",
   "execution_count": 4,
   "metadata": {
    "collapsed": false
   },
   "outputs": [],
   "source": [
    "def poly(x,y,order):\n",
    "    c = np.polyfit(x,y,order)\n",
    "    return np.poly1d(c)"
   ]
  },
  {
   "cell_type": "code",
   "execution_count": 5,
   "metadata": {
    "collapsed": false
   },
   "outputs": [
    {
     "name": "stderr",
     "output_type": "stream",
     "text": [
      "C:\\Anaconda2\\lib\\site-packages\\matplotlib\\collections.py:590: FutureWarning: elementwise comparison failed; returning scalar instead, but in the future will perform elementwise comparison\n",
      "  if self._edgecolors == str('face'):\n"
     ]
    },
    {
     "data": {
      "image/png": "[encoded data removed]",
      "text/plain": [
       "<matplotlib.figure.Figure at 0xa5e8518>"
      ]
     },
     "metadata": {},
     "output_type": "display_data"
    },
    {
     "name": "stdout",
     "output_type": "stream",
     "text": [
      "coefficients (starting with highest power): [ 21.3483679  -35.69620887  18.7018592   -2.78838123]\n"
     ]
    }
   ],
   "source": [
    "## test monomial function\n",
    "# generate data\n",
    "x,y = gen_data()\n",
    "plt.scatter(x,y)\n",
    "#plt.plot(x,y)\n",
    "\n",
    "# find coefficients for order 3\n",
    "p = poly(x,y,3)\n",
    "\n",
    "# plot the result\n",
    "p_x = np.linspace(0,1,num=20)\n",
    "plt.plot(p_x, p(p_x))\n",
    "plt.show()\n",
    "\n",
    "# show coefficiants used\n",
    "print 'coefficients (starting with highest power):', p.c"
   ]
  },
  {
   "cell_type": "code",
   "execution_count": 6,
   "metadata": {
    "collapsed": true
   },
   "outputs": [],
   "source": [
    "def cn_input(x,y,order):\n",
    "    p = poly(x,y,order)\n",
    "    # find the power to every coef and evaluate the monom\n",
    "    return np.array([np.power(x,i)*c for i,c in enumerate(p.c[::-1])]).T, p(x)"
   ]
  },
  {
   "cell_type": "code",
   "execution_count": 7,
   "metadata": {
    "collapsed": false
   },
   "outputs": [],
   "source": [
    "from sklearn.preprocessing import normalize\n",
    "\n",
    "def normalize_sample(x,y):\n",
    "    normalize(x, copy=False)\n",
    "    sum = y.sum()\n",
    "    for i in range(len(y)):\n",
    "        y[i] = y[i] / sum\n",
    "        \n",
    "def decorrelate_sample(x,y):\n",
    "    pass"
   ]
  },
  {
   "cell_type": "code",
   "execution_count": 8,
   "metadata": {
    "collapsed": false
   },
   "outputs": [],
   "source": [
    "# imports for network\n",
    "from pybrain.tools.shortcuts import buildNetwork\n",
    "#from pybrain.structure import TanhLayer\n",
    "from pybrain.datasets import SupervisedDataSet\n",
    "from pybrain.supervised.trainers import BackpropTrainer"
   ]
  },
  {
   "cell_type": "code",
   "execution_count": 151,
   "metadata": {
    "collapsed": false
   },
   "outputs": [],
   "source": [
    "# depricated!\n",
    "#N = 40\n",
    "#orders = [1,5,9,14]\n",
    "#nets = []\n",
    "#datasets = []\n",
    "#for o in orders:\n",
    "#    _in, _out = o + 1, 1\n",
    "#    net = buildNetwork(_in, _out, bias=False)\n",
    "#    nets.append(net)\n",
    "#    ds = SupervisedDataSet(_in, _out)\n",
    "#    datasets.append(ds)\n",
    "#    for i in range(N):\n",
    "#        x,y = gen_data()\n",
    "#        sample_x, sample_y = cn_input(x,y,o)\n",
    "#        normalize_sample(sample_x, sample_y)\n",
    "#        decorrelate_sample(sample_x, sample_y)\n",
    "#        for i,sample in enumerate(sample_x):\n",
    "#            ds.addSample(sample, sample_y[i])\n",
    "#    trainer = BackpropTrainer(net, ds)\n",
    "#    trainer.train()"
   ]
  },
  {
   "cell_type": "code",
   "execution_count": 9,
   "metadata": {
    "collapsed": false
   },
   "outputs": [],
   "source": [
    "# generate 40 different samples\n",
    "N = 40\n",
    "raw_data = []\n",
    "for i in range(N):\n",
    "    x,y = gen_data()\n",
    "    raw_data.append((x,y))\n",
    "    \n",
    "orders = [1,5,9,14]\n",
    "nets = []\n",
    "datasets = []\n",
    "for o in orders:\n",
    "    _in, _out = o + 1, 1\n",
    "    net = buildNetwork(_in, _out)\n",
    "    nets.append(net)\n",
    "    ds = SupervisedDataSet(_in, _out)\n",
    "    datasets.append(ds)\n",
    "    for i in range(N):\n",
    "        sample_x, sample_y = cn_input(raw_data[i][0], raw_data[i][1], o)\n",
    "        normalize_sample(sample_x, sample_y)\n",
    "        decorrelate_sample(sample_x, sample_y)\n",
    "        for i,sample in enumerate(sample_x):\n",
    "            ds.addSample(sample, sample_y[i])\n",
    "    trainer = BackpropTrainer(net, ds)\n",
    "    trainer.train()"
   ]
  },
  {
   "cell_type": "code",
   "execution_count": 347,
   "metadata": {
    "collapsed": false
   },
   "outputs": [
    {
     "name": "stdout",
     "output_type": "stream",
     "text": [
      "_in 2\n",
      "FeedForwardNetwork-529\n",
      "   Modules:\n",
      "    [<BiasUnit 'bias'>, <LinearLayer 'in'>, <LinearLayer 'out'>]\n",
      "   Connections:\n",
      "    [<FullConnection 'FullConnection-527': 'in' -> 'out'>, <FullConnection 'FullConnection-528': 'bias' -> 'out'>]\n",
      "\n",
      "_out 1\n",
      "\n",
      "_in 6\n",
      "FeedForwardNetwork-535\n",
      "   Modules:\n",
      "    [<BiasUnit 'bias'>, <LinearLayer 'in'>, <LinearLayer 'out'>]\n",
      "   Connections:\n",
      "    [<FullConnection 'FullConnection-533': 'in' -> 'out'>, <FullConnection 'FullConnection-534': 'bias' -> 'out'>]\n",
      "\n",
      "_out 1\n",
      "\n",
      "_in 10\n",
      "FeedForwardNetwork-541\n",
      "   Modules:\n",
      "    [<BiasUnit 'bias'>, <LinearLayer 'in'>, <LinearLayer 'out'>]\n",
      "   Connections:\n",
      "    [<FullConnection 'FullConnection-539': 'in' -> 'out'>, <FullConnection 'FullConnection-540': 'bias' -> 'out'>]\n",
      "\n",
      "_out 1\n",
      "\n",
      "_in 15\n",
      "FeedForwardNetwork-547\n",
      "   Modules:\n",
      "    [<BiasUnit 'bias'>, <LinearLayer 'in'>, <LinearLayer 'out'>]\n",
      "   Connections:\n",
      "    [<FullConnection 'FullConnection-545': 'in' -> 'out'>, <FullConnection 'FullConnection-546': 'bias' -> 'out'>]\n",
      "\n",
      "_out 1\n",
      "\n"
     ]
    }
   ],
   "source": [
    "for net in nets:\n",
    "    print '_in',net.indim\n",
    "    print str(net)\n",
    "    print '_out',net.outdim\n",
    "    print \n",
    "    "
   ]
  },
  {
   "cell_type": "markdown",
   "metadata": {},
   "source": [
    "<img src=\"Auswahl_2015-11-16_003.png\"/>"
   ]
  },
  {
   "cell_type": "code",
   "execution_count": 10,
   "metadata": {
    "collapsed": false
   },
   "outputs": [
    {
     "name": "stdout",
     "output_type": "stream",
     "text": [
      "model of order 1\n",
      "average prediction [-0.0806203]\n",
      "variance of prediction [ 0.06873683]\n",
      "bias -0.100228144783\n",
      "\n",
      "model of order 5\n",
      "average prediction [-0.08447712]\n",
      "variance of prediction [ 0.25388572]\n",
      "bias -0.104084961048\n",
      "\n",
      "model of order 9\n",
      "average prediction [ 0.44123386]\n",
      "variance of prediction [ 0.08617427]\n",
      "bias 0.421626020356\n",
      "\n",
      "model of order 14\n",
      "average prediction [ 0.1103588]\n",
      "variance of prediction [ 0.04057787]\n",
      "bias 0.0907509564398\n",
      "\n"
     ]
    }
   ],
   "source": [
    "predictions = []\n",
    "for i in range(len(orders)):\n",
    "    preds = np.array([[nets[i].activate(_in), _out] for _in, _out in datasets[i]])\n",
    "    predictions.append(preds)\n",
    "    print 'model of order',orders[i]\n",
    "    print 'average prediction',preds.mean(axis=0)[0]\n",
    "    print 'variance of prediction',preds.var(axis=0)[0]\n",
    "    bias = preds.mean(axis=0)[0] - preds[:,1]\n",
    "    print 'bias',bias.mean()\n",
    "    print"
   ]
  },
  {
   "cell_type": "markdown",
   "metadata": {},
   "source": [
    "<img src=\"Auswahl_2015-11-16_004.png\"/>"
   ]
  },
  {
   "cell_type": "code",
   "execution_count": 11,
   "metadata": {
    "collapsed": false,
    "scrolled": false
   },
   "outputs": [
    {
     "ename": "SyntaxError",
     "evalue": "invalid syntax (<ipython-input-11-82e6fac22973>, line 12)",
     "output_type": "error",
     "traceback": [
      "\u001b[1;36m  File \u001b[1;32m\"<ipython-input-11-82e6fac22973>\"\u001b[1;36m, line \u001b[1;32m12\u001b[0m\n\u001b[1;33m    a.plot(,np_predictions[i][:,:,0].T)\u001b[0m\n\u001b[1;37m           ^\u001b[0m\n\u001b[1;31mSyntaxError\u001b[0m\u001b[1;31m:\u001b[0m invalid syntax\n"
     ]
    }
   ],
   "source": [
    "np_datasets = []\n",
    "np_outs = []\n",
    "np_predictions = []\n",
    "f, ((ax1, ax2), (ax3, ax4)) = plt.subplots(2, 2, sharex='col', sharey='row')\n",
    "f.set_size_inches(18.5, 10.5)\n",
    "for i,a in enumerate([ax1,ax2,ax3,ax4]):\n",
    "    np_datasets.append(np.reshape(datasets[i]['input'],(40,51,orders[i]+1)))\n",
    "    np_outs.append(np.reshape(datasets[i]['target'],(40,51)))\n",
    "    np_predictions.append(np.reshape(predictions[i],(40,51,2)))\n",
    "    a.set_title('#'+str(i+1))\n",
    "    #print np_predictions[i][:,:,0].T.shape\n",
    "    a.plot(,np_predictions[i][:,:,0].T)\n",
    "    #print np_datasets[i][:,:,0].shape\n",
    "    #a.scatter(np_datasets[i][:,:,0].T,np_datasets[i][:,:,1].T)\n",
    "    #a.scatter(np_datasets[i][:,:,0].T,np_outs[i].T)"
   ]
  },
  {
   "cell_type": "code",
   "execution_count": null,
   "metadata": {
    "collapsed": true
   },
   "outputs": [],
   "source": [
    "f, ((ax1, ax2), (ax3, ax4)) = plt.subplots(2, 2, sharex='col', sharey='row')\n",
    "In [ ]:\n",
    "\n",
    "f, ((ax1, ax2), (ax3, ax4)) = plt.subplots(2, 2, sharex='col', sharey='row')\n",
    "f.set_size_inches(18.5, 10.5)\n",
    "f.set_size_inches(18.5, 10.5)\n",
    "for i,a in enumerate([ax1,ax2,ax3,ax4]):\n",
    "    var = predictions[i].var(axis=0)[0]\n",
    "    bias = (predictions[i].mean(axis=0)[0] - predictions[i][:,1]).mean()\n",
    "    \n",
    "    "
   ]
  },
  {
   "cell_type": "code",
   "execution_count": null,
   "metadata": {
    "collapsed": true
   },
   "outputs": [],
   "source": []
  },
  {
   "cell_type": "markdown",
   "metadata": {},
   "source": [
    "<img src=\"Auswahl_2015-11-16_005.png\"/>"
   ]
  },
  {
   "cell_type": "code",
   "execution_count": null,
   "metadata": {
    "collapsed": true
   },
   "outputs": [],
   "source": []
  },
  {
   "cell_type": "markdown",
   "metadata": {},
   "source": [
    "### 5.2 Nested Cross Validation (5 points)"
   ]
  },
  {
   "cell_type": "markdown",
   "metadata": {},
   "source": [
    "<img src=\"Auswahl_2015-11-16_006.png\"/>"
   ]
  },
  {
   "cell_type": "code",
   "execution_count": null,
   "metadata": {
    "collapsed": true
   },
   "outputs": [],
   "source": []
  },
  {
   "cell_type": "markdown",
   "metadata": {},
   "source": [
    "<img src=\"Auswahl_2015-11-16_007.png\"/>"
   ]
  },
  {
   "cell_type": "code",
   "execution_count": null,
   "metadata": {
    "collapsed": true
   },
   "outputs": [],
   "source": []
  },
  {
   "cell_type": "markdown",
   "metadata": {},
   "source": [
    "<img src=\"Auswahl_2015-11-16_008.png\"/>"
   ]
  },
  {
   "cell_type": "code",
   "execution_count": null,
   "metadata": {
    "collapsed": true
   },
   "outputs": [],
   "source": []
  },
  {
   "cell_type": "markdown",
   "metadata": {},
   "source": [
    "<img src=\"Auswahl_2015-11-16_009.png\"/>"
   ]
  },
  {
   "cell_type": "code",
   "execution_count": null,
   "metadata": {
    "collapsed": true
   },
   "outputs": [],
   "source": []
  },
  {
   "cell_type": "code",
   "execution_count": null,
   "metadata": {
    "collapsed": true
   },
   "outputs": [],
   "source": []
  },
  {
   "cell_type": "code",
   "execution_count": null,
   "metadata": {
    "collapsed": true
   },
   "outputs": [],
   "source": []
  },
  {
   "cell_type": "code",
   "execution_count": null,
   "metadata": {
    "collapsed": true
   },
   "outputs": [],
   "source": []
  }
 ],
 "metadata": {
  "kernelspec": {
   "display_name": "Python 2",
   "language": "python",
   "name": "python2"
  },
  "language_info": {
   "codemirror_mode": {
    "name": "ipython",
    "version": 2
   },
   "file_extension": ".py",
   "mimetype": "text/x-python",
   "name": "python",
   "nbconvert_exporter": "python",
   "pygments_lexer": "ipython2",
   "version": "2.7.10"
  }
 },
 "nbformat": 4,
 "nbformat_minor": 0
}
