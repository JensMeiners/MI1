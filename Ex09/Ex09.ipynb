{
 "cells": [
  {
   "cell_type": "markdown",
   "metadata": {},
   "source": [
    "<img src=\"Auswahl_2016-01-11_002.png\">"
   ]
  },
  {
   "cell_type": "markdown",
   "metadata": {},
   "source": [
    "<pre style=\"text-align: right\">\n",
    "Gruppe:             \n",
    "                MeSi\n",
    "Autoren:            \n",
    "Jens Meiners\n",
    "Arne Siebenmorgen\n",
    "</pre>"
   ]
  },
  {
   "cell_type": "markdown",
   "metadata": {},
   "source": [
    "<img src=\"Auswahl_2016-01-11_003.png\">"
   ]
  },
  {
   "cell_type": "raw",
   "metadata": {},
   "source": [
    "From the Script:"
   ]
  },
  {
   "cell_type": "markdown",
   "metadata": {},
   "source": [
    "<img src=\"Auswahl_2016-01-11_013.png\">"
   ]
  },
  {
   "cell_type": "markdown",
   "metadata": {},
   "source": [
    "From this note, we see that in the primal, we need to minimize $w$. In the dual, maximization of $\\lambda_\\alpha$ is needed. We get this parameter by building the Langrangian of the primal."
   ]
  },
  {
   "cell_type": "markdown",
   "metadata": {},
   "source": [
    "$$L = \\frac{1}{2} |w|^2 + \\frac{C}{p} \\sum_{\\alpha=1}^{p} \\varphi_\\alpha - \\sum_{\\alpha=1}^{p}\\lambda_\\alpha \\{y_{\\top}^{(\\alpha)}f_\\alpha-1+\\varphi_\\alpha\\} - \\sum_{\\alpha=1}^{p} \\mu_\\alpha \\varphi_\\alpha$$"
   ]
  },
  {
   "cell_type": "markdown",
   "metadata": {},
   "source": [
    "with $f = w^\\top x^{(\\alpha)} + b$"
   ]
  },
  {
   "cell_type": "markdown",
   "metadata": {},
   "source": [
    "Minimization w.r.t. $w$<br>\n",
    "$$\\frac{\\partial L}{\\partial w_l} = w - \\lambda_\\alpha y_{\\top}^{(\\alpha)}x^{(\\alpha)} \\stackrel{!}{=} 0$$\n",
    "$$w = \\lambda_\\alpha y_{\\top}^{(\\alpha)}x^{(\\alpha)}$$"
   ]
  },
  {
   "cell_type": "markdown",
   "metadata": {},
   "source": [
    "Minimization w.r.t. $b$ yields the first constraint<br>\n",
    "$$\\frac{\\partial L}{\\partial b} =- \\sum_{\\alpha=1}^{p}\\lambda_\\alpha y_{\\top}^{(\\alpha)}\\stackrel{!}{=} 0$$"
   ]
  },
  {
   "cell_type": "markdown",
   "metadata": {},
   "source": [
    "Minimization w.r.t. $\\varphi$ yields the second constraint<br>\n",
    "$$\\frac{\\partial L}{\\partial \\varphi_\\alpha} = \\frac{C}{p} - \\lambda_\\alpha - \\mu_\\alpha \\stackrel{!}{=} 0$$\n",
    "$$\\Rightarrow 0 \\leq \\lambda_\\alpha \\leq \\frac{C}{p}$$"
   ]
  },
  {
   "cell_type": "markdown",
   "metadata": {},
   "source": [
    "Plugging the results back into the Lagrangian results in"
   ]
  },
  {
   "cell_type": "markdown",
   "metadata": {},
   "source": [
    "$$-\\frac{1}{2}\\sum_{\\alpha=1}^{p}\\sum_{\\beta=1}^{p} \\lambda_\\alpha\\lambda_\\beta y_{\\top}^{(\\alpha)}y_{\\top}^{(\\beta)}(x^{(\\alpha)})^\\top x^{(\\beta)}\\ +  \\sum_{\\alpha=1}^{p}\\lambda_\\alpha + \\frac{C}{p} \\sum_{\\alpha=1}^{p} \\varphi_\\alpha - \\sum_{\\alpha=1}^{p} \\mu_\\alpha \\varphi_\\alpha$$"
   ]
  },
  {
   "cell_type": "markdown",
   "metadata": {},
   "source": [
    "Its optimal solution depends on $\\lambda$ because we solved the dual problem. The Problem therfore reduces to:"
   ]
  },
  {
   "cell_type": "markdown",
   "metadata": {},
   "source": [
    "$$\\max_{\\lambda_\\alpha} \\{-\\frac{1}{2}\\sum_{\\alpha=1}^{p}\\sum_{\\beta=1}^{p} \\lambda_\\alpha\\lambda_\\beta y_{\\top}^{(\\alpha)}y_{\\top}^{(\\beta)}(x^{(\\alpha)})^\\top x^{(\\beta)}\\ +  \\sum_{\\alpha=1}^{p}\\lambda_\\alpha\\}$$"
   ]
  },
  {
   "cell_type": "markdown",
   "metadata": {},
   "source": [
    "Which is the result we searched for."
   ]
  },
  {
   "cell_type": "markdown",
   "metadata": {},
   "source": [
    "<img src=\"Auswahl_2016-01-11_004.png\">"
   ]
  },
  {
   "cell_type": "markdown",
   "metadata": {},
   "source": [
    "<img src=\"Auswahl_2016-01-11_005.png\">"
   ]
  },
  {
   "cell_type": "code",
   "execution_count": 30,
   "metadata": {
    "collapsed": false
   },
   "outputs": [
    {
     "data": {
      "image/png": "[encoded data removed]",
      "text/plain": [
       "<matplotlib.figure.Figure at 0x7f80a86394d0>"
      ]
     },
     "metadata": {},
     "output_type": "display_data"
    }
   ],
   "source": [
    "# imports\n",
    "import numpy as np\n",
    "import matplotlib.pyplot as plt\n",
    "import matplotlib as mpl\n",
    "from matplotlib import colors\n",
    "%matplotlib inline\n",
    "cmap = colors.LinearSegmentedColormap(\n",
    "    'red_blue_classes',\n",
    "    {'blue': [(0, 0.7, 0.7), (1, 1, 1)],\n",
    "     'green': [(0, 0.7, 0.7), (1, 0.7, 0.7)],\n",
    "     'red': [(0, 1, 1), (1, 0.7, 0.7)]})\n",
    "plt.cm.register_cmap(cmap=cmap)\n",
    "\n",
    "# generate training data\n",
    "cov = [[0.1, 0], [0, 0.1]]\n",
    "\n",
    "mean1 = [0. , 1.]\n",
    "mean2 = [1. , 0.]\n",
    "mean3 = [0. , 0.]\n",
    "mean4 = [1. , 1.]\n",
    "\n",
    "p1 = 0.5*(np.vstack((np.random.multivariate_normal(mean1, cov, 20), np.random.multivariate_normal(mean2, cov, 20))))\n",
    "p2 = 0.5*(np.vstack((np.random.multivariate_normal(mean3, cov, 20), np.random.multivariate_normal(mean4, cov, 20))))\n",
    "\n",
    "plt.scatter(p1[:,0], p1[:,1], c='red')\n",
    "plt.scatter(p2[:,0], p2[:,1], c='blue')\n",
    "plt.show()\n",
    "\n",
    "p1 = np.append(p1,np.ones((40,1)), axis=1)\n",
    "p2 = np.append(p2,np.zeros((40,1)), axis=1)\n",
    "\n",
    "train = np.append(p1,p2, axis =0)\n",
    "np.random.shuffle(train)\n",
    "\n",
    "p3 = 0.5*(np.vstack((np.random.multivariate_normal(mean1, cov, 20), np.random.multivariate_normal(mean2, cov, 20))))\n",
    "p4 = 0.5*(np.vstack((np.random.multivariate_normal(mean3, cov, 20), np.random.multivariate_normal(mean4, cov, 20))))\n",
    "p3 = np.append(p3,np.ones((40,1)), axis=1)\n",
    "p4 = np.append(p4,np.zeros((40,1)), axis=1)\n",
    "\n",
    "test = np.append(p3,p4, axis =0)\n",
    "np.random.shuffle(test)"
   ]
  },
  {
   "cell_type": "code",
   "execution_count": 11,
   "metadata": {
    "collapsed": true
   },
   "outputs": [],
   "source": [
    "# further imports\n",
    "from sklearn.svm import SVC"
   ]
  },
  {
   "cell_type": "code",
   "execution_count": 23,
   "metadata": {
    "collapsed": false
   },
   "outputs": [
    {
     "data": {
      "text/plain": [
       "SVC(C=1.0, cache_size=200, class_weight=None, coef0=0.0, degree=3, gamma=0.0,\n",
       "  kernel='rbf', max_iter=-1, probability=False, random_state=None,\n",
       "  shrinking=True, tol=0.001, verbose=False)"
      ]
     },
     "execution_count": 23,
     "metadata": {},
     "output_type": "execute_result"
    }
   ],
   "source": [
    "# train a C-SVM with standart parameters\n",
    "clf = SVC()\n",
    "clf.fit(train[:,0:2], train[:,2]) \n",
    "# Note that the RBF Kernel is the default:"
   ]
  },
  {
   "cell_type": "markdown",
   "metadata": {},
   "source": [
    "<img src=\"Auswahl_2016-01-11_006.png\">"
   ]
  },
  {
   "cell_type": "code",
   "execution_count": 26,
   "metadata": {
    "collapsed": false
   },
   "outputs": [
    {
     "name": "stdout",
     "output_type": "stream",
     "text": [
      "number of correct classifications: 55\n",
      "percentage of correct classifications: 0.6875\n"
     ]
    }
   ],
   "source": [
    "e = (clf.predict(test[:,0:2]) == test[:,2]).sum() \n",
    "print 'number of correct classifications:',e\n",
    "e = e / 80.0\n",
    "print 'percentage of correct classifications:',e"
   ]
  },
  {
   "cell_type": "markdown",
   "metadata": {},
   "source": [
    "<img src=\"Auswahl_2016-01-11_007.png\">"
   ]
  },
  {
   "cell_type": "code",
   "execution_count": 33,
   "metadata": {
    "collapsed": false
   },
   "outputs": [
    {
     "data": {
      "image/png": "[encoded data removed]",
      "text/plain": [
       "<matplotlib.figure.Figure at 0x7f808737ab10>"
      ]
     },
     "metadata": {},
     "output_type": "display_data"
    }
   ],
   "source": [
    "plt.scatter(p1[:,0], p1[:,1], c='red')\n",
    "plt.scatter(p2[:,0], p2[:,1], c='blue')\n",
    "\n",
    "# class 0 and 1 : areas\n",
    "nx, ny = 200, 100\n",
    "x_min, x_max = plt.xlim()\n",
    "y_min, y_max = plt.ylim()\n",
    "xx, yy = np.meshgrid(np.linspace(x_min, x_max, nx),\n",
    "                     np.linspace(y_min, y_max, ny))\n",
    "Z = clf.predict(np.c_[xx.ravel(), yy.ravel()])\n",
    "Z = Z.reshape(xx.shape)\n",
    "plt.pcolormesh(xx, yy, Z, cmap='red_blue_classes',\n",
    "               norm=colors.Normalize(0., 1.))\n",
    "plt.contour(xx, yy, Z, [0.5], linewidths=2., colors='k')\n",
    "\n",
    "plt.scatter(p1[:,0], p1[:,1], c='red')\n",
    "plt.scatter(p2[:,0], p2[:,1], c='blue')\n",
    "\n",
    "plt.show()"
   ]
  },
  {
   "cell_type": "markdown",
   "metadata": {},
   "source": [
    "<img src=\"Auswahl_2016-01-11_008.png\">"
   ]
  },
  {
   "cell_type": "markdown",
   "metadata": {},
   "source": [
    "<img src=\"Auswahl_2016-01-11_009.png\">"
   ]
  },
  {
   "cell_type": "markdown",
   "metadata": {},
   "source": [
    "<img src=\"Auswahl_2016-01-11_010.png\">"
   ]
  },
  {
   "cell_type": "markdown",
   "metadata": {},
   "source": [
    "<img src=\"Auswahl_2016-01-11_011.png\">"
   ]
  },
  {
   "cell_type": "markdown",
   "metadata": {},
   "source": [
    "<img src=\"Auswahl_2016-01-11_012.png\">"
   ]
  },
  {
   "cell_type": "code",
   "execution_count": null,
   "metadata": {
    "collapsed": true
   },
   "outputs": [],
   "source": []
  },
  {
   "cell_type": "code",
   "execution_count": null,
   "metadata": {
    "collapsed": true
   },
   "outputs": [],
   "source": []
  },
  {
   "cell_type": "code",
   "execution_count": null,
   "metadata": {
    "collapsed": true
   },
   "outputs": [],
   "source": []
  }
 ],
 "metadata": {
  "kernelspec": {
   "display_name": "Python 2",
   "language": "python",
   "name": "python2"
  },
  "language_info": {
   "codemirror_mode": {
    "name": "ipython",
    "version": 2
   },
   "file_extension": ".py",
   "mimetype": "text/x-python",
   "name": "python",
   "nbconvert_exporter": "python",
   "pygments_lexer": "ipython2",
   "version": "2.7.10"
  }
 },
 "nbformat": 4,
 "nbformat_minor": 0
}
