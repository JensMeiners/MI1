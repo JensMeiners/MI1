{
 "cells": [
  {
   "cell_type": "markdown",
   "metadata": {},
   "source": [
    "<img src=\"Auswahl_2016-01-11_002.png\">"
   ]
  },
  {
   "cell_type": "markdown",
   "metadata": {},
   "source": [
    "<pre style=\"text-align: right\">\n",
    "Gruppe:             \n",
    "                MeSi\n",
    "Autoren:            \n",
    "Jens Meiners\n",
    "Arne Siebenmorgen\n",
    "</pre>"
   ]
  },
  {
   "cell_type": "markdown",
   "metadata": {},
   "source": [
    "<img src=\"Auswahl_2016-01-11_003.png\">"
   ]
  },
  {
   "cell_type": "raw",
   "metadata": {},
   "source": [
    "From the Script:"
   ]
  },
  {
   "cell_type": "markdown",
   "metadata": {},
   "source": [
    "<img src=\"Auswahl_2016-01-11_013.png\">"
   ]
  },
  {
   "cell_type": "markdown",
   "metadata": {},
   "source": [
    "From this note, we see that in the primal, we need to minimize $w$. In the dual, maximization of $\\lambda_\\alpha$ is needed. We get this parameter by building the Langrangian of the primal."
   ]
  },
  {
   "cell_type": "markdown",
   "metadata": {},
   "source": [
    "$$L = \\frac{1}{2} |w|^2 + \\frac{C}{p} \\sum_{\\alpha=1}^{p} \\varphi_\\alpha - \\sum_{\\alpha=1}^{p}\\lambda_\\alpha \\{y_{\\top}^{(\\alpha)}f_\\alpha-1+\\varphi_\\alpha\\} - \\sum_{\\alpha=1}^{p} \\mu_\\alpha \\varphi_\\alpha$$"
   ]
  },
  {
   "cell_type": "markdown",
   "metadata": {},
   "source": [
    "with $f = w^\\top x^{(\\alpha)} + b$"
   ]
  },
  {
   "cell_type": "markdown",
   "metadata": {},
   "source": [
    "Minimization w.r.t. $w$<br>\n",
    "$$\\frac{\\partial L}{\\partial w_l} = w - \\sum_{\\alpha=1}^{p}\\lambda_\\alpha y_{\\top}^{(\\alpha)}x^{(\\alpha)} \\stackrel{!}{=} 0$$\n",
    "$$w = \\sum_{\\alpha=1}^{p}\\lambda_\\alpha y_{\\top}^{(\\alpha)}x^{(\\alpha)}$$"
   ]
  },
  {
   "cell_type": "markdown",
   "metadata": {},
   "source": [
    "Minimization w.r.t. $b$ yields the first constraint<br>\n",
    "$$\\frac{\\partial L}{\\partial b} =- \\sum_{\\alpha=1}^{p}\\lambda_\\alpha y_{\\top}^{(\\alpha)}\\stackrel{!}{=} 0$$"
   ]
  },
  {
   "cell_type": "markdown",
   "metadata": {},
   "source": [
    "Minimization w.r.t. $\\varphi$ yields the second constraint<br>\n",
    "$$\\frac{\\partial L}{\\partial \\varphi_\\alpha} = \\frac{C}{p} - \\lambda_\\alpha - \\mu_\\alpha \\stackrel{!}{=} 0$$\n",
    "$$\\Rightarrow 0 \\leq \\lambda_\\alpha \\leq \\frac{C}{p}$$"
   ]
  },
  {
   "cell_type": "markdown",
   "metadata": {},
   "source": [
    "Plugging the results back into the Lagrangian results in"
   ]
  },
  {
   "cell_type": "markdown",
   "metadata": {},
   "source": [
    "$$-\\frac{1}{2}\\sum_{\\alpha=1}^{p}\\sum_{\\beta=1}^{p} \\lambda_\\alpha\\lambda_\\beta y_{\\top}^{(\\alpha)}y_{\\top}^{(\\beta)}(x^{(\\alpha)})^\\top x^{(\\beta)}\\ +  \\sum_{\\alpha=1}^{p}\\lambda_\\alpha + \\frac{C}{p} \\sum_{\\alpha=1}^{p} \\varphi_\\alpha - \\sum_{\\alpha=1}^{p} \\mu_\\alpha \\varphi_\\alpha$$"
   ]
  },
  {
   "cell_type": "markdown",
   "metadata": {},
   "source": [
    "Its optimal solution depends on $\\lambda$ because we solved the dual problem. The Problem therfore reduces to:"
   ]
  },
  {
   "cell_type": "markdown",
   "metadata": {},
   "source": [
    "$$\\max_{\\lambda_\\alpha} \\{-\\frac{1}{2}\\sum_{\\alpha=1}^{p}\\sum_{\\beta=1}^{p} \\lambda_\\alpha\\lambda_\\beta y_{\\top}^{(\\alpha)}y_{\\top}^{(\\beta)}(x^{(\\alpha)})^\\top x^{(\\beta)}\\ +  \\sum_{\\alpha=1}^{p}\\lambda_\\alpha\\}$$"
   ]
  },
  {
   "cell_type": "markdown",
   "metadata": {},
   "source": [
    "Which is the result we searched for."
   ]
  },
  {
   "cell_type": "markdown",
   "metadata": {},
   "source": [
    "<img src=\"Auswahl_2016-01-11_004.png\">"
   ]
  },
  {
   "cell_type": "markdown",
   "metadata": {},
   "source": [
    "<img src=\"Auswahl_2016-01-11_005.png\">"
   ]
  },
  {
   "cell_type": "code",
   "execution_count": 2,
   "metadata": {
    "collapsed": false
   },
   "outputs": [
    {
     "data": {
      "image/png": "[encoded data removed]",
      "text/plain": [
       "<matplotlib.figure.Figure at 0x7f5ba5585490>"
      ]
     },
     "metadata": {},
     "output_type": "display_data"
    }
   ],
   "source": [
    "# imports\n",
    "import numpy as np\n",
    "import matplotlib.pyplot as plt\n",
    "import matplotlib as mpl\n",
    "from matplotlib import colors\n",
    "%matplotlib inline\n",
    "cmap = colors.LinearSegmentedColormap(\n",
    "    'red_blue_classes',\n",
    "    {'blue': [(0, 0.7, 0.7), (1, 1, 1)],\n",
    "     'green': [(0, 0.7, 0.7), (1, 0.7, 0.7)],\n",
    "     'red': [(0, 1, 1), (1, 0.7, 0.7)]})\n",
    "plt.cm.register_cmap(cmap=cmap)\n",
    "\n",
    "# generate training data\n",
    "cov = [[0.1, 0], [0, 0.1]]\n",
    "\n",
    "mean1 = [0. , 1.]\n",
    "mean2 = [1. , 0.]\n",
    "mean3 = [0. , 0.]\n",
    "mean4 = [1. , 1.]\n",
    "\n",
    "p1 = 0.5*(np.vstack((np.random.multivariate_normal(mean1, cov, 20), np.random.multivariate_normal(mean2, cov, 20))))\n",
    "p2 = 0.5*(np.vstack((np.random.multivariate_normal(mean3, cov, 20), np.random.multivariate_normal(mean4, cov, 20))))\n",
    "\n",
    "plt.scatter(p1[:,0], p1[:,1], c='blue')\n",
    "plt.scatter(p2[:,0], p2[:,1], c='red')\n",
    "plt.show()\n",
    "\n",
    "p1 = np.append(p1,np.ones((40,1)), axis=1)\n",
    "p2 = np.append(p2,np.zeros((40,1)), axis=1)\n",
    "\n",
    "train = np.append(p1,p2, axis =0)\n",
    "np.random.shuffle(train)\n",
    "\n",
    "p3 = 0.5*(np.vstack((np.random.multivariate_normal(mean1, cov, 20), np.random.multivariate_normal(mean2, cov, 20))))\n",
    "p4 = 0.5*(np.vstack((np.random.multivariate_normal(mean3, cov, 20), np.random.multivariate_normal(mean4, cov, 20))))\n",
    "p3 = np.append(p3,np.ones((40,1)), axis=1)\n",
    "p4 = np.append(p4,np.zeros((40,1)), axis=1)\n",
    "\n",
    "test = np.append(p3,p4, axis =0)\n",
    "np.random.shuffle(test)"
   ]
  },
  {
   "cell_type": "code",
   "execution_count": 3,
   "metadata": {
    "collapsed": true
   },
   "outputs": [],
   "source": [
    "comp = np.vstack((test,train))"
   ]
  },
  {
   "cell_type": "code",
   "execution_count": 36,
   "metadata": {
    "collapsed": false
   },
   "outputs": [],
   "source": [
    "import pickle\n",
    "pickle.dump(test, open(\"test.p\", \"wb\"))\n",
    "pickle.dump(train, open(\"train.p\", \"wb\"))\n",
    "pickle.dump(comp, open(\"comp.p\", \"wb\"))\n",
    "pickle.dump(p1, open(\"p1.p\", \"wb\"))\n",
    "pickle.dump(p2, open(\"p2.p\", \"wb\"))\n",
    "pickle.dump(p3, open(\"p3.p\", \"wb\"))\n",
    "pickle.dump(p4, open(\"p4.p\", \"wb\"))"
   ]
  },
  {
   "cell_type": "code",
   "execution_count": 5,
   "metadata": {
    "collapsed": true
   },
   "outputs": [],
   "source": [
    "# further imports\n",
    "from sklearn.svm import SVC"
   ]
  },
  {
   "cell_type": "code",
   "execution_count": 6,
   "metadata": {
    "collapsed": false
   },
   "outputs": [
    {
     "data": {
      "text/plain": [
       "SVC(C=1.0, cache_size=200, class_weight=None, coef0=0.0, degree=3, gamma=0.0,\n",
       "  kernel='rbf', max_iter=-1, probability=False, random_state=None,\n",
       "  shrinking=True, tol=0.001, verbose=False)"
      ]
     },
     "execution_count": 6,
     "metadata": {},
     "output_type": "execute_result"
    }
   ],
   "source": [
    "# train a C-SVM with standart parameters\n",
    "clf = SVC()\n",
    "clf.fit(train[:,0:2], train[:,2]) \n",
    "# Note that the RBF Kernel is the default:"
   ]
  },
  {
   "cell_type": "markdown",
   "metadata": {},
   "source": [
    "<img src=\"Auswahl_2016-01-11_006.png\">"
   ]
  },
  {
   "cell_type": "code",
   "execution_count": 7,
   "metadata": {
    "collapsed": false
   },
   "outputs": [
    {
     "name": "stdout",
     "output_type": "stream",
     "text": [
      "number of correct classifications: 58\n",
      "percentage of correct classifications: 0.725\n"
     ]
    }
   ],
   "source": [
    "e = (clf.predict(test[:,0:2]) == test[:,2]).sum() \n",
    "print 'number of correct classifications:',e\n",
    "e = e / 80.0\n",
    "print 'percentage of correct classifications:',e"
   ]
  },
  {
   "cell_type": "markdown",
   "metadata": {},
   "source": [
    "<img src=\"Auswahl_2016-01-11_007.png\">"
   ]
  },
  {
   "cell_type": "code",
   "execution_count": 8,
   "metadata": {
    "collapsed": false
   },
   "outputs": [
    {
     "data": {
      "image/png": "[encoded data removed]",
      "text/plain": [
       "<matplotlib.figure.Figure at 0x7f5b95260950>"
      ]
     },
     "metadata": {},
     "output_type": "display_data"
    }
   ],
   "source": [
    "plt.scatter(p1[:,0], p1[:,1], c='blue')\n",
    "plt.scatter(p2[:,0], p2[:,1], c='red')\n",
    "\n",
    "# class 0 and 1 : areas\n",
    "nx, ny = 200, 100\n",
    "x_min, x_max = plt.xlim()\n",
    "y_min, y_max = plt.ylim()\n",
    "xx, yy = np.meshgrid(np.linspace(x_min, x_max, nx),\n",
    "                     np.linspace(y_min, y_max, ny))\n",
    "Z = clf.predict(np.c_[xx.ravel(), yy.ravel()])\n",
    "Z = Z.reshape(xx.shape)\n",
    "plt.pcolormesh(xx, yy, Z, cmap='red_blue_classes',\n",
    "               norm=colors.Normalize(0., 1.))\n",
    "plt.contour(xx, yy, Z, [0.5], linewidths=2., colors='k')\n",
    "\n",
    "plt.scatter(p1[:,0], p1[:,1], c='blue')\n",
    "plt.scatter(p2[:,0], p2[:,1], c='red')\n",
    "\n",
    "plt.show()"
   ]
  },
  {
   "cell_type": "markdown",
   "metadata": {},
   "source": [
    "<img src=\"Auswahl_2016-01-11_008.png\">"
   ]
  },
  {
   "cell_type": "code",
   "execution_count": 9,
   "metadata": {
    "collapsed": false
   },
   "outputs": [
    {
     "name": "stdout",
     "output_type": "stream",
     "text": [
      "[-5 -4 -3 -2 -1  0  1  2  3  4  5  6  7  8  9 10 11 12 13 14 15]\n",
      "C [  3.12500000e-02   6.25000000e-02   1.25000000e-01   2.50000000e-01\n",
      "   5.00000000e-01   1.00000000e+00   2.00000000e+00   4.00000000e+00\n",
      "   8.00000000e+00   1.60000000e+01   3.20000000e+01   6.40000000e+01\n",
      "   1.28000000e+02   2.56000000e+02   5.12000000e+02   1.02400000e+03\n",
      "   2.04800000e+03   4.09600000e+03   8.19200000e+03   1.63840000e+04\n",
      "   3.27680000e+04]\n",
      "[-15 -14 -13 -12 -11 -10  -9  -8  -7  -6  -5  -4  -3  -2  -1   0   1   2\n",
      "   3]\n",
      "gamma [  3.05175781e-05   6.10351562e-05   1.22070312e-04   2.44140625e-04\n",
      "   4.88281250e-04   9.76562500e-04   1.95312500e-03   3.90625000e-03\n",
      "   7.81250000e-03   1.56250000e-02   3.12500000e-02   6.25000000e-02\n",
      "   1.25000000e-01   2.50000000e-01   5.00000000e-01   1.00000000e+00\n",
      "   2.00000000e+00   4.00000000e+00   8.00000000e+00]\n"
     ]
    }
   ],
   "source": [
    "exp = np.arange(-5,16,1)\n",
    "print exp\n",
    "C = np.power(2.0,exp)\n",
    "print 'C',C\n",
    "exp = np.arange(-15,4,1)\n",
    "print exp\n",
    "gamma = np.power(2.0,exp)\n",
    "print 'gamma',gamma"
   ]
  },
  {
   "cell_type": "markdown",
   "metadata": {},
   "source": [
    "<img src=\"Auswahl_2016-01-11_009.png\">"
   ]
  },
  {
   "cell_type": "code",
   "execution_count": 10,
   "metadata": {
    "collapsed": false
   },
   "outputs": [
    {
     "name": "stdout",
     "output_type": "stream",
     "text": [
      "1.5.1\n"
     ]
    }
   ],
   "source": [
    "from sklearn import cross_validation\n",
    "import matplotlib.cm as cm\n",
    "import matplotlib.mlab as mlab\n",
    "import matplotlib.pyplot as plt\n",
    "from matplotlib.colors import LogNorm\n",
    "\n",
    "# the most current version of matplotlib needs to be installed\n",
    "#import pip\n",
    "#pip.main(['install', '--upgrade','matplotlib'])\n",
    "\n",
    "%matplotlib inline\n",
    "import matplotlib\n",
    "print  matplotlib.__version__\n",
    "# this version should be above 1.4.0 "
   ]
  },
  {
   "cell_type": "code",
   "execution_count": 11,
   "metadata": {
    "collapsed": false
   },
   "outputs": [
    {
     "data": {
      "image/png": "[encoded data removed]",
      "text/plain": [
       "<matplotlib.figure.Figure at 0x7f5b9521c450>"
      ]
     },
     "metadata": {},
     "output_type": "display_data"
    }
   ],
   "source": [
    "X, Y = np.meshgrid(C,gamma)\n",
    "acc = np.zeros(X.shape)\n",
    "for i, c in enumerate(C):\n",
    "    for j, g in enumerate(gamma):\n",
    "        clf = SVC(C=c,gamma=g)\n",
    "        scores = cross_validation.cross_val_score(clf, train[:,0:2], train[:,2], cv=4)\n",
    "        #print(\"Accuracy: %0.2f (+/- %0.2f)\" % (scores.mean(), scores.std() * 2))\n",
    "        acc[j,i] = scores.mean()\n",
    "plt.xscale('log', basex=2)\n",
    "plt.yscale('log', basey=2)\n",
    "CS = plt.contour(X,Y, acc)\n",
    "plt.clabel(CS, inline=1, fontsize=10)\n",
    "plt.xlabel('C')\n",
    "plt.ylabel('gamma')\n",
    "plt.show()"
   ]
  },
  {
   "cell_type": "markdown",
   "metadata": {},
   "source": [
    "<img src=\"Auswahl_2016-01-11_010.png\">"
   ]
  },
  {
   "cell_type": "code",
   "execution_count": 12,
   "metadata": {
    "collapsed": false
   },
   "outputs": [
    {
     "name": "stdout",
     "output_type": "stream",
     "text": [
      "[-5 -3 -1  1  3  5  7  9 11 13 15 17 19 21 23 25 27 29 31 33 35 37 39]\n",
      "[-15 -13 -11  -9  -7  -5  -3  -1   1   3   5   7   9]\n"
     ]
    }
   ],
   "source": [
    "exp = np.arange(-5,40,2)\n",
    "print exp\n",
    "C = np.power(2.0,exp)\n",
    "exp = np.arange(-15,10,2)\n",
    "print exp\n",
    "gamma = np.power(2.0,exp)"
   ]
  },
  {
   "cell_type": "code",
   "execution_count": 13,
   "metadata": {
    "collapsed": false
   },
   "outputs": [
    {
     "data": {
      "image/png": "[encoded data removed]",
      "text/plain": [
       "<matplotlib.figure.Figure at 0x7f5b954d1f50>"
      ]
     },
     "metadata": {},
     "output_type": "display_data"
    }
   ],
   "source": [
    "X, Y = np.meshgrid(C,gamma)\n",
    "acc = np.zeros(X.shape)\n",
    "for i, c in enumerate(C):\n",
    "    for j, g in enumerate(gamma):\n",
    "        clf = SVC(C=c,gamma=g)\n",
    "        scores = cross_validation.cross_val_score(clf, train[:,0:2], train[:,2], cv=4)\n",
    "        #print(\"Accuracy: %0.2f (+/- %0.2f)\" % (scores.mean(), scores.std() * 2))\n",
    "        acc[j,i] = scores.mean()\n",
    "plt.xscale('log', basex=2)\n",
    "plt.yscale('log', basey=2)\n",
    "CS = plt.contour(X,Y, acc)\n",
    "plt.clabel(CS, inline=1, fontsize=10)\n",
    "plt.xlabel('C')\n",
    "plt.ylabel('gamma')\n",
    "plt.show()"
   ]
  },
  {
   "cell_type": "raw",
   "metadata": {},
   "source": []
  },
  {
   "cell_type": "code",
   "execution_count": 14,
   "metadata": {
    "collapsed": false
   },
   "outputs": [],
   "source": [
    "exp = np.arange(7,20,1)\n",
    "C = np.power(2.0,exp)\n",
    "exp = np.arange(-8,1,1)\n",
    "gamma = np.power(2.0,exp)"
   ]
  },
  {
   "cell_type": "code",
   "execution_count": 15,
   "metadata": {
    "collapsed": false
   },
   "outputs": [
    {
     "data": {
      "image/png": "[encoded data removed]",
      "text/plain": [
       "<matplotlib.figure.Figure at 0x7f5b9505cd10>"
      ]
     },
     "metadata": {},
     "output_type": "display_data"
    }
   ],
   "source": [
    "X, Y = np.meshgrid(C,gamma)\n",
    "acc = np.zeros(X.shape)\n",
    "for i, c in enumerate(C):\n",
    "    for j, g in enumerate(gamma):\n",
    "        clf = SVC(C=c,gamma=g)\n",
    "        scores = cross_validation.cross_val_score(clf, train[:,0:2], train[:,2], cv=4)\n",
    "        #print(\"Accuracy: %0.2f (+/- %0.2f)\" % (scores.mean(), scores.std() * 2))\n",
    "        acc[j,i] = scores.mean()\n",
    "plt.xscale('log', basex=2)\n",
    "plt.yscale('log', basey=2)\n",
    "CS = plt.contour(X,Y, acc)\n",
    "plt.clabel(CS, inline=1, fontsize=10)\n",
    "plt.xlabel('log C')\n",
    "plt.ylabel('log gamma')\n",
    "plt.show()"
   ]
  },
  {
   "cell_type": "markdown",
   "metadata": {},
   "source": []
  },
  {
   "cell_type": "code",
   "execution_count": 22,
   "metadata": {
    "collapsed": true
   },
   "outputs": [],
   "source": [
    "exp = np.arange(14,15,0.1)\n",
    "C = np.power(2.0,exp)\n",
    "exp = np.arange(-3.5,-2.5,0.1)\n",
    "gamma = np.power(2.0,exp)"
   ]
  },
  {
   "cell_type": "code",
   "execution_count": 28,
   "metadata": {
    "collapsed": false,
    "scrolled": true
   },
   "outputs": [
    {
     "data": {
      "application/javascript": [
       "/* Put everything inside the global mpl namespace */\n",
       "window.mpl = {};\n",
       "\n",
       "mpl.get_websocket_type = function() {\n",
       "    if (typeof(WebSocket) !== 'undefined') {\n",
       "        return WebSocket;\n",
       "    } else if (typeof(MozWebSocket) !== 'undefined') {\n",
       "        return MozWebSocket;\n",
       "    } else {\n",
       "        alert('Your browser does not have WebSocket support.' +\n",
       "              'Please try Chrome, Safari or Firefox ≥ 6. ' +\n",
       "              'Firefox 4 and 5 are also supported but you ' +\n",
       "              'have to enable WebSockets in about:config.');\n",
       "    };\n",
       "}\n",
       "\n",
       "mpl.figure = function(figure_id, websocket, ondownload, parent_element) {\n",
       "    this.id = figure_id;\n",
       "\n",
       "    this.ws = websocket;\n",
       "\n",
       "    this.supports_binary = (this.ws.binaryType != undefined);\n",
       "\n",
       "    if (!this.supports_binary) {\n",
       "        var warnings = document.getElementById(\"mpl-warnings\");\n",
       "        if (warnings) {\n",
       "            warnings.style.display = 'block';\n",
       "            warnings.textContent = (\n",
       "                \"This browser does not support binary websocket messages. \" +\n",
       "                    \"Performance may be slow.\");\n",
       "        }\n",
       "    }\n",
       "\n",
       "    this.imageObj = new Image();\n",
       "\n",
       "    this.context = undefined;\n",
       "    this.message = undefined;\n",
       "    this.canvas = undefined;\n",
       "    this.rubberband_canvas = undefined;\n",
       "    this.rubberband_context = undefined;\n",
       "    this.format_dropdown = undefined;\n",
       "\n",
       "    this.image_mode = 'full';\n",
       "\n",
       "    this.root = $('<div/>');\n",
       "    this._root_extra_style(this.root)\n",
       "    this.root.attr('style', 'display: inline-block');\n",
       "\n",
       "    $(parent_element).append(this.root);\n",
       "\n",
       "    this._init_header(this);\n",
       "    this._init_canvas(this);\n",
       "    this._init_toolbar(this);\n",
       "\n",
       "    var fig = this;\n",
       "\n",
       "    this.waiting = false;\n",
       "\n",
       "    this.ws.onopen =  function () {\n",
       "            fig.send_message(\"supports_binary\", {value: fig.supports_binary});\n",
       "            fig.send_message(\"send_image_mode\", {});\n",
       "            fig.send_message(\"refresh\", {});\n",
       "        }\n",
       "\n",
       "    this.imageObj.onload = function() {\n",
       "            if (fig.image_mode == 'full') {\n",
       "                // Full images could contain transparency (where diff images\n",
       "                // almost always do), so we need to clear the canvas so that\n",
       "                // there is no ghosting.\n",
       "                fig.context.clearRect(0, 0, fig.canvas.width, fig.canvas.height);\n",
       "            }\n",
       "            fig.context.drawImage(fig.imageObj, 0, 0);\n",
       "        };\n",
       "\n",
       "    this.imageObj.onunload = function() {\n",
       "        this.ws.close();\n",
       "    }\n",
       "\n",
       "    this.ws.onmessage = this._make_on_message_function(this);\n",
       "\n",
       "    this.ondownload = ondownload;\n",
       "}\n",
       "\n",
       "mpl.figure.prototype._init_header = function() {\n",
       "    var titlebar = $(\n",
       "        '<div class=\"ui-dialog-titlebar ui-widget-header ui-corner-all ' +\n",
       "        'ui-helper-clearfix\"/>');\n",
       "    var titletext = $(\n",
       "        '<div class=\"ui-dialog-title\" style=\"width: 100%; ' +\n",
       "        'text-align: center; padding: 3px;\"/>');\n",
       "    titlebar.append(titletext)\n",
       "    this.root.append(titlebar);\n",
       "    this.header = titletext[0];\n",
       "}\n",
       "\n",
       "\n",
       "\n",
       "mpl.figure.prototype._canvas_extra_style = function(canvas_div) {\n",
       "\n",
       "}\n",
       "\n",
       "\n",
       "mpl.figure.prototype._root_extra_style = function(canvas_div) {\n",
       "\n",
       "}\n",
       "\n",
       "mpl.figure.prototype._init_canvas = function() {\n",
       "    var fig = this;\n",
       "\n",
       "    var canvas_div = $('<div/>');\n",
       "\n",
       "    canvas_div.attr('style', 'position: relative; clear: both; outline: 0');\n",
       "\n",
       "    function canvas_keyboard_event(event) {\n",
       "        return fig.key_event(event, event['data']);\n",
       "    }\n",
       "\n",
       "    canvas_div.keydown('key_press', canvas_keyboard_event);\n",
       "    canvas_div.keyup('key_release', canvas_keyboard_event);\n",
       "    this.canvas_div = canvas_div\n",
       "    this._canvas_extra_style(canvas_div)\n",
       "    this.root.append(canvas_div);\n",
       "\n",
       "    var canvas = $('<canvas/>');\n",
       "    canvas.addClass('mpl-canvas');\n",
       "    canvas.attr('style', \"left: 0; top: 0; z-index: 0; outline: 0\")\n",
       "\n",
       "    this.canvas = canvas[0];\n",
       "    this.context = canvas[0].getContext(\"2d\");\n",
       "\n",
       "    var rubberband = $('<canvas/>');\n",
       "    rubberband.attr('style', \"position: absolute; left: 0; top: 0; z-index: 1;\")\n",
       "\n",
       "    var pass_mouse_events = true;\n",
       "\n",
       "    canvas_div.resizable({\n",
       "        start: function(event, ui) {\n",
       "            pass_mouse_events = false;\n",
       "        },\n",
       "        resize: function(event, ui) {\n",
       "            fig.request_resize(ui.size.width, ui.size.height);\n",
       "        },\n",
       "        stop: function(event, ui) {\n",
       "            pass_mouse_events = true;\n",
       "            fig.request_resize(ui.size.width, ui.size.height);\n",
       "        },\n",
       "    });\n",
       "\n",
       "    function mouse_event_fn(event) {\n",
       "        if (pass_mouse_events)\n",
       "            return fig.mouse_event(event, event['data']);\n",
       "    }\n",
       "\n",
       "    rubberband.mousedown('button_press', mouse_event_fn);\n",
       "    rubberband.mouseup('button_release', mouse_event_fn);\n",
       "    // Throttle sequential mouse events to 1 every 20ms.\n",
       "    rubberband.mousemove('motion_notify', mouse_event_fn);\n",
       "\n",
       "    rubberband.mouseenter('figure_enter', mouse_event_fn);\n",
       "    rubberband.mouseleave('figure_leave', mouse_event_fn);\n",
       "\n",
       "    canvas_div.on(\"wheel\", function (event) {\n",
       "        event = event.originalEvent;\n",
       "        event['data'] = 'scroll'\n",
       "        if (event.deltaY < 0) {\n",
       "            event.step = 1;\n",
       "        } else {\n",
       "            event.step = -1;\n",
       "        }\n",
       "        mouse_event_fn(event);\n",
       "    });\n",
       "\n",
       "    canvas_div.append(canvas);\n",
       "    canvas_div.append(rubberband);\n",
       "\n",
       "    this.rubberband = rubberband;\n",
       "    this.rubberband_canvas = rubberband[0];\n",
       "    this.rubberband_context = rubberband[0].getContext(\"2d\");\n",
       "    this.rubberband_context.strokeStyle = \"#000000\";\n",
       "\n",
       "    this._resize_canvas = function(width, height) {\n",
       "        // Keep the size of the canvas, canvas container, and rubber band\n",
       "        // canvas in synch.\n",
       "        canvas_div.css('width', width)\n",
       "        canvas_div.css('height', height)\n",
       "\n",
       "        canvas.attr('width', width);\n",
       "        canvas.attr('height', height);\n",
       "\n",
       "        rubberband.attr('width', width);\n",
       "        rubberband.attr('height', height);\n",
       "    }\n",
       "\n",
       "    // Set the figure to an initial 600x600px, this will subsequently be updated\n",
       "    // upon first draw.\n",
       "    this._resize_canvas(600, 600);\n",
       "\n",
       "    // Disable right mouse context menu.\n",
       "    $(this.rubberband_canvas).bind(\"contextmenu\",function(e){\n",
       "        return false;\n",
       "    });\n",
       "\n",
       "    function set_focus () {\n",
       "        canvas.focus();\n",
       "        canvas_div.focus();\n",
       "    }\n",
       "\n",
       "    window.setTimeout(set_focus, 100);\n",
       "}\n",
       "\n",
       "mpl.figure.prototype._init_toolbar = function() {\n",
       "    var fig = this;\n",
       "\n",
       "    var nav_element = $('<div/>')\n",
       "    nav_element.attr('style', 'width: 100%');\n",
       "    this.root.append(nav_element);\n",
       "\n",
       "    // Define a callback function for later on.\n",
       "    function toolbar_event(event) {\n",
       "        return fig.toolbar_button_onclick(event['data']);\n",
       "    }\n",
       "    function toolbar_mouse_event(event) {\n",
       "        return fig.toolbar_button_onmouseover(event['data']);\n",
       "    }\n",
       "\n",
       "    for(var toolbar_ind in mpl.toolbar_items) {\n",
       "        var name = mpl.toolbar_items[toolbar_ind][0];\n",
       "        var tooltip = mpl.toolbar_items[toolbar_ind][1];\n",
       "        var image = mpl.toolbar_items[toolbar_ind][2];\n",
       "        var method_name = mpl.toolbar_items[toolbar_ind][3];\n",
       "\n",
       "        if (!name) {\n",
       "            // put a spacer in here.\n",
       "            continue;\n",
       "        }\n",
       "        var button = $('<button/>');\n",
       "        button.addClass('ui-button ui-widget ui-state-default ui-corner-all ' +\n",
       "                        'ui-button-icon-only');\n",
       "        button.attr('role', 'button');\n",
       "        button.attr('aria-disabled', 'false');\n",
       "        button.click(method_name, toolbar_event);\n",
       "        button.mouseover(tooltip, toolbar_mouse_event);\n",
       "\n",
       "        var icon_img = $('<span/>');\n",
       "        icon_img.addClass('ui-button-icon-primary ui-icon');\n",
       "        icon_img.addClass(image);\n",
       "        icon_img.addClass('ui-corner-all');\n",
       "\n",
       "        var tooltip_span = $('<span/>');\n",
       "        tooltip_span.addClass('ui-button-text');\n",
       "        tooltip_span.html(tooltip);\n",
       "\n",
       "        button.append(icon_img);\n",
       "        button.append(tooltip_span);\n",
       "\n",
       "        nav_element.append(button);\n",
       "    }\n",
       "\n",
       "    var fmt_picker_span = $('<span/>');\n",
       "\n",
       "    var fmt_picker = $('<select/>');\n",
       "    fmt_picker.addClass('mpl-toolbar-option ui-widget ui-widget-content');\n",
       "    fmt_picker_span.append(fmt_picker);\n",
       "    nav_element.append(fmt_picker_span);\n",
       "    this.format_dropdown = fmt_picker[0];\n",
       "\n",
       "    for (var ind in mpl.extensions) {\n",
       "        var fmt = mpl.extensions[ind];\n",
       "        var option = $(\n",
       "            '<option/>', {selected: fmt === mpl.default_extension}).html(fmt);\n",
       "        fmt_picker.append(option)\n",
       "    }\n",
       "\n",
       "    // Add hover states to the ui-buttons\n",
       "    $( \".ui-button\" ).hover(\n",
       "        function() { $(this).addClass(\"ui-state-hover\");},\n",
       "        function() { $(this).removeClass(\"ui-state-hover\");}\n",
       "    );\n",
       "\n",
       "    var status_bar = $('<span class=\"mpl-message\"/>');\n",
       "    nav_element.append(status_bar);\n",
       "    this.message = status_bar[0];\n",
       "}\n",
       "\n",
       "mpl.figure.prototype.request_resize = function(x_pixels, y_pixels) {\n",
       "    // Request matplotlib to resize the figure. Matplotlib will then trigger a resize in the client,\n",
       "    // which will in turn request a refresh of the image.\n",
       "    this.send_message('resize', {'width': x_pixels, 'height': y_pixels});\n",
       "}\n",
       "\n",
       "mpl.figure.prototype.send_message = function(type, properties) {\n",
       "    properties['type'] = type;\n",
       "    properties['figure_id'] = this.id;\n",
       "    this.ws.send(JSON.stringify(properties));\n",
       "}\n",
       "\n",
       "mpl.figure.prototype.send_draw_message = function() {\n",
       "    if (!this.waiting) {\n",
       "        this.waiting = true;\n",
       "        this.ws.send(JSON.stringify({type: \"draw\", figure_id: this.id}));\n",
       "    }\n",
       "}\n",
       "\n",
       "\n",
       "mpl.figure.prototype.handle_save = function(fig, msg) {\n",
       "    var format_dropdown = fig.format_dropdown;\n",
       "    var format = format_dropdown.options[format_dropdown.selectedIndex].value;\n",
       "    fig.ondownload(fig, format);\n",
       "}\n",
       "\n",
       "\n",
       "mpl.figure.prototype.handle_resize = function(fig, msg) {\n",
       "    var size = msg['size'];\n",
       "    if (size[0] != fig.canvas.width || size[1] != fig.canvas.height) {\n",
       "        fig._resize_canvas(size[0], size[1]);\n",
       "        fig.send_message(\"refresh\", {});\n",
       "    };\n",
       "}\n",
       "\n",
       "mpl.figure.prototype.handle_rubberband = function(fig, msg) {\n",
       "    var x0 = msg['x0'];\n",
       "    var y0 = fig.canvas.height - msg['y0'];\n",
       "    var x1 = msg['x1'];\n",
       "    var y1 = fig.canvas.height - msg['y1'];\n",
       "    x0 = Math.floor(x0) + 0.5;\n",
       "    y0 = Math.floor(y0) + 0.5;\n",
       "    x1 = Math.floor(x1) + 0.5;\n",
       "    y1 = Math.floor(y1) + 0.5;\n",
       "    var min_x = Math.min(x0, x1);\n",
       "    var min_y = Math.min(y0, y1);\n",
       "    var width = Math.abs(x1 - x0);\n",
       "    var height = Math.abs(y1 - y0);\n",
       "\n",
       "    fig.rubberband_context.clearRect(\n",
       "        0, 0, fig.canvas.width, fig.canvas.height);\n",
       "\n",
       "    fig.rubberband_context.strokeRect(min_x, min_y, width, height);\n",
       "}\n",
       "\n",
       "mpl.figure.prototype.handle_figure_label = function(fig, msg) {\n",
       "    // Updates the figure title.\n",
       "    fig.header.textContent = msg['label'];\n",
       "}\n",
       "\n",
       "mpl.figure.prototype.handle_cursor = function(fig, msg) {\n",
       "    var cursor = msg['cursor'];\n",
       "    switch(cursor)\n",
       "    {\n",
       "    case 0:\n",
       "        cursor = 'pointer';\n",
       "        break;\n",
       "    case 1:\n",
       "        cursor = 'default';\n",
       "        break;\n",
       "    case 2:\n",
       "        cursor = 'crosshair';\n",
       "        break;\n",
       "    case 3:\n",
       "        cursor = 'move';\n",
       "        break;\n",
       "    }\n",
       "    fig.rubberband_canvas.style.cursor = cursor;\n",
       "}\n",
       "\n",
       "mpl.figure.prototype.handle_message = function(fig, msg) {\n",
       "    fig.message.textContent = msg['message'];\n",
       "}\n",
       "\n",
       "mpl.figure.prototype.handle_draw = function(fig, msg) {\n",
       "    // Request the server to send over a new figure.\n",
       "    fig.send_draw_message();\n",
       "}\n",
       "\n",
       "mpl.figure.prototype.handle_image_mode = function(fig, msg) {\n",
       "    fig.image_mode = msg['mode'];\n",
       "}\n",
       "\n",
       "mpl.figure.prototype.updated_canvas_event = function() {\n",
       "    // Called whenever the canvas gets updated.\n",
       "    this.send_message(\"ack\", {});\n",
       "}\n",
       "\n",
       "// A function to construct a web socket function for onmessage handling.\n",
       "// Called in the figure constructor.\n",
       "mpl.figure.prototype._make_on_message_function = function(fig) {\n",
       "    return function socket_on_message(evt) {\n",
       "        if (evt.data instanceof Blob) {\n",
       "            /* FIXME: We get \"Resource interpreted as Image but\n",
       "             * transferred with MIME type text/plain:\" errors on\n",
       "             * Chrome.  But how to set the MIME type?  It doesn't seem\n",
       "             * to be part of the websocket stream */\n",
       "            evt.data.type = \"image/png\";\n",
       "\n",
       "            /* Free the memory for the previous frames */\n",
       "            if (fig.imageObj.src) {\n",
       "                (window.URL || window.webkitURL).revokeObjectURL(\n",
       "                    fig.imageObj.src);\n",
       "            }\n",
       "\n",
       "            fig.imageObj.src = (window.URL || window.webkitURL).createObjectURL(\n",
       "                evt.data);\n",
       "            fig.updated_canvas_event();\n",
       "            fig.waiting = false;\n",
       "            return;\n",
       "        }\n",
       "        else if (typeof evt.data === 'string' && evt.data.slice(0, 21) == \"data:image/png;base64\") {\n",
       "            fig.imageObj.src = evt.data;\n",
       "            fig.updated_canvas_event();\n",
       "            fig.waiting = false;\n",
       "            return;\n",
       "        }\n",
       "\n",
       "        var msg = JSON.parse(evt.data);\n",
       "        var msg_type = msg['type'];\n",
       "\n",
       "        // Call the  \"handle_{type}\" callback, which takes\n",
       "        // the figure and JSON message as its only arguments.\n",
       "        try {\n",
       "            var callback = fig[\"handle_\" + msg_type];\n",
       "        } catch (e) {\n",
       "            console.log(\"No handler for the '\" + msg_type + \"' message type: \", msg);\n",
       "            return;\n",
       "        }\n",
       "\n",
       "        if (callback) {\n",
       "            try {\n",
       "                // console.log(\"Handling '\" + msg_type + \"' message: \", msg);\n",
       "                callback(fig, msg);\n",
       "            } catch (e) {\n",
       "                console.log(\"Exception inside the 'handler_\" + msg_type + \"' callback:\", e, e.stack, msg);\n",
       "            }\n",
       "        }\n",
       "    };\n",
       "}\n",
       "\n",
       "// from http://stackoverflow.com/questions/1114465/getting-mouse-location-in-canvas\n",
       "mpl.findpos = function(e) {\n",
       "    //this section is from http://www.quirksmode.org/js/events_properties.html\n",
       "    var targ;\n",
       "    if (!e)\n",
       "        e = window.event;\n",
       "    if (e.target)\n",
       "        targ = e.target;\n",
       "    else if (e.srcElement)\n",
       "        targ = e.srcElement;\n",
       "    if (targ.nodeType == 3) // defeat Safari bug\n",
       "        targ = targ.parentNode;\n",
       "\n",
       "    // jQuery normalizes the pageX and pageY\n",
       "    // pageX,Y are the mouse positions relative to the document\n",
       "    // offset() returns the position of the element relative to the document\n",
       "    var x = e.pageX - $(targ).offset().left;\n",
       "    var y = e.pageY - $(targ).offset().top;\n",
       "\n",
       "    return {\"x\": x, \"y\": y};\n",
       "};\n",
       "\n",
       "/*\n",
       " * return a copy of an object with only non-object keys\n",
       " * we need this to avoid circular references\n",
       " * http://stackoverflow.com/a/24161582/3208463\n",
       " */\n",
       "function simpleKeys (original) {\n",
       "  return Object.keys(original).reduce(function (obj, key) {\n",
       "    if (typeof original[key] !== 'object')\n",
       "        obj[key] = original[key]\n",
       "    return obj;\n",
       "  }, {});\n",
       "}\n",
       "\n",
       "mpl.figure.prototype.mouse_event = function(event, name) {\n",
       "    var canvas_pos = mpl.findpos(event)\n",
       "\n",
       "    if (name === 'button_press')\n",
       "    {\n",
       "        this.canvas.focus();\n",
       "        this.canvas_div.focus();\n",
       "    }\n",
       "\n",
       "    var x = canvas_pos.x;\n",
       "    var y = canvas_pos.y;\n",
       "\n",
       "    this.send_message(name, {x: x, y: y, button: event.button,\n",
       "                             step: event.step,\n",
       "                             guiEvent: simpleKeys(event)});\n",
       "\n",
       "    /* This prevents the web browser from automatically changing to\n",
       "     * the text insertion cursor when the button is pressed.  We want\n",
       "     * to control all of the cursor setting manually through the\n",
       "     * 'cursor' event from matplotlib */\n",
       "    event.preventDefault();\n",
       "    return false;\n",
       "}\n",
       "\n",
       "mpl.figure.prototype._key_event_extra = function(event, name) {\n",
       "    // Handle any extra behaviour associated with a key event\n",
       "}\n",
       "\n",
       "mpl.figure.prototype.key_event = function(event, name) {\n",
       "\n",
       "    // Prevent repeat events\n",
       "    if (name == 'key_press')\n",
       "    {\n",
       "        if (event.which === this._key)\n",
       "            return;\n",
       "        else\n",
       "            this._key = event.which;\n",
       "    }\n",
       "    if (name == 'key_release')\n",
       "        this._key = null;\n",
       "\n",
       "    var value = '';\n",
       "    if (event.ctrlKey && event.which != 17)\n",
       "        value += \"ctrl+\";\n",
       "    if (event.altKey && event.which != 18)\n",
       "        value += \"alt+\";\n",
       "    if (event.shiftKey && event.which != 16)\n",
       "        value += \"shift+\";\n",
       "\n",
       "    value += 'k';\n",
       "    value += event.which.toString();\n",
       "\n",
       "    this._key_event_extra(event, name);\n",
       "\n",
       "    this.send_message(name, {key: value,\n",
       "                             guiEvent: simpleKeys(event)});\n",
       "    return false;\n",
       "}\n",
       "\n",
       "mpl.figure.prototype.toolbar_button_onclick = function(name) {\n",
       "    if (name == 'download') {\n",
       "        this.handle_save(this, null);\n",
       "    } else {\n",
       "        this.send_message(\"toolbar_button\", {name: name});\n",
       "    }\n",
       "};\n",
       "\n",
       "mpl.figure.prototype.toolbar_button_onmouseover = function(tooltip) {\n",
       "    this.message.textContent = tooltip;\n",
       "};\n",
       "mpl.toolbar_items = [[\"Home\", \"Reset original view\", \"fa fa-home icon-home\", \"home\"], [\"Back\", \"Back to  previous view\", \"fa fa-arrow-left icon-arrow-left\", \"back\"], [\"Forward\", \"Forward to next view\", \"fa fa-arrow-right icon-arrow-right\", \"forward\"], [\"\", \"\", \"\", \"\"], [\"Pan\", \"Pan axes with left mouse, zoom with right\", \"fa fa-arrows icon-move\", \"pan\"], [\"Zoom\", \"Zoom to rectangle\", \"fa fa-square-o icon-check-empty\", \"zoom\"], [\"\", \"\", \"\", \"\"], [\"Download\", \"Download plot\", \"fa fa-floppy-o icon-save\", \"download\"]];\n",
       "\n",
       "mpl.extensions = [\"eps\", \"jpeg\", \"pdf\", \"png\", \"ps\", \"raw\", \"svg\", \"tif\"];\n",
       "\n",
       "mpl.default_extension = \"png\";var comm_websocket_adapter = function(comm) {\n",
       "    // Create a \"websocket\"-like object which calls the given IPython comm\n",
       "    // object with the appropriate methods. Currently this is a non binary\n",
       "    // socket, so there is still some room for performance tuning.\n",
       "    var ws = {};\n",
       "\n",
       "    ws.close = function() {\n",
       "        comm.close()\n",
       "    };\n",
       "    ws.send = function(m) {\n",
       "        //console.log('sending', m);\n",
       "        comm.send(m);\n",
       "    };\n",
       "    // Register the callback with on_msg.\n",
       "    comm.on_msg(function(msg) {\n",
       "        //console.log('receiving', msg['content']['data'], msg);\n",
       "        // Pass the mpl event to the overriden (by mpl) onmessage function.\n",
       "        ws.onmessage(msg['content']['data'])\n",
       "    });\n",
       "    return ws;\n",
       "}\n",
       "\n",
       "mpl.mpl_figure_comm = function(comm, msg) {\n",
       "    // This is the function which gets called when the mpl process\n",
       "    // starts-up an IPython Comm through the \"matplotlib\" channel.\n",
       "\n",
       "    var id = msg.content.data.id;\n",
       "    // Get hold of the div created by the display call when the Comm\n",
       "    // socket was opened in Python.\n",
       "    var element = $(\"#\" + id);\n",
       "    var ws_proxy = comm_websocket_adapter(comm)\n",
       "\n",
       "    function ondownload(figure, format) {\n",
       "        window.open(figure.imageObj.src);\n",
       "    }\n",
       "\n",
       "    var fig = new mpl.figure(id, ws_proxy,\n",
       "                           ondownload,\n",
       "                           element.get(0));\n",
       "\n",
       "    // Call onopen now - mpl needs it, as it is assuming we've passed it a real\n",
       "    // web socket which is closed, not our websocket->open comm proxy.\n",
       "    ws_proxy.onopen();\n",
       "\n",
       "    fig.parent_element = element.get(0);\n",
       "    fig.cell_info = mpl.find_output_cell(\"<div id='\" + id + \"'></div>\");\n",
       "    if (!fig.cell_info) {\n",
       "        console.error(\"Failed to find cell for figure\", id, fig);\n",
       "        return;\n",
       "    }\n",
       "\n",
       "    var output_index = fig.cell_info[2]\n",
       "    var cell = fig.cell_info[0];\n",
       "\n",
       "};\n",
       "\n",
       "mpl.figure.prototype.handle_close = function(fig, msg) {\n",
       "    fig.root.unbind('remove')\n",
       "\n",
       "    // Update the output cell to use the data from the current canvas.\n",
       "    fig.push_to_output();\n",
       "    var dataURL = fig.canvas.toDataURL();\n",
       "    // Re-enable the keyboard manager in IPython - without this line, in FF,\n",
       "    // the notebook keyboard shortcuts fail.\n",
       "    IPython.keyboard_manager.enable()\n",
       "    $(fig.parent_element).html('<img src=\"' + dataURL + '\">');\n",
       "    fig.close_ws(fig, msg);\n",
       "}\n",
       "\n",
       "mpl.figure.prototype.close_ws = function(fig, msg){\n",
       "    fig.send_message('closing', msg);\n",
       "    // fig.ws.close()\n",
       "}\n",
       "\n",
       "mpl.figure.prototype.push_to_output = function(remove_interactive) {\n",
       "    // Turn the data on the canvas into data in the output cell.\n",
       "    var dataURL = this.canvas.toDataURL();\n",
       "    this.cell_info[1]['text/html'] = '<img src=\"' + dataURL + '\">';\n",
       "}\n",
       "\n",
       "mpl.figure.prototype.updated_canvas_event = function() {\n",
       "    // Tell IPython that the notebook contents must change.\n",
       "    IPython.notebook.set_dirty(true);\n",
       "    this.send_message(\"ack\", {});\n",
       "    var fig = this;\n",
       "    // Wait a second, then push the new image to the DOM so\n",
       "    // that it is saved nicely (might be nice to debounce this).\n",
       "    setTimeout(function () { fig.push_to_output() }, 1000);\n",
       "}\n",
       "\n",
       "mpl.figure.prototype._init_toolbar = function() {\n",
       "    var fig = this;\n",
       "\n",
       "    var nav_element = $('<div/>')\n",
       "    nav_element.attr('style', 'width: 100%');\n",
       "    this.root.append(nav_element);\n",
       "\n",
       "    // Define a callback function for later on.\n",
       "    function toolbar_event(event) {\n",
       "        return fig.toolbar_button_onclick(event['data']);\n",
       "    }\n",
       "    function toolbar_mouse_event(event) {\n",
       "        return fig.toolbar_button_onmouseover(event['data']);\n",
       "    }\n",
       "\n",
       "    for(var toolbar_ind in mpl.toolbar_items){\n",
       "        var name = mpl.toolbar_items[toolbar_ind][0];\n",
       "        var tooltip = mpl.toolbar_items[toolbar_ind][1];\n",
       "        var image = mpl.toolbar_items[toolbar_ind][2];\n",
       "        var method_name = mpl.toolbar_items[toolbar_ind][3];\n",
       "\n",
       "        if (!name) { continue; };\n",
       "\n",
       "        var button = $('<button class=\"btn btn-default\" href=\"#\" title=\"' + name + '\"><i class=\"fa ' + image + ' fa-lg\"></i></button>');\n",
       "        button.click(method_name, toolbar_event);\n",
       "        button.mouseover(tooltip, toolbar_mouse_event);\n",
       "        nav_element.append(button);\n",
       "    }\n",
       "\n",
       "    // Add the status bar.\n",
       "    var status_bar = $('<span class=\"mpl-message\" style=\"text-align:right; float: right;\"/>');\n",
       "    nav_element.append(status_bar);\n",
       "    this.message = status_bar[0];\n",
       "\n",
       "    // Add the close button to the window.\n",
       "    var buttongrp = $('<div class=\"btn-group inline pull-right\"></div>');\n",
       "    var button = $('<button class=\"btn btn-mini btn-primary\" href=\"#\" title=\"Stop Interaction\"><i class=\"fa fa-power-off icon-remove icon-large\"></i></button>');\n",
       "    button.click(function (evt) { fig.handle_close(fig, {}); } );\n",
       "    button.mouseover('Stop Interaction', toolbar_mouse_event);\n",
       "    buttongrp.append(button);\n",
       "    var titlebar = this.root.find($('.ui-dialog-titlebar'));\n",
       "    titlebar.prepend(buttongrp);\n",
       "}\n",
       "\n",
       "mpl.figure.prototype._root_extra_style = function(el){\n",
       "    var fig = this\n",
       "    el.on(\"remove\", function(){\n",
       "\tfig.close_ws(fig, {});\n",
       "    });\n",
       "}\n",
       "\n",
       "mpl.figure.prototype._canvas_extra_style = function(el){\n",
       "    // this is important to make the div 'focusable\n",
       "    el.attr('tabindex', 0)\n",
       "    // reach out to IPython and tell the keyboard manager to turn it's self\n",
       "    // off when our div gets focus\n",
       "\n",
       "    // location in version 3\n",
       "    if (IPython.notebook.keyboard_manager) {\n",
       "        IPython.notebook.keyboard_manager.register_events(el);\n",
       "    }\n",
       "    else {\n",
       "        // location in version 2\n",
       "        IPython.keyboard_manager.register_events(el);\n",
       "    }\n",
       "\n",
       "}\n",
       "\n",
       "mpl.figure.prototype._key_event_extra = function(event, name) {\n",
       "    var manager = IPython.notebook.keyboard_manager;\n",
       "    if (!manager)\n",
       "        manager = IPython.keyboard_manager;\n",
       "\n",
       "    // Check for shift+enter\n",
       "    if (event.shiftKey && event.which == 13) {\n",
       "        this.canvas_div.blur();\n",
       "        event.shiftKey = false;\n",
       "        // Send a \"J\" for go to next cell\n",
       "        event.which = 74;\n",
       "        event.keyCode = 74;\n",
       "        manager.command_mode();\n",
       "        manager.handle_keydown(event);\n",
       "    }\n",
       "}\n",
       "\n",
       "mpl.figure.prototype.handle_save = function(fig, msg) {\n",
       "    fig.ondownload(fig, null);\n",
       "}\n",
       "\n",
       "\n",
       "mpl.find_output_cell = function(html_output) {\n",
       "    // Return the cell and output element which can be found *uniquely* in the notebook.\n",
       "    // Note - this is a bit hacky, but it is done because the \"notebook_saving.Notebook\"\n",
       "    // IPython event is triggered only after the cells have been serialised, which for\n",
       "    // our purposes (turning an active figure into a static one), is too late.\n",
       "    var cells = IPython.notebook.get_cells();\n",
       "    var ncells = cells.length;\n",
       "    for (var i=0; i<ncells; i++) {\n",
       "        var cell = cells[i];\n",
       "        if (cell.cell_type === 'code'){\n",
       "            for (var j=0; j<cell.output_area.outputs.length; j++) {\n",
       "                var data = cell.output_area.outputs[j];\n",
       "                if (data.data) {\n",
       "                    // IPython >= 3 moved mimebundle to data attribute of output\n",
       "                    data = data.data;\n",
       "                }\n",
       "                if (data['text/html'] == html_output) {\n",
       "                    return [cell, data, j];\n",
       "                }\n",
       "            }\n",
       "        }\n",
       "    }\n",
       "}\n",
       "\n",
       "// Register the function which deals with the matplotlib target/channel.\n",
       "// The kernel may be null if the page has been refreshed.\n",
       "if (IPython.notebook.kernel != null) {\n",
       "    IPython.notebook.kernel.comm_manager.register_target('matplotlib', mpl.mpl_figure_comm);\n",
       "}\n"
      ],
      "text/plain": [
       "<IPython.core.display.Javascript object>"
      ]
     },
     "metadata": {},
     "output_type": "display_data"
    },
    {
     "data": {
      "text/html": [
       "<img src=\"data:image/png;base64,iVBORw0KGgoAAAANSUhEUgAAAeAAAAFACAYAAABkyK97AAAgAElEQVR4Xu2dCZyV8/7H37NVMzUz7RslbUS0UShdkpKlUPhzRZuihShx5aJSSkgK0WrfQrILybW0uCoUuVqUFu0z0zLN+n/9znOmpm3Oc86c5XnmfJ7Xy7015/f8ft/n/f1Nn/N5flsMukRABERABERABMJOICbsLapBERABERABERABJMDqBCIgAiIgAiIQAQIS4AhAV5MiIAIiIAIiIAFWHxABERABERCBCBCQAEcAupoUAREQAREQAQmw+oAIiIAIiIAIRICABDgC0NWkCIiACIiACEiA1QdEQAREQAREIAIEJMARgK4mRUAEREAEREACrD4gAiIgAiIgAhEgIAGOAHQ1KQIiIAIiIAISYPUBERABERABEYgAAQlwBKCrSREQAREQARGQAKsPiIAIiIAIiEAECEiAIwBdTYqACIiACIiABFh9QAREQAREQAQiQEACHAHoalIEREAEREAEJMDqAyIgAiIgAiIQAQIS4AhAV5MiIAIiIAIiIAFWHxABERABERCBCBCQAEcAupoUAREQAREQAQmw+oAIiIAIiIAIRICABDgC0NWkCIiACIiACEiA1QdEQAREQAREIAIEJMARgK4mRUAEREAEREACrD4gAiIgAiIgAhEgIAGOAHQ1KQIiIAIiIAISYPUBERABERABEYgAAQlwBKCrSREQAREQARGQAKsPiIAIiIAIiEAECESbAJvnrQlkRIC1mhQBERABEQgugWRgE5Af3GrDU1u0CfAJwF/hQatWREAEREAEwkDgRGBjGNoJehPRJsApQNqGDRtISTF/1BUtBDbyF+8zlwTiuYIrqUpVn4+emQdjt8Ozu+DuSjC4EsT7+I3Jz4cX34PhE6FLOxh9B5QvIV3thx82MmDAR8THxzJ58qU0a1bDJ0MVEIFQEUhPT6dWrVqm+lQgPVTthLLeqBTgtLQ0CXAoe5VD684mm6/4koV8T1suoA3nE0ecz2iX7IcemyAxBmbVhMZlfN7C+k1wy4Ow4g+YOgI6tfV9jxtKZGXlMnbsN57/Bg5syUMPXUBSUoIbQleMJYyAEeDUVKO9EmC3pNbjgCXAbklXaOL8iw28y9skkMBVdKMa1Xw2ZNzwiG0wcSfcXxmGVbbnhqe/DUMehW4d4PFhJccNr1ixlT593mf79n1MnXoFF1xQxydDFRCBYBKQAAeTZnjqkgCHh7PjW5EbLn6KcnPzmDx5MfffP58bbmjMo49eTGqqjdcDxW9aNYgAEmD3dQIJsPtyFtKI5YaLj3ft2l306/cBK1Zs49lnL6Nz51OKX6lqEAEfBCTA7usiEmD35SzkEYfbDfd5AFauLlljw/n5+bzwwnLuvPNTOnasx1NPdaJq1bIhz50aiF4CEmD35V4C7L6chS3icLrhabOtseFrOpasseEtW/YwaNDHfPnlWp58siM33ngmMTHRNtczbF02qhuSALsv/RJg9+UsrBFHwg0vWAKlS4X1Mf1uLD4OBv0ThveDUjZifffdX+nf/yOaNq3OlCmXcdJJ5f1uUzeIQFEEJMDu6x8SYPflLCIRh9MN/74OcnIi8pi2G922CwY/Ann5MHM0tDjd9627du3n7rvn8cYbK3jkkYvo3/9sYmPlhn2TUwk7BCTAdig5q4wE2Fn5cHQ04XTDjgbhDS47Gx6ZCmOnweDu8OAAe879iy/W0LfvB1SvXo5p066gUaMqbnhcxehwAhJghyfoGOFJgN2Xs4hHHC43HPEHtRnAz79Dj/sg84Dlhlue6fvGvXuzeOCB+Tz77A8MH34+w4a1JiHB9yYovmtWiWglIAF2X+YlwO7LmSMilhs+PA3mlfn4GfDwczDgehgxEBJtLAFevHgjvXvP9byKnj69M2edZc5G0SUC/hOQAPvPLNJ3SIAjnQGXty83fHgCV/4BPYfD7gzLDZ/XzHeCzXaW48Z9wyOPaDtL37RU4ngEJMDu6xsSYPflzHERyw0f7YYnvAAPPQN9r7EOoEhK9J22gu0st23by0svXcW553o21tclArYISIBtYXJUIQmwo9Lh7mDkhg/P329roNf9sHUHzBgNbc/ynV+zneXTTy/hnHNOpGVLc1qoLhGwR0ACbI+Tk0pJgJ2UjRIQSzDc8FPVoWq8s2GY8E5KAF97auTmwlMvw7+fgp5XwSN3QjltiOXs5Lo0Ogmw+xInAXZfzlwRcXHc8KSd4PBlwOTkQ6dy8FwNqGnj9ME//rTc8F9/w7SR0O4cV6RRQbqIgATYRcnyhioBdl/OXBOxccPz+ZJFfp437IYH3JkLd2yBDzJgYnXonurbDeflwTOvwb1PwI1XwKNDIaWc/0+bl5evDTz8x1bi75AAuy/FEmD35cx1EW9gA3P8PG/YLQ85NwP6bYazyth3w2s2gDmAYvV6mDoSOrS2/7Rmotbzz/+XlSu306lTffr2bUG5cjb2wrTfhEq6lIAE2H2JkwC7L2eujFhu+PC0GTf8/Jsw7HG49hLrAIrU5KJTu29fNi1aPE///mdx8skVPGcP9+rVjGuvtbEPpit7jYL2h4AE2B9azigrAXZGHqImCrnhw1P950a45UHrOMbnH4JL/3H8rjBp0iJeeuknFi++xVNo3rzV3H//fBYt6nPUTTt37ic5uZR214qa3yyQALsv2RJg9+XM9RHLDR+ewvx8mP62dRzjVe1hwj1QIfXwMpmZOVx//du0b38yAwa09Hw4bdqPvP76L3z++U2Y5UtxcbGen3/77XomT17C8uVbqF+/IrfddhadOjVwfb/RAxRNQALsvh4iAXZfzkpMxHLDh6dyw2bo9xAs+w0WvAAN6hz63Jyk1KTJFL75phe1a1vq3Lv3e54/Dx/elvh4S3yXLdvC+PHfUbdueUaNaud5TW1+NmXK5cTFxXjOIs7JyTtYvsR0Jj2IHLAL+4AE2IVJK0khyw0f7Ybf+wKuuBDiCp3N8OOPm+nS5XU2bLjTc0N+fj7Nmz/PmDHtDnO3ptyQIZ8xaVInGjeuyp49WXTv/i69ezfj8ssb8sMPm3jrrRXMmbOKCy+sw113nUvDhpVKUpeK2meRA3Zf6iXA7stZiYy4sBu+lMspSwDrc8JIJpZYylOeGHyf5xvITOkjH2XNml0MH/4l997bmiZNqmPGg2fOXMZ33/WmTJl4jyAbd2uccteub3rOG27V6kTee+83rrnmLX766TZOPbUyTZtO4brrTuf6689g9OivqVOnvMdBF7zCljsOYycKclMS4CADDUN1EuAwQFYT9ggUdsN55Nm7KUKlTHwNaEhnriQF82tU9BXIuuEjaxw79humT19KhQqJ1K9fgRtuOMPjao+8Zs9eyYgRCzjjjKqYmdPmxKX16+/knXd+ZcKEhXz3XS+PWBtRN+PKb799LSeemMKSJRuZOvVHfv11O5dcUo9Bg1qRklLa16Ppc4cQkAA7JBF+hCEB9gOWiopAAYF97OMjPuB3VnEJnWhGC7/ccPMyMKUG1LKxi1Zh6st/y2PExAx27i1H53ZxJOxdSp3aSVxySf2jZjxv3pxB//4feUR01qwuDB36mafM2LHtPVWuXLmN886bzu7d92IOgDj33Omes4lPOqm8R6hvvrkJ3bqddsyklyo1iuxsZ39JCmZvNePngwa1ZPToi0hK8jNpwQykiLokwGECHcRmJMBBhKmqoo/AKn7jfd6jMlU8brgiFX1CMG546N8wOx3GVoVbK0Cs7zfZ7NsPLa6B/v8HJ58Ik1+Fy9vsoVm9nbRuXdvT7s03z6Fz54Z07XoaI0cuYP78dYwb154WLWrQqdMrDBzYks6dT/GUHTVqAUuXbuGdd67zvI6eN28NX33Vw/PZhx/+zqhRX7Nw4dFLnMznf/2V7vM5S1KBrVv3MmjQx54vKjNmdKFNG4u3ky4JsJOyYS8WCbA9TiolAsclkEkm8/iU5SyjHe05h3MxY8S+rnl7oO9mODEeptWEU3y87Z30Mrz0Pix+w6p53ndw/0RY9IY1Kcs40qefXuwR0rXrD3B+62oM6N/CM2Zstq+sXv0xli27lZo1rR0/Gjd+hiFDzuW66xrTrdubXHPNafTsaR1g/NRTizz1vP/+9QfHl309T0n/3IyTT5y4iH//ez59+zZ3nBuWALuvB0qA3ZczRexQAmtZy3u8SxJJdOEqqlHNZ6R78uDfW+G5XfDvKjC0EiQcww1nHoDrh0L7c2HADVa102bD6x/B5zPAnLpUMGv62x9h4kt5/PR7DA3rxHDbdXB+8yxuu+1DunZtxJVXnsqbb67wOLqNG+/yTNxq2vQ5li3rR5Uq1lFNN974jmcMeejQ8w6uL/b5MFFSYNWq7fTqNddxblgC7L4OKAF2X84UsYMJFJ5I1przacs/iMf32YoL90HvzVAqBqbXgOaJhz/krjRochV88zLUrml91vt+qF0DhveDeG8Ty36F8TOgbi0YdTtMfsVaVzzlQfjss/9x993zyM2DVi1rHnxVvWDBOo+grF59u6fe/fuzOeec6Tz5ZEcuvPBkB9OOXGhOdMMS4Mj1h0BblgAHSk73iUARBDaxkTm8Sy65XMlV1ML3mOGBPHhkOzy6AxadDGeUOdTAjyuhy0DY8KX1M7N7VvOuMGYwdGp7eDmzo9ak4dC4AezZC93vhd5d4fIL4IdfYNqbmcxbWIqLz4vlrh4Ql7vT81rVuN3mzWvw8MNf88knf7BgQQ+5Xx+93EluWALsvn+SJMDuy5kidgkBI77f8g0LmM9ZnM1FXEwpfJ9ctC4LTko4/HhDc4LS8Ilwbx9ociqY8eCZ78J3r0KZ0pYgx8SAccpdB8Mjg6FVEzCbelxzJ/w0B06tC02vgus6wfWXwejnoE5NGH4rmCVOZl2xmeHbtGl1brrpTI/7LVhf7BLkEQnTKW5YAhyR9BerUQlwsfDpZhHwTWA72zxuOJ10unAl9ajv+6ZjlBg71dozumIq1KsNN1xmudojr9mfwohn4IyGeGZOL/4Z1n8B78yDCS9aom3E2oi6GVeeMxlqVIGcHFiyZANVa1Rl/g+luaQNnFg9oFCj8qZIu2EJsPu6nQTYfTlTxC4kYDbu+IHFzOMzTuN0LuFSEjlioNfGcxmRnL8EmjeCSuVh6ltQvTIesUw4Ynnq5m3QfySklINZY2Doo1aZsXdZDa38A1rfCLsWHmrY7EfdfxR8uADG3QVDekLsMSZ0z3wH8vJtBFxCisTHQZd2UN7HniuRdMMSYPd1Ngmw+3KmiF1MYDe7PeuGN7OJy7iC02ns19OsyITnd8PKA9CpHHTYB2nboHVzq5qb/wWdL4SuHWDkMzB/sSWkLU6HTv1g4A3QuZ1V9uEpljue+zRkZ8O7n8Pc+dCsEXy3DG6/Ef5x9rHDu+xWyMn1K3RXF962E7buhKkjDh9zP95DRcINS4Dd18UkwO7LmSJ2OYF88vmJ5XzMh5xEHS7nCpJtbGe5Lw9arIH+FeHkBJi8E3qVh2tTrTFgI6JPv2atD96wBdo0h1uvs8aM8/KgeltY9g7UrGoBPP0KGNoTel4No6fA/gPwz8vBTPh670t4dCjUOcHlsIMUfuEjI7t1gMeHOc8NS4CDlOwwViMBDiNsNSUChQnsZa9nO8v/8but7Swn7YSXdsPiulYtZiOP+7fCIu/fC9e9eT+UyYUK3jMtzGzo20ZC14vhyvbw5sdw+xj4az68/D7cNQ4+eg7OaQK3PACn14e+10CS/2/JS3SS12+CWx6EFX84zw1LgN3X9STA7suZIi5hBOxsZ5mZB9dvhPZlYYB3t8tpu+D1dPj8JMjNhzjvBh7f7rPc8fJMqF8KbqsAnZLh469h6Hhr7LbVmdar6qsvtsaCp7wBXyy0PkvLgME3wbDeJQx0kB7HqW5YAhykBIexGglwGGGrKRE4HoHC21leyEWcy3mHbWe5KxearIZvToba3slWvTdZfx5eGeK94rssE8Zvh7qlYFRVS4jNz8zBD+Z4YTP7+Y+/oGxpa+bzkdeEF+DZ16FeLbj3luOPASuT4DQ3LAF2X6+UALsvZ4q4BBMw21nO5V3acgHN8M6sAn7cD102wAbv6YOejTjWwpgqlrstuEy5IX/DpOrQuAyYrS67b4Te5eHyZPhhP7yVDnMy4MKycFdFqJ9gLUEqVQp63mcJ88N3HHv2cwlGH9CjOckNS4ADSmFEb5IARxS/GheBowmY7SzNYQ5xHs9qXWuyYPhWuLcyNCkDZjx45m74rg6UiS20EUcudN0Aj1SFVknwXgZcswF+qgenloamq+G6VLg+BUZvhzrGQRdywotXQkyuNWv6WMuPlK9jE3CCG5YAu693SoDdlzNFHKUExm6H6buhYizUKwU3pFqu9sjLHHM4YhucURr25cPi/bC+AbyTDhN2WqLt2YgjC67/C96uBScmwPO7YG4G7M2DdmWhXwWo6nsb6yjNxtGPHWk3LAF2X1eUALsvZ4o4ignk5MNXe/NoViaWSvEwdRdUj4dLyh19itLmbOi/BVJiYVZN6wxic9LSWO8hTWYt8XlrYfepkJELqavgvyfDrjx4LQ0qxsHDVY99OtOgzRBFy4A9Y+x9y1uv9X1dkXLDEmBfmXHe5xJg5+VEEYnAcQls5W9+YAlb2UoDGlIl62y25ZSmdZJ1y80boXMydE2Bkdtg/l4YVw1alIFO62FgRetzcz28DZbsh/dqw1/ZcMcWa7JWlXj4JRPOXgv7Gx07FHOEopl5HS3X1lx4Nc2a8HZPoUlvx3v+SLhhCbD7eqME2H05U8RRSiCLLKbwDC1pRQUqsIiFNKcFjTnD2ogDeHonzNsLG7KhTRLcWsEaMzbLi6r/DsvqQk3vLOrGq+H2itC3AsxJhxfTjLuGZmWgVgIkx8KkGta9scc4ozja0mC+rPTYBIkx1hsFu264zwOwcrV/64Z79nyP7dv3MWNGF9q08X2SlsmFBNh9PVIC7L6cKeIoJbCQ71nOUvrR30PgD/7gC+bRj9uOIrI7bx8xlCY11prIZWZD37YZuibDlSnwZhrcvgX+agh/ZEGbdfD2idZErYk7rOpGHOf1c5Ti9zy2WY9txtcn7vTPDU+bDeaYyGs62t9F68knF/LAA1/Rt29zRo++yHNSVVGXBNh9PVMC7L6cKeIoJGBmRs/mDepSn1ac4yHwX5bwMz/Tg16Ywx7MzGlz/cmfLGYhW9hMRSpxNi1pyCl8nAFDt1qOtmXioVfVM3bBpF2w1Luj1o4caPAHrG4AFQ5NxI5C6sd/ZCe6YQmw+7qoBNh9OVPEUUhgP/t5hkn0pi/lKe8hMId3SCXVs2a4YMmSOeTBnEFsXlGb84cX8T2b2cwVdPGUMUL+a1Y6VWIqUcNrqIwwT9kFL5wA5ePglTRrctcLNeEk38cXR2E2rEd2mhuWALuvK0qA3ZczRRyFBDaxkVd5haEM8zy9OdDhWZ6mPRd73G3BZcp9wseek5aqUY0DHOAd3qIFZ3vKrWENn/MZZjJXO9pzHq3Jyrf2lP5sjzXuWzoWrk62Dn3Q5ZuAU9ywBNh3rpxWQgLstIwoHhE4BoGd7PSM955PW6pTAzMevJT/0od+JJDgEeQYYjBO+XVepT0dqEUtfmUlb/I6/RlIFapijkM0DvopJngmbxkRziXX447TSOOHvaU4IT7RMxasyz4BJ7hhCbD9fDmlpATYKZlQHCLgg8DXLOBH/ksiiVSkImfShFM49ai7VvAL8/nS44BzyGYDG7ibez0CXXCN5EFu84jyoW2wzD0/s9xzNKKp9yzOphR6B+1PxzSbnvTYCEnetdfhnCktAfYnU84oKwF2Rh4UhQjYImDc6jrWUYMaJJHkWRNcjnKeNcGFt640lWWQzge8TzzxXMN15JDj+bM5/vBd3mYY/zronM0kLuOyK1OZ9fyJEXszeetYAm/q/pD3PRO/ouUyG4OaLyTmS42vK1Ju+J57zqZGjcomvFSzKslXnE78PNpWu0mAndgLFZMI2CSwi52kk8FJnOS54x1me0TzdBp7XPBa1nAxHT2vo80ELPO62rySNs72Sq4+bPZ04SaNsP/inWF9rFA+Zx75USTA5uzmn/nJM+GtDecf9WXnWIyK64anjYRLzvfdEVat2o5ZN/z33ztYs+YeCbBvZI4pIQF2TCoUiAgETsCMARt3vJhFrOYPz3iuEeWzaUV1qh9W8RhGcR3XU4/6Bx1wwTiwKbiNbSxgvudVt5nMVXiJU+ARuv/Ov9jAu7zj+RJzNV2p6qcbvr8yDLO5i5ZZN2zObu7Wwf664cmT/8PgwRdIgF3U1STALkqWQhUBuwTM62YjqqWxZlPtZAe/8RsppHiWL93Pg0dVZYT2d1bxFfOpS12PeJvlTAUTvOy2XZLLmbcIX/GlZxLcP7iQ1rQJixueOgI6tS2arMaA3dfzJMDuy5kiFgG/CaSTzn9YwP/4H+a1tRnPbMk5njFNI7wb2eiZVb2JTZ6lSWaCl67jE7Dc8NskUCosbtjOLloSYPf1WAmw+3KmiEWgWAR2sAMzU/pkTqYWtfmAuZ7Z1cbNmc07dNkj4DQ3LAG2lzcnlZIAOykbikUEIkDgJ5Z7Zkabsd9UUjzrjFtzvpYg2cxFON3w9LetPaWPNTYsAbaZMAcVkwA7KBkKRQQiTcDMml7Fb54NOrQG2H42wu2Gb3kQVvxx+AlLEmD7+XJKSQmwUzKhOERABFxPIJJuOJZ0UlPNEmCtA3ZLR7IEeOdvpFQ4tJ+sW4JXnCIgAiLgNAKRcsMTh6XT7VIJsNP6Q1HxWAL8eyopJ0yCxBshJtr2InFTuhSrCIiAWwiE2w3fMz6dnYslwG7pHyZOS4D/fo2U/Dsh4SxIfQ7iarrpGRSrCIiACDiSQDjd8Ja/06lRXQLsyI5wnKAOjQGXy4H0OyDzA0h5Sm7YTVlUrCIgAo4mEA43rElYju4Cxwzu6ElYmXMhrZ/csPtyqYhFQAQcTCDUblgC7ODk+3TAKUaLvVfeTrlh9+VSEYuACLiAQKjcsATYBck/IsSilyHJDbsvo4pYBETA8QRC4YYlwI5P+1EB+l4HfJgbngiJ3TVT2n15VsQiIAIOJBBMNywBdmCCfYTkW4ALKpAbdl92FbEIiIDjCQTLDdfO0kYcjk/2MV9B/2cuKW2u8B273LBvRiohAiIgAgEQKK4bHlo6nVH1tAwpAPQRu8VywJeVJaVjd+j9KCQl+w5Gbtg3I5UQAREQAT8JFMcND/4jne/PlAD7iTyixS0BXrWMlGmDYctauGsGNG3nOyi5Yd+MVEIEREAEAiAQiBvWGHAAoCN8S6GNOMrBB8/CzHuh3Y1ywxFOjJoXARGIbgL+umEJsPv6y9GTsDavgQm95Ybdl0tFLAIiUAIJ2HXDEmD3Jf/Ys6Dz8uSG3ZdLRSwCIlBCCdhxwxJg9yW/6GVIcsPuy6giFgERKLEEinLDEmD3pd33OmC5YfdlVRGLgAiUWALHc8MSYPel3LcAFzyT3LD7squIRUAESiyBI91wmfREUlO1DMlNCfcI8I+zZ9Osa1ffccsN+2akEiIgAiIQJgKF3XCL9LO5LPVy07JR4fQwhRDUZmKCWpvzK/MI8IPJyTS75ho6PvEEZaxvUEVfcsO+COlzERABEQgbAeOG56S/y6DUOyTAYaNe/IY8Arz+l19YcNddbFu5kiumTqX+JZf4rrnYbrgFpD4PcTV9t6USIiACIiACRRLQGLD7OsjBMeDk5GSWTp/OZ0OG0KhbN7lh9+VSEYuACEQxAQmw+5J/1CSstPXref+WW8Lshs+C1Ofkht3XfxSxCIiAQwhIgB2SCD/COOYs6Pz8fLlhPyCqqAiIgAhEmoAEONIZ8L/9IpchyQ37D1R3iIAIiEAkCEiAI0G9eG36XAcsN1w8wLpbBERABMJBQAIcDsrBbcOnABc0JzccXPCqTQREQASCSUACHEya4anLtgCbcCLmhsvdD7FVw0Mk0FZi4qH05RCbHGgNuk8EREAEAiYgAQ4YXcRu9EuAC7vhuX36sP3XX8OzbnjvJCAnYpBsNZy3DfL3QOoMKN3O1i0qJAIiIALBIiABDhbJ8NUTkAAXuOEfp03zrBs+LdS7aIWPR+At5efBvimQcQ8k3gjJj8oNB05Td4qACPhJQALsJzAHFA9YgCPihh0AzGcIOWshrRfkrpUb9glLBURABIJFQAIcLJLhq6fYAlxsN/xEL/h7Hdw1A5qWkFe3csPh68FqSQREwENAAuxfRygNmP8KrkicXhEUAZYbPk7i5Yb9+41QaREQgYAJSIDtoTsHmAk0PKJ4nL3bg1oqqAIsN3yM3MgNB7XDqjIREIFjE5AA2+sZi4DbgSlAW++fM4HH7d0e1FJBF2C5YbnhoPZQVSYCImCLgATYFiZ+BJoDPwNneG9ZApxt7/aglgqZAMsNyw0HtaeqMhEQgSIJSIDtdRDjgFsBXwF3ARsAI8B17N0e1FIhFeCgueEWHaG8wzfiiI2HS/tCnca+E6SxYd+MVEIERMAvAhJge7juBF4EWgBvAwnA/cBj9m4PaqmwCHCx3fC8WZDr8I04dm+Fr16F6++Ha4ZBXHzRidLYcFA7sioTgWgnIAH2vwcY8S0DZPh/a1DuCJsAF8sNB+VRw1DJqiXweA8onQhDZvnphtdB6nTtohWGNKkJESiJBCTA9rPaCGgAFLZJ79i/PWglwy7AxXLDQXvsEFaUlQkvj4D3Jgbohrt7d9EqF8IgVbUIiEBJIyABtpdRM9v5n8BKINd7Sz7Qwd7ttkuZSV0TzBkKwCfA6GPcGREBlhs+Tg4Pjg3LDdvu5SooAiLgISABttcR/gDOBPbZKx5wKbOuuEDg5wFdjtFmRAVYbvgYuT1sbFhuOODerxtFIMoISIDtJXw+cBGQZ694sUsZIf7AK8BZR9QWcQGWG5YbLnYPVwUiIAJywDb7QEvgXu9rYbMBR8FlZkYH+7oeeAh4zfv/R9bvGAGWG5YbDnbnV9i5uj8AACAASURBVH0iEE0E5IDtZXsW0Nq7EUfhMeBr7d1eZKl7gI7AROC9QiXfAoYBa53qgAvHlbZ+PX6fNxwEeGGp4uBM6STvTOnTfTersWHfjFRCBKKcgATYXgdYDZxSjBPmzQEOrwNmJvV+YCvQHzD1Fr5KAQWvnM3e0+OA39wgwEe64ToXXEDZqs7eiCM2Pp6zbr2V6k2b+u4FB2dKP+WdKX23n+uGNTbsG7JKiEB0EZAA28u3mRB1KZBtr/hRpYwAX+h9hW0+HAB08/6scGHzM/NZLLAQMO74yMtRr6CPxcO44eUvvkhejrM34ti7dSvLZs2i9bBhnH/ffcSVMt9/fFxyw74I6XMREAGbBCTA9kA9B5j9Cs0r4sJjwE/Zu/2oUmZHLfOKuW4A9ztegAN4pojdsnnpUt7r0QNiYrhy1iw/3XBx1g2Pg9jkiD23GhYBEYg8AQmwvRyY18FHXmatbi97tx9Vykze2u7dV9rfKjwC3KRJE+rWrUudOnXo2LGj5z9dgRHIzcri69Gj+W78+DC54d6Qu1a7aAWWLt0lAq4m8Omnn2L+W7duHWvWrGH58uXmeVLNsmA3PliMy4K+D7jMu6ypsJu2+xgeAf7tq69ILufcnZeSKlWifJ1InFVhF+PR5YrnhjU2HDh53SkC0UlADth+3jsdYyvKJ+zf7ik5FDAzp82a4kD3kvYI8MhKlSgTa4aKnXkdSE+n1R13cOGIEcSXMVtnu+MKvxvuBbnaRcsdvUNRikBwCUiA7fF81TuDeekRW1H2tXe7p5Q5xvAGr/im+XHfkUVdMQa8dcUKz9hq1t69dJk5kxNbmdMc3XNFzg1rbNg9vUSRikDxCEiA7fEzS4HM4s+CNcD27jpU6gTvGcJm2ZFxvua1uXn9fK6/FQGuEGDzXGYW9Lfjx/P1qFG0HDRIbrioZOesgbSCseEZOmEpgF8M3SICbiMgAbaXMXMwwtVh2AvaTjSuEeCCh4luN+zvTOlnIeNeSLzRe8KSZkrb+aVQGRFwIwEJsL2smSVIUwGzJ3ThiVMj7d0e1FKuE2C5YX/PG5YbDupvjCoTAYcSkADbS8yHQFngxyNeQ99t7/aglnKlAMsNB3LesNcNx50MmPM5HHzFVoWURyGhiYODVGgi4CwCEmB7+Vjl3YrSXunQlnK1AEe3G14Mjxs3XLCntHmx4uPK3QDZZu6fw6+s72HvRCh3F5S7H2LcM/Pd4WQVXgkmIAG2l9y5wI0OWSjtegGWG/bTDdvro5Evlb0MdveG/H1QfhqUMueX6BIBETgeAQmwvb7xBmC2j/zsiDFgs7Qo3JclwE/dTkqi2WLaoVeFanB5fyidWGSA0TtTOgA37NBUHxZWfg7snQB7HoLEXpA8RltuuiFvijEiBCTA9rA/eJxiI+zdHtRSlgA/1o+URBuHBwS1aT8q+/V72J9hHd/X6ByfN2qm9P1wzTDfJyz5JOmQAjn/g7RbrC03U56DMpc4JDCFIQLOISABdk4u7EbijlfQuTnwzhPw8gjLCd80Um74eBleVVLdcB7smwoZw6BMF0iZALGV7PZzlROBEk9AAmw/xS0Bc3Bs4dklgZ6GZL/Vo0u6Q4AL4l7/qzXxaG+a3HBRWT943rAf64aL04vCeW/uX5DWH7IXQsokKHOt5/QpXSIQ7QQkwPZ6gDlAwZzVWxtYAFwMfAFcZe/2oJZylwCbR5cb9uO84ZLqhvMh801IHwQJ50LqMxBnNojTJQLRS0ACbC/3vwBnAQu9LvgUYAzQ1d7tQS3lPgGWGy7eecNX3gGxDl8HHBdvb/w6bwek3wkxZSH12aD+YqgyEXAbAQmwvYz94BXgnwCz04A5C3iZV4zt1RC8Uu4VYLlhP88b9rph8xrf6Ve5CnDrk3BRd3uvl81s6Zj44z9Vfj7k/g4HvoLE/4NYc1yqLhEoWQQkwPby+R+gHTAd2Ab8BfQCzrB3e1BLuVuA5Yb9c8O5uZCxM6gdKCSVrfgGJveHhmfB7c9BpZrFa2b3LZC3BWJKQ/bP1uYeSd2LV6fuFgGHEZAA20uI2bJoLZDkffVcAXjY64Lt1RC8UiVDgOWG/XPDwes/oavJfFF45nZY8iHc+hRcdKM9N1w4IuN8978MGfdA5R8hrjpkzoUDn1jjxrpEoAQRkAC7L5mWAK+9lJSUBOdGH1cNyj0EcTV8xxjoTOmePcnasyd6zhv2TdIZJb5/D57qBw3P9t8N5/4Nu7pCUm9I6mk9T9Zi2H0zVFmqLS6dkWFFESQCEmB7IGd6x30Ll94NfA+8Za+KoJWyBHjTo6SkFL3LVNBaDKSirG/gwGeQapad3ODbCQU4U/q7xx7znDd89sCB0XPecCD5CPc9gbrhPeMg8x2ovOhQxLtuhNgUywHn50KMwyekhZu12nMtAQmwvdRNAc4DzJaUZgLWtd7Xz/UAMz5slimF63LPK+jMOZB2KyS0gtQpcsPH6SGbly7lvR49/BsbDldvK247/rrhHR0g8SZIMluvAwe+gD0jIXkclDoHzCtqs4Y4/wBkLYLsHyChMZTuUNxIdb8IhJ2ABNgecrP29zJgj7d4OeAjwOyvZ2ZIn2avmqCUco8Am8c1y07SbocDH8sNF5H+3Kwsvh49mu/Gjy+ZY8PP3gGLP/A9NpzxMMSUgnLDID8LtreCxOsgqb/lgs2Vn2ntsLVvGpS5Cg58CPFNIOVJa3mTNvkIyj80qiT0BCTA9hivPIbIFvzMnBXXzF41QSnlLgEueGS5YVvJL9lueK53bLiImdIHFkC6WfdcDWLLWWJbwRxGFntIWPN2WqculekESX3BLGnadS2kjIH4U21xViERcAIBCbC9LLwO7APMWLC5bgaSgZuAb71rhO3VVPxS7hRguWHbmT/SDbe64w5i45w97hlfpgxxpWwcDmLGhu244X3TIaElxJ929JhvXgbsuhxSZ0B8PcjPtg5+KH2JtWY4Pw9ylkFCc9vMVVAEIkFAAmyPunnl/ABwkbf4l8BIYD9gliSZtcHhutwrwHLDfvWRAjf8909m/xdnX6VTUujw+OM0692bGDuvgL+34YbNI5tTlfbNgqRbIL6ONQZMLuwZBVn/gXL3WcMbeydBld8gvi4cmAcZD1nCXf5liDM7yOoSAecRkAA7Lye+InK/AMsN+8rxwc/z8/I4kJFhu3ykCq7/5hs+6NePqo0bc8XUqaTWquU7FLtuOHuFtSFHfH3I2wWx5juveSf1EuRnQMZwa5zYTPQzr6PNBC1TfkspSH0ekvr4jkUlRCACBCTAEYBezCZLhgAHyw3fNRNOO9cnUs95w2bdcEYGXWbN4sRWrXzeowL+EcjcvZtPhwzh19mzQ+OGTTg7L4O4BpD6JOTvh33PQcZIqLrW2q7SvI6OSYCM0bD/Jaj6m38PodIiEEYCEuAwwg5SUyVLgOWGg9QtnFPNH598wtw+fULjhnM3Qsa9kP0TxFaGuJOscV+zDKnA+RqX/HdVqPgJlL7okCgXIMrbbt2rSwQiTEACHOEEBNB8yRPgYLnhIbOg0Tk+kRa44QNpadQ8+2yf5SNdoHabNrTo25eY2NhIh2K7/cPc8BNP0KxXr+CODRsBJgHiGxx9qMPOztas6YpzDq0bNpGbTT5y11l7Syc0g5QnLLesSwQiREACHCHwxWi25ApwmN3w8pdeYu/ffxcjFaG/NS83l6XTppF60kl0nj6divXM3i/uuf738ce8f8stoXHDhTFkfQulWkPOb7CtCVRdc+i8YbN71p4x1nnEqdOssWQzbmzEOHW6ziV2T3cqcZFKgO2lNO8YW1GmebeiHACss1dNUEqVbAEOsxsOSkZCXInZ73rePfew/IUXuOiRR2g5YIDccGHmZmZ0xn2Q+S7krobksVBuyKFXz2a29O6eUOZaa49ps3TJXFlLoJTz34CEuHup+ggSkADbg38/YA4vneot3hsoDRj7ZHbI6mivmqCUig4BDqMbDkpWwlDJ2i+/ZG7v3lHshicWfd6wccHpd0JMIqRMgYRGVlZ2XAx5m6HsndYOWmZrVM/rZ2evrQ5Dl1ITESYgAbaXALPd5FlHFC342S+AOa4wXFf0CLDc8FF9Sm7YxnnDZk1wTAVrP+mctbDjfKjyC8SWt8aEd5tds57Uq+dw/Yuldo5LQAJsr3OsAtoU2nCjCvANcAqgrSjtMSxeqUD3lH77cXhlBFw+AG4aCaUdfIKUH4Tkhn244QKWZsZzxr8hZYJ1lGHuBtjeHCp9C/ENDyduxDnrKz+yEKKi8adDXNUQVa5qnURAAmwvG/2AB4GPvcXNK+eHgZeBscBAe9UEpVT0OeDC2ALZU/rPlfBET9ibBjZnSgclUyGupES54VDsomX4mwMdzPhv/g4oNxwyRlhLl1Ietxxx4csI8LYGIc6ar+pzIW83pEyExO46WMIXLpd/LgG2n0DzmvlCb/H5gHn1HIkrugXYEJcbPqzflRg3fPrp1i5atW1sHXnYLlo23LDZW9ocbWi2qiw79GjxjcRv8vHazJwLaf0g4SxIfQ7iajopOsUSRAISYPswk4Cm3uLLvIcz2L87eCUlwAUs5YYP9iq5YRtjwwVnCXucsfdc4eD9Xga3JnPikzkVKvMDueHgknVUbRJge+k4D3gb2OItXg3o6l2GZK+G4JWSABdm6XHDg+DAJ/6dN2zGhl96EHJzgpeZUNXU+HwYPBVq1vfZgtywDTfsk6KDCsgNOygZwQ9FAmyP6UJgiPfoQXOHEeQnAN/bLtmr359SEuBj0TJrQNNuhYRzrE3542r4ZmpeY5pxYSdfebkwZyJ8NhN6jIHOA8HHjlhywzbcsJNzfmRscsNuypZfsUqA7eFaDjQ5oqh5DV3wStpeLcEpJQE+HsdA3HBwchL6WpZ/BRN6QeUT4a4ZcsPHI+7v2HDoMxe8FuSGg8fSITVJgO0l4lvvLOjPvcXNucDmPODW9m4PaikJsC+cgbhhX3U64fP9e2Dmv+SGg3nesBPy6k8McsP+0HJ8WQmwvRSZTTjMGHCut7jZFf9q4Ed7twe1lATYDk654cMoFR4b7jJjBhXq1rVD0TFlDu4pHcqZ0o55WhuByA3bgOT8IhJg+zkyx6aYjTfMZTbmyLZ/a1BLSoD9wSk3fJBWwdjwTy++6NlT+uz+/d27p3Qg64brN4PTzX46Dr9MjGe09R2k3LBvRg4vIQEuOkFG7Iq60iOQXwmwv9DlhuWGzdjw62Ngl7NPv8JMulv0PrS7EXo/CknJvnu73LBvRg4tIQEuOjEFpyDFFCqWD5i/m/+PxG7uEuBAf5nkhuWGA+074bxv8xqY0Bu2rLUm3DVt57t1uWHfjBxYQgLswKT4CEkCXJycFXbDZkP+Ui54JWl2QjL7GPu6ijlTOmrGhn1xdMLneXnwwbMw8165YSfkI0QxSIBDBDaE1UqAgwHX44YHQZ7DX0maFy1xtSF1BpS+wPeTF2OmdNSNDfumGfkScsORz0EII5AAhxBuiKqWAIcIrCOrzc+DfU9Dxr8gsYd12HxsOd+hyg3b21PaN8nIl5AbjnwOQhSBBDhEYENYrQQ4hHAdW3XOakjrZR2nJzd83DRl7t7Np0OG8Ovs2XTwZ6a0YxNfKDC5YTdkya8YJcB+4XJEYQmwI9IQgSDkhm1DD2jdsO3aI1hQbjiC8IPftAQ4+ExDXaMEONSEnV6/3LCtDMkNH4FJM6Vt9ZtwFpIAh5N2cNqSAAeHo7trkRu2nb8CN1ylUSNqtY7E7rG2Q/UUrN2mDXXbt/d9k9ywb0YOLyEBdniCjhGeBNh9OQtdxHLDtthmpqXx7bhx7Pnb2bPe83Nz+e3dd2nUrRsdn3iCMqmpvp9PY8O+GTm0hATYoYkpIiwJsPtyFtqII+SGO0+fTsV69UL7bFFYe9r69bx/yy1sW7mSK6ZOpf4ll/imIDfsm5EDS0iAHZgUHyFJgN2Xs/BEHE43PGwYP730kiv3lA5PMorXSn5+Pj9Om8ZnQ4Zw2jXXhN4Np90OBz6ElImQ2B3snDhVvEfU3YAE2H3dQALsvpyFL+IIueFLJ0+mbNWq4XvOAFqKjY8nsWLFAO6M3C3GDc/t04ftv/4qNxy5NISsZQlwyNCGrGIJcMjQlqCKw+mG77mHH559FvLN9ujOvs644QYueeopkipVcnaghaILuxtOvwMyP5AbDkMPkQCHAXKQm5AABxloia0ujG44Nzvb8QK8d+tWPhowgL8WLeLyKVM49corXZV6uWFXpctWsBJgW5gcVUgC7Kh0uCCYMLlhF5DAuMmfX3mFj2+/nQadOskNF5W0w9YNPwWJN2psOMidXAIcZKBhqE4CHAbIJa6JMLphN7DL2LyZD/r1Y+PixXLDvhKm84Z9EQr4cwlwwOgidqMEOGLoS0DDcsMHkyg3HOh5w3LDwfqXQAIcLJLhq0cCHD7WJbMlueHD8io3fCP0fhSSkn339wI3HHcSxEZg1ntePsTG+I7TUyIeyg6A0hfZLB/+YhLg8DMvbosS4OIS1P0WAblhueGCXbT+Xgd3Toem7Xz/dpix4czZkJ/ju2wwS6zfBPO+hb+2QLPT4OLWkFjm+C3kbYW9j1tj18mPQqyNLxjBjNdGXRJgG5AcVkQC7LCEuDocuWG54cK7aF3U3XLDiTbOnA5nx8/cB4NawOX9ofrJMHcydOwFba8tOoqctd5jPNdC6nTHuWEJcDg7UXDakgAHh6NqKUyguG74ysFQPgKvJMkDYu3lMi7e+gc7tXKR5aN+bNgfN2yPfPFLvTcJvngJnlps1fXjPHjhfpi46Oi6M3ZCYjLEJ1ifeb5kToGMexznhiXAxe8a4a5BAhxu4tHSXnHc8PtPQ16YX0lWSIdT10H5DPirGvxaB3Lij5+t3Vth0x8w8Floc7XPrEb92LBT3HBWJoy9Hpq2h84DrLx9PA0WvA5jP4fcXIiLs36+4lvLHa9dDjXqw+W3wdmdrM8c6IYlwD5/DR1XQALsuJSUsIACccPhRpC/D7a1gLL9Ie5k2DcZEntBYhGvJM1OXV+9Bs8MguYdoP8kueHj5S2QseFQ9YGMXdC/CTz+DVStbbXyRG/rz9cPB/Nmw1yrl8Hs8VC9Ltw8yhJi87Pbn7ME2nwBy9gBFec7xg1LgEPVaUJXrwQ4dGxVcwGBQN1wuAjunQT7X4LK3leSB+ZBxv1Q+RivJM2koZhkiPG+kty5BSbdCr9+H51ueNo06nfs6DtTThkb/t+PMKILvLzBitl8kRrYHHqMOeRuzc9NualDrC9WdRrD/j0wvjtcdhu06AAL3oA3x0FeLpzZAi5cCRW3RHRsWALsuxs6rYQE2GkZKcnxONEN52fCruuhdHtrmYm59k2D/a9Dpc8hPxdivK8ks76FvZMhZznE1Yek26BMJ+sf8Sh1w/OGDvWcsNTh8cf9O284UmPDxo3PGg7X3Qt1m4AZD/5sJkz4DkqVsXJpTm8yTvnhrtDzETi1FXz/Hoy5Fp5eBrUbgfnilVoFMvfAlMGWSF+SCGnDoGx3SBoDCRXC+tssAQ4r7qA0JgEOCkZVYpuA09xw3i7Y1gQqfwNx3leSu3tbfy43HGK8rySzl8Ge8RBfF5JHWUJsfpb6rOWG8/fDzmUweZzcsK/OEGk3/MZY+HQ6JFdkW1xlNqecypp1Ozjnzjup3qTJoej/MxteGQF1zoCs/VZeX9ty6PMCsV70Ibz7BNz9MqRmwtJu8MXvsLUOnP1/0HkQlDX/1Ib2kgCHlm8oapcAh4Kq6vRNwCluOPtH2NkFqhV6Jbm9OSSPsdxtwWXKpQ+BlEmQ0Bjy9sBu43T6WuUOmLHA+yDnF9hyJYz+KOrGhgN2w6sWQ5kk333GbokBz0Dba4ounZtD1sJPeL7HYE656mpKbV7F8vmL+ceo0TTp2evwe3dshqcHQEJp+NdrkJ0FCaWsMru3wcsPQfp2uO8N6+93ngtXnwtlZ8Pn1eCSUdC2u93oAy4nAQ4YXcRulABHDL0atpZ0PA0Z/4LEHpA8FmLDvGY0Zw1kDIdy90JCEzDjwftmQuXvIKbQK0njlHd1heRHoFQryHwPdl0LlZdBQiPIXW+55q2nQuJ1kH0bTOoHv30PA6ZE30xpf8aG/1wBuUGc9V7tJI+7LeoyJ27Nu/tuz9nIN376KWxZy29vvcH6P7dz8fjxxDzeA87pDG26wisjYfl863V0o3Osao37Na+lP3gGKtaE/7sPTmwIrz4MSz+H8V9ZM6W/6gLvroInPgr5umEJsPv+TZUAuy9nJS/iSLvhPWNh33SIrQhx9SDxBihz+dGc98+GPSMg/gzrlXP291B18+Gn+mwuA1WWQfyp1gQdM1ln1gDoUg/aVIHEc6364+sfM48lZd2w3244zL1689KlzLnpJrq+9hpVGzf2tP7NuHGs+ewzbvrkYzBL4ZbOg20b4PQ21uSrumdaURrH/ukMWPsTdB5oCbXZbMSMGz/6Tzj/WujQwyo7ZyIsmQaD1kGZf0LK+JDtoiUBDnMnCkJzEuAgQFQVQSBQ2A2XvjS4ewMn3gSlWhYdpNkKMWsBJDSF2EqwbyrEVofSlxya8VxQQ+5mSBsAMaWhwmuQnwUxpSDzE0jrCdU2H5rMk7cXtl4GP6+H73fCNa2hWgKkmuUs1Y4bU4laN2zXDQehG9mtYm6fPmTv20fXV1/13JKXk8OMNm1oOXAgZ954o+fvsfHxkHWA3Mx97P57O5VOrgMfPQfP3g5tusHwNw9vzixNGtDMmqhVvor12bgb4eQzoEtX2HML5JpdtGZAaRvbdNp9GG85CbCfwBxQXALsgCQohEIEjBveN8PsdBA8LOaVcEJz/+ozrw/zNkGp1tZ9u2+G0sbpdIWMkZA133plbl5HGzcckwi7/g9iykH5aYcEeO9TsP9FqLTk0Ezplu2g77NRs27YaW7YvH5+uWNHzr/vPuq2b+9J78Inn+TPBQu4+LHHqFiv3sG+snHJEr4dN46sPXvYt3077QbdQv3M3+DPlXBgnzX7+ao7rdfPZuOOx26Cmaut+w/sh8HnwK1PQpMLQ76LlgTYv19xJ5SWADshC4rBuQTMWB/ZsPdpyJoHuRugVBtrCVKC95VkQfRbykOF2daSJo+tyoBd3cyAIcTVgbztkDcInp6omdIRzviCkSM9Drj92LFsXbGClzt0oNPkyZxyxRWW8wX2btvGN4884hHfK55/ntXz5vHVAw/QecYMqjRqBJtWw5KP4LTW0KC5tTPaiw9A16HW38148A+fwPgFh3bXMhUftotW8NywBDjCnSqA5iXAAUDTLVFMIP8A5GcfmixmHLs5Vi/uBEjrDdUzDsExgvt3Vet1c+krIPN1MJO+jHNeMCcqd9Fyihve+ssvfHrXXWRs2kSlhg2p2KABF48b58mdGYePiYnxCO/M88+n3ejRNLj0Us9nn9x5J/Uuvtjz95zMTA5kZFC2ivd1sylgNucw48NmVnfdptD+Jq/79a4vLugdIdhTWgLsvn+XJMDuy5kidhKB3E2w5xE48AnkroakWyGpv7VUyWzcYdYUV/3Nijh3G2w7Bar+DrGVrc0ctItWRLP518KFVD71VMqUL+95xZxU+dDhGuZV9SeDB1OjWTOa9+mDeR39zj//yUVjxnBat2788cknfDl8OCeedx7tRo3y1HHwWvm99Xra17nIQXTDEuCIdqWAGpcAB4RNN4nAMQjk/AGZb0GpdtbYsHG7ex+DJLOG9HTY/6o1uSt1FsSfZFWgXbTs76IVwk63Z8sWvp8wgXodOlD3oosOtrRl+XI+HjSIGs2bs/4//2H/zp3csXat5/M9f//teY29bOZMjxhf9swz1DzrLP+jDJIblgD7jz7Sd0iAI50BtV+yCex5zNpnOjYVYspC6SuhbL+jnzmK3fCfX39NfOnSQesHlz//PI2vuy6g+ozAJlasyLoFCzxuuOrpp3vqMUI8o3VrOk2aRLOePY+q+6NBg6h17rmcccMNAbXruamYblgCHDj6SN0pAY4UebUbXQQOfG2NE8cfmmF7FIAodcM7fv/ds+wnWFfKCScc/jo4gIr/M2YMS2fMoMlNN3nqMjOkzZjvDR9+6KnNvJ6OS7AO5DDxf/vooyRVqUL7Rx4JoLVCtxTDDUuAi4c+EndLgCNBXW2KQFEEotANO7FDpK1fj5ktXaZCBc/Eq+rNmh2ccGW+MOxau5bVn33Gzy+/TMX69Wn7wANUatDg4KOYWdSrP/2U1Nq1OaltW/8eMYDzhiXA/iF2QmkJsBOyoBhE4EgCUeiGndoJDm7K4XW7v82Z49nC0sykrnrGGZzcrh2nXnklpcpZ26jmHDjAwgkT2LZiBSveeovaDWpx7eMPUabDP/17RD/dsATYP7xOKC0BdkIWFIMIHI9AMd3wmd27E2sOkNd1kECDyy7jpPPP95uIeQX90cCBnlfTZ912G5c9/fRhdWTv389/n3vO80q6bLVq1KpdmcUj76N5w1QaTniDmNPO9btNS9HXQlovn7toSYADwxvJuyTAkaSvtkXADoEA3fCKN95g/Tff2Gkhqso0uvpqj2sN9Fr1/vt8N348FU4+mXOHDKHamWeyb8cOz6Ydv779NoN+WU7sqyP5+JEnyavXnLbT3iT5pDqBNmfdZ8MNS4CLhzgSd0uAI0FdbYpAAQFzrGH2t1C6o28mAbhh35WqRKAEFk2axMZFi7hy1izP7llr58/no949qMEOap1cjVU5Nbhg3GOc0KqVZ2OPoFxFuGEJcFAIh7USCXBYcasxETiCQNb3sLMTlLkaUiZYy5WKugJww2IeOgIFu2bl795GzLSh8N0cllTrxJevf0pipUrc8MEHno0+CsoFJZLjuGEJcFDohrUSCXBYcasxETgGAbO/9O4+kLMSyk+H0h18YyrshgdNgdZX+b5HJYJPoOAL0ZTB5DZsRdztz7J66UrPK+rydetyYqtWNO3ZM3gOuPATwA/iqQAAC65JREFUHOGG0w+cRWqq5wuc+Z/04D9s6GsM0nuC0AcapBYkwEECqWpEoFgEzD/k+6dB+hBIvB6SH/N9bqzccLGQF/vmv/+EybfBHz9C/8nQpqvnbGizdCkmLo62w4cXuwmfFRRyw+nZ15Ja25wkJgH2yc0hBSTADkmEwhABD4Gcdd4Zr2vsnxsrNxzezpObC+8/DS8Mh7bXQZ/xkFzhsBjMQQ4Fy5LCElzOWtI33kNqnbckwGEBHpxGJMDB4ahaRCB4BDyu5lnIuAcSe0DyOIgtW3T9csPB419UTWt/hom3QPoOuON566Qjh1waA3ZIIvwIQwLsBywVFYGwEjBHHab1hNyNUH4WlLKxdlVuODQpysqE10bDO49Dlzvgnw9A6cTQtBVgrRLgAMFF8DYJcAThq2kR8EnA44afgozhkNQPkkdDjI9/+Au74TJlIVYbcfjk7KvAvnSofjIMngb1mvoqHZHPJcARwV6sRiXAxcKnm0UgTARyVsHuHpC3E8q/AKXO8d1w2nbY8Kvvcirhm0BsPJxyNsTF+y4boRIS4AiBL0azEuBiwNOtIhBWAvm5sPdx2DMCkgZC8giIKRPWENSYcwlIgJ2bm+NFJgF2X84UcbQTyF4JaTdD/j5INW44gEPgo51hCXx+CbD7kioBdl/OFLEIQH4O7H0UMh6GckOg3L8hppTIRDEBCbD7ki8Bdl/OFLEIHCKQ/RPsvhnIs8aGE5w5QUgpCz2B9A1rSa1d1zSknbBCjzsoLUiAg4JRlYhABAnkZ8Oe0bDnUSh3L5T7F8QkRDAgNR1WAnl58O6TpM96kNQP9kiAwwq/eI1JgIvHT3eLgHMIZP/odcOlvG64sXNiUyShIbB1PTx2M2xbT/ptU0ht5dlHXA44NLSDXqsEOOhIVaEIRJBA/gHIGAl7J0Dyv6HsnYDWARc/IzEQ46AlSGat95evwDMDoe210PcJ0rPzdBhD8RMd1hokwGHFrcZEIEwEshZDWg/I0Trg4BCPgaTbvNuClgtOlYHWYrbBfOpW+OVra2OQc67w1KRJWIECjdx9EuDIsVfLIhBaAmamdN6O0LYRLbXnbYX0gWCOjkw1R0ZGaA/oHz6BJ3rBKS2tvajLVz2YAQmw+zqjBNh9OVPEIiACkSDg2Rb0acj4FyTeHF43nLkPpt0NX74E/Z6EDj09Rx8WviTAkegUxWtTAlw8frpbBEQg2gh4DsnoFT43vGoxPNodUqvA3S9CDc9So6MuCbD7OqIE2H05U8QiIAKRJhAON5yTDa+PgbfGwQ0PQLe7Ie74E+okwJHuFP63LwH2n5nuEAEREAGLwGFueAaUviA4ZP76HcZ3h8y9MOxlWycwbV69mpr165v2tQwpOFkIeS0S4JAjVgMiIAIlmsBhbrgHJI+F2ABnSpvlRR9OscZ7L+0HPUZDqaIP3MjPy+P7CRP49MEHGbl3rwTYRZ1NAuyiZClUERABBxMorhvesRme7A3rfoEhs6BpO58Pm75xI3Nuvpnda9fS/rnnOP3iiyXAPqk5p4AE2Dm5UCQiIAJuJ3DQDd/nnSnthxue0Mea5fz4t9DQ3glXc3r04JfXX6fPwoUk1a2rjThc1n8kwC5LmMIVARFwAYFA3LAZ751xL3w203r13HkQxMYW+bBZe/Yw7557+OnFF2n1wANcNGyYHLALukdBiBJgFyVLoYqACLiIQKBjwz8tgAm9oNIJcNcMqOmZWFXktfbLL5lzxx3c9csvEmBfsBz0uQTYQclQKCIgAiWQQJjccFpaGuXLl5cAu6gLSYBdlCyFKgIi4FICYXDDWgfsvr4hAXZfzhSxCIiAWwmE0A1LgN3XKSTA7suZIhYBEXAzgRC5YQmw+zqFBNh9OVPEIiACJYFAkN2wBNh9nUIC7L6cKWIREIGSQiCIblgC7L5OIQF2X84UsQiIQEkjEAQ3nH7BzaRWqGDIaC9ol/QPCbBLEqUwRUAESjiBYrrh9HLVSJ38vQTYRd1EAuyiZClUERCBKCAQoBtOf208qb1GSIBd1EUkwC5KlkIVARGIEgIBuGGNAbuvb0iA3ZczRSwCIhAtBPxwwxJg93UKCbD7cqaIRUAEoomATTcsAXZfp5AAuy9nilgERCAaCfhwwxJg93UKCbD7cqaIRUAEopVAEW5YAuy+TiEBdl/OFLEIiEC0EziGG5YAu69TSIDdlzNFLAIiIAJwhBtOz7+P1AonGDLaiMMl/UMC7JJEKUwREAEROCYBrxtO3/0nqfX/lAC7qJtIgF2ULIUqAiIgAsckkJ9H+tZXSa3eXQLsoi4iAXZRshSqCIiACByPgMaA3dc3JMDuy5kiFgEREIGjCEiA3dcpJMDuy5kiFgEREAEJcAnoAxLgEpBEPYIIiIAIyAG7rw9IgN2XM0UsAiIgAnLAJaAPSIBLQBL1CCIgAiIgB+y+PuAR4A0bNpCSYv6oSwREQAREwI0EjADXqlXLhK6NOFySQLNtyl8uiVVhioAIiIAI+CZwIrDRdzHnlYhxXkghjcg8b00gI6StqHIREAEREIFwEEgGNgH54Wgs2G1EmwAHm5/qEwEREAEREIGACEiAA8Kmm0RABERABESgeAQkwMXjp7tFQAREQAREICAC0STAFYB5QEPgyCnQg4HLgIsDoqibREAEREAERMBPAtEkwHGAGbB/E+hQiFM8MBUwM6QL/9xPlCouAiIgAiIgAvYJRJMAF1AxLriw0+3pXZp0twTYfsdRSREQAREQgeIRiEYB/qyQ0JrnfxW43vt6Wq+gi9efdLcIiIAIiIBNAtEuwF2BUsBrEmCbPUbFREAEREAEgkKgpAlwaeB1oBGwH9gK9AdWF6JV+BX0fcA/gDygBXAvMCMoZFWJCIiACIiACBRBoCQK8IXAJ95nHgB0A8zPzGXEtymwFDAzn1cWYlP41bQ6jQiIgAiIgAiElEBJE+AjYRlX+xZQN6QUVbkIiIAIiIAI+EmgpAvwi8B24C4/uai4CIiACIiACISUQEkWYDO+azbXuAjIDClFVS4CIiACIiACfhIoqQI8FLjWK746+cjPTqHiIiACIiACoSdQEgXYvG6+wSu+aaFHqBZEQAREQAREwH8CJU2AzXaSG7zLjozzNc9nXj+f6z8a3SECIiACIiACoSNQ0gQ4dKRUswiIgAiIgAgEkYAEOIgwVZUIiIAIiIAI2CUgAbZLSuVEQAREQAREIIgEJMBBhKmqREAEREAERMAuAQmwXVIqJwIiIAIiIAJBJCABDiJMVSUCIiACIiACdglIgO2SUjkREAEREAERCCIBCXAQYaoqERABERABEbBLQAJsl5TKiYAIiIAIiEAQCUiAgwhTVYmACIiACIiAXQISYLukVE4EIkcgDygPpAcxBHNW9sNAA2AncAAYD8wNYhuqSgREoAgCEmB1DxFwPoFcoEIQBfh04CvgZuAj7+NXBy4GXnI+DkUoAiWDgAS4ZORRT1GyCRR2wGcBE4FywH7AnP71nffx+3n/bg4imQOMBGKPgeZFYBNwb8nGpqcTAWcTkAA7Oz+KTgQMgQIBNoL7B9Ab+BxoDcwG6gF1gc+AJsA24CHg30DcMRCuAO4D3hNeERCByBGQAEeOvVoWAbsECgS4tneM1ohtwbUUGACYMd2mXnE2n5mjOddLgO0iVjkRCD8BCXD4matFEfCXQMEYcLAE2LyC3gzc428gKi8CIhA8AhLg4LFUTSIQKgKFX0H/z+tyvwDO876Cru99Bf0J0Mz7CvoB4MHjOODGwJfeSVgfe4OuBnQEjDjrEgERCAMBCXAYIKsJESgmgcKzoJsDk4CyQCZwJ/C9t/5bvX83k7A+BW4DKh6nbfPKeox3/HgvYO4ZC3xQzFh1uwiIgE0CEmCboFRMBFxAwMyM3uON83avo73MBXErRBGISgIS4KhMux66hBKY7J0ZnQBsBMyypHUl9Fn1WCLgegISYNenUA8gAiIgAiLgRgISYDdmTTGLgAiIgAi4nsD/AzD6nXvXyA0oAAAAAElFTkSuQmCC\">"
      ],
      "text/plain": [
       "<IPython.core.display.HTML object>"
      ]
     },
     "metadata": {},
     "output_type": "display_data"
    }
   ],
   "source": [
    "%matplotlib notebook\n",
    "X, Y = np.meshgrid(C,gamma)\n",
    "acc = np.zeros(X.shape)\n",
    "for i, c in enumerate(C):\n",
    "    for j, g in enumerate(gamma):\n",
    "        clf = SVC(C=c,gamma=g)\n",
    "        scores = cross_validation.cross_val_score(clf, train[:,0:2], train[:,2], cv=4)\n",
    "        #print(\"Accuracy: %0.2f (+/- %0.2f)\" % (scores.mean(), scores.std() * 2))\n",
    "        acc[j,i] = scores.mean()\n",
    "plt.xscale('log', basex=2)\n",
    "plt.yscale('log', basey=2)\n",
    "CS = plt.contour(X,Y, acc)\n",
    "plt.clabel(CS, inline=1, fontsize=10)\n",
    "plt.xlabel('log C')\n",
    "plt.ylabel('log gamma')\n",
    "plt.show()"
   ]
  },
  {
   "cell_type": "markdown",
   "metadata": {},
   "source": [
    "$\\gamma \\approx 0.11$ $C \\approx 21748.7$"
   ]
  },
  {
   "cell_type": "code",
   "execution_count": 24,
   "metadata": {
    "collapsed": true
   },
   "outputs": [],
   "source": [
    "g_opt = 0.11\n",
    "C_opt = 21748.7"
   ]
  },
  {
   "cell_type": "code",
   "execution_count": 30,
   "metadata": {
    "collapsed": false
   },
   "outputs": [
    {
     "data": {
      "text/plain": [
       "SVC(C=21748.7, cache_size=200, class_weight=None, coef0=0.0, degree=3,\n",
       "  gamma=0.11, kernel='rbf', max_iter=-1, probability=False,\n",
       "  random_state=None, shrinking=True, tol=0.001, verbose=False)"
      ]
     },
     "execution_count": 30,
     "metadata": {},
     "output_type": "execute_result"
    }
   ],
   "source": [
    "# train a C-SVM with optimal parameters\n",
    "clf = SVC(C=C_opt,gamma=g_opt)\n",
    "clf.fit(train[:,0:2], train[:,2]) "
   ]
  },
  {
   "cell_type": "markdown",
   "metadata": {},
   "source": [
    "<img src=\"Auswahl_2016-01-11_011.png\">"
   ]
  },
  {
   "cell_type": "code",
   "execution_count": 31,
   "metadata": {
    "collapsed": false
   },
   "outputs": [
    {
     "name": "stdout",
     "output_type": "stream",
     "text": [
      "number of correct classifications: 75\n",
      "percentage of correct classifications: 0.9375\n"
     ]
    }
   ],
   "source": [
    "e = (clf.predict(test[:,0:2]) == test[:,2]).sum() \n",
    "print 'number of correct classifications:',e\n",
    "e = e / 80.0\n",
    "print 'percentage of correct classifications:',e"
   ]
  },
  {
   "cell_type": "code",
   "execution_count": 32,
   "metadata": {
    "collapsed": false
   },
   "outputs": [
    {
     "data": {
      "image/png": "[encoded data removed]",
      "text/plain": [
       "<matplotlib.figure.Figure at 0x7f5b9522da90>"
      ]
     },
     "metadata": {},
     "output_type": "display_data"
    }
   ],
   "source": [
    "%matplotlib inline\n",
    "plt.scatter(p1[:,0], p1[:,1], c='blue')\n",
    "plt.scatter(p2[:,0], p2[:,1], c='red')\n",
    "\n",
    "# class 0 and 1 : areas\n",
    "nx, ny = 200, 100\n",
    "x_min, x_max = plt.xlim()\n",
    "y_min, y_max = plt.ylim()\n",
    "xx, yy = np.meshgrid(np.linspace(x_min, x_max, nx),\n",
    "                     np.linspace(y_min, y_max, ny))\n",
    "Z = clf.predict(np.c_[xx.ravel(), yy.ravel()])\n",
    "Z = Z.reshape(xx.shape)\n",
    "plt.pcolormesh(xx, yy, Z, cmap='red_blue_classes',\n",
    "               norm=colors.Normalize(0., 1.))\n",
    "plt.contour(xx, yy, Z, [0.5], linewidths=2., colors='k')\n",
    "\n",
    "plt.scatter(p1[:,0], p1[:,1], c='blue')\n",
    "plt.scatter(p2[:,0], p2[:,1], c='red')\n",
    "\n",
    "plt.show()"
   ]
  },
  {
   "cell_type": "markdown",
   "metadata": {},
   "source": [
    "<img src=\"Auswahl_2016-01-11_012.png\">"
   ]
  },
  {
   "cell_type": "code",
   "execution_count": 33,
   "metadata": {
    "collapsed": false
   },
   "outputs": [],
   "source": [
    "# train a C-SVM with standart parameters\n",
    "clfstd = SVC()\n",
    "clfstd.fit(train[:,0:2], train[:,2]) \n",
    "# train a C-SVM with optimal parameters\n",
    "clfopt = SVC(C=C_opt,gamma=g_opt)\n",
    "clfopt.fit(train[:,0:2], train[:,2]) \n",
    "pass"
   ]
  },
  {
   "cell_type": "code",
   "execution_count": 34,
   "metadata": {
    "collapsed": false
   },
   "outputs": [
    {
     "data": {
      "image/png": "[encoded data removed]",
      "text/plain": [
       "<matplotlib.figure.Figure at 0x7f5b94c8db10>"
      ]
     },
     "metadata": {},
     "output_type": "display_data"
    },
    {
     "name": "stdout",
     "output_type": "stream",
     "text": [
      "using standart parameters\n",
      "number of correct classifications: 58\n",
      "percentage of correct classifications: 0.725\n",
      "number of support vectors (red,blue) [39 39]\n",
      "Accuracy: 0.84 (+/- 0.14)\n"
     ]
    }
   ],
   "source": [
    "plt.figure(figsize=(10,10))\n",
    "plt.scatter(p1[:,0], p1[:,1], c='blue')\n",
    "plt.scatter(p2[:,0], p2[:,1], c='red')\n",
    "\n",
    "# class 0 and 1 : areas\n",
    "nx, ny = 200, 100\n",
    "x_min, x_max = plt.xlim()\n",
    "y_min, y_max = plt.ylim()\n",
    "xx, yy = np.meshgrid(np.linspace(x_min, x_max, nx),\n",
    "                     np.linspace(y_min, y_max, ny))\n",
    "Z = clfstd.predict(np.c_[xx.ravel(), yy.ravel()])\n",
    "Z = Z.reshape(xx.shape)\n",
    "plt.pcolormesh(xx, yy, Z, cmap='red_blue_classes',\n",
    "               norm=colors.Normalize(0., 1.))\n",
    "plt.contour(xx, yy, Z, [0.5], linewidths=2., colors='k')\n",
    "\n",
    "plt.scatter(p1[:,0], p1[:,1], c='blue',s=50)\n",
    "plt.scatter(p2[:,0], p2[:,1], c='red',s=50)\n",
    "sv = clfstd.support_vectors_\n",
    "plt.scatter(sv[:,0],sv[:,1], c='yellow',marker='+',s=50)\n",
    "\n",
    "plt.show()\n",
    "\n",
    "print 'using standart parameters'\n",
    "e = (clfstd.predict(test[:,0:2]) == test[:,2]).sum() \n",
    "print 'number of correct classifications:',e\n",
    "e = e / 80.0\n",
    "print 'percentage of correct classifications:',e\n",
    "print 'number of support vectors (red,blue)',clfstd.n_support_\n",
    "\n",
    "scores = cross_validation.cross_val_score(clfstd, comp[:,0:2], comp[:,2], cv=4)\n",
    "print(\"Accuracy: %0.2f (+/- %0.2f)\" % (scores.mean(), scores.std() * 2))"
   ]
  },
  {
   "cell_type": "code",
   "execution_count": 35,
   "metadata": {
    "collapsed": false
   },
   "outputs": [
    {
     "data": {
      "image/png": "[encoded data removed]",
      "text/plain": [
       "<matplotlib.figure.Figure at 0x7f5b94c54b10>"
      ]
     },
     "metadata": {},
     "output_type": "display_data"
    },
    {
     "name": "stdout",
     "output_type": "stream",
     "text": [
      "using optimized parameters\n",
      "number of correct classifications: 75\n",
      "percentage of correct classifications: 0.9375\n",
      "number of support vectors (red,blue) [11 11]\n",
      "Accuracy: 0.90 (+/- 0.04)\n"
     ]
    }
   ],
   "source": [
    "plt.figure(figsize=(10,10))\n",
    "plt.scatter(p1[:,0], p1[:,1], c='blue')\n",
    "plt.scatter(p2[:,0], p2[:,1], c='red')\n",
    "\n",
    "# class 0 and 1 : areas\n",
    "nx, ny = 200, 100\n",
    "x_min, x_max = plt.xlim()\n",
    "y_min, y_max = plt.ylim()\n",
    "xx, yy = np.meshgrid(np.linspace(x_min, x_max, nx),\n",
    "                     np.linspace(y_min, y_max, ny))\n",
    "Z = clfopt.predict(np.c_[xx.ravel(), yy.ravel()])\n",
    "Z = Z.reshape(xx.shape)\n",
    "plt.pcolormesh(xx, yy, Z, cmap='red_blue_classes',\n",
    "               norm=colors.Normalize(0., 1.))\n",
    "plt.contour(xx, yy, Z, [0.5], linewidths=2., colors='k')\n",
    "\n",
    "plt.scatter(p1[:,0], p1[:,1], c='blue',s=50)\n",
    "plt.scatter(p2[:,0], p2[:,1], c='red',s=50)\n",
    "sv = clfopt.support_vectors_\n",
    "plt.scatter(sv[:,0],sv[:,1], c='yellow',marker='+',s=50)\n",
    "\n",
    "plt.show()\n",
    "\n",
    "print 'using optimized parameters'\n",
    "e = (clfopt.predict(test[:,0:2]) == test[:,2]).sum() \n",
    "print 'number of correct classifications:',e\n",
    "e = e / 80.0\n",
    "print 'percentage of correct classifications:',e\n",
    "print 'number of support vectors (red,blue)',clfopt.n_support_\n",
    "scores = cross_validation.cross_val_score(clfopt, comp[:,0:2], comp[:,2], cv=4)\n",
    "print(\"Accuracy: %0.2f (+/- %0.2f)\" % (scores.mean(), scores.std() * 2))"
   ]
  },
  {
   "cell_type": "markdown",
   "metadata": {},
   "source": [
    "For the standart parameters, the descision boundry implies that we may underfit the problem because there are some examples from the blue class that are not correctly classified, but seem to resemble the centroid of their cluster.\n",
    "On the other hand, the number of support vectors is extremely high, almost all examples are support vectors. The standart parameter-set seems to favor larger datasets where more support vectors are usually needed. In the optimized case, the number of support vectors decreased and classification accuracy increased (Std.-deviation decreased). Since we did a grid search for the parameters, we can be confident that a smaller or bigger set of vectors would not increase accuracy any more."
   ]
  }
 ],
 "metadata": {
  "kernelspec": {
   "display_name": "Python 2",
   "language": "python",
   "name": "python2"
  },
  "language_info": {
   "codemirror_mode": {
    "name": "ipython",
    "version": 2
   },
   "file_extension": ".py",
   "mimetype": "text/x-python",
   "name": "python",
   "nbconvert_exporter": "python",
   "pygments_lexer": "ipython2",
   "version": "2.7.10"
  }
 },
 "nbformat": 4,
 "nbformat_minor": 0
}
