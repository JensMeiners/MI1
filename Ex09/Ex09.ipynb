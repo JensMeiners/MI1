{
 "cells": [
  {
   "cell_type": "markdown",
   "metadata": {},
   "source": [
    "<img src=\"Auswahl_2016-01-11_002.png\">"
   ]
  },
  {
   "cell_type": "markdown",
   "metadata": {},
   "source": [
    "<pre style=\"text-align: right\">\n",
    "Gruppe:             \n",
    "                MeSi\n",
    "Autoren:            \n",
    "Jens Meiners\n",
    "Arne Siebenmorgen\n",
    "</pre>"
   ]
  },
  {
   "cell_type": "markdown",
   "metadata": {},
   "source": [
    "<img src=\"Auswahl_2016-01-11_003.png\">"
   ]
  },
  {
   "cell_type": "raw",
   "metadata": {},
   "source": [
    "From the Script:"
   ]
  },
  {
   "cell_type": "markdown",
   "metadata": {},
   "source": [
    "<img src=\"Auswahl_2016-01-11_013.png\">"
   ]
  },
  {
   "cell_type": "markdown",
   "metadata": {},
   "source": [
    "From this note, we see that in the primal, we need to minimize $w$. In the dual, maximization of $\\lambda_\\alpha$ is needed. We get this parameter by building the Langrangian of the primal."
   ]
  },
  {
   "cell_type": "markdown",
   "metadata": {},
   "source": [
    "$$L = \\frac{1}{2} |w|^2 + \\frac{C}{p} \\sum_{\\alpha=1}^{p} \\varphi_\\alpha - \\sum_{\\alpha=1}^{p}\\lambda_\\alpha \\{y_{\\top}^{(\\alpha)}f_\\alpha-1+\\varphi_\\alpha\\} - \\sum_{\\alpha=1}^{p} \\mu_\\alpha \\varphi_\\alpha$$"
   ]
  },
  {
   "cell_type": "markdown",
   "metadata": {},
   "source": [
    "with $f = w^\\top x^{(\\alpha)} + b$"
   ]
  },
  {
   "cell_type": "markdown",
   "metadata": {},
   "source": [
    "Minimization w.r.t. $w$<br>\n",
    "$$\\frac{\\partial L}{\\partial w_l} = w - \\lambda_\\alpha y_{\\top}^{(\\alpha)}x^{(\\alpha)} \\stackrel{!}{=} 0$$\n",
    "$$w = \\lambda_\\alpha y_{\\top}^{(\\alpha)}x^{(\\alpha)}$$"
   ]
  },
  {
   "cell_type": "markdown",
   "metadata": {},
   "source": [
    "Minimization w.r.t. $b$ yields the first constraint<br>\n",
    "$$\\frac{\\partial L}{\\partial b} =- \\sum_{\\alpha=1}^{p}\\lambda_\\alpha y_{\\top}^{(\\alpha)}\\stackrel{!}{=} 0$$"
   ]
  },
  {
   "cell_type": "markdown",
   "metadata": {},
   "source": [
    "Minimization w.r.t. $\\varphi$ yields the second constraint<br>\n",
    "$$\\frac{\\partial L}{\\partial \\varphi_\\alpha} = \\frac{C}{p} - \\lambda_\\alpha - \\mu_\\alpha \\stackrel{!}{=} 0$$\n",
    "$$\\Rightarrow 0 \\leq \\lambda_\\alpha \\leq \\frac{C}{p}$$"
   ]
  },
  {
   "cell_type": "markdown",
   "metadata": {},
   "source": [
    "Plugging the results back into the Lagrangian results in"
   ]
  },
  {
   "cell_type": "markdown",
   "metadata": {},
   "source": [
    "$$-\\frac{1}{2}\\sum_{\\alpha=1}^{p}\\sum_{\\beta=1}^{p} \\lambda_\\alpha\\lambda_\\beta y_{\\top}^{(\\alpha)}y_{\\top}^{(\\beta)}(x^{(\\alpha)})^\\top x^{(\\beta)}\\ +  \\sum_{\\alpha=1}^{p}\\lambda_\\alpha + \\frac{C}{p} \\sum_{\\alpha=1}^{p} \\varphi_\\alpha - \\sum_{\\alpha=1}^{p} \\mu_\\alpha \\varphi_\\alpha$$"
   ]
  },
  {
   "cell_type": "markdown",
   "metadata": {},
   "source": [
    "Its optimal solution depends on $\\lambda$ because we solved the dual problem. The Problem therfore reduces to:"
   ]
  },
  {
   "cell_type": "markdown",
   "metadata": {},
   "source": [
    "$$\\max_{\\lambda_\\alpha} \\{-\\frac{1}{2}\\sum_{\\alpha=1}^{p}\\sum_{\\beta=1}^{p} \\lambda_\\alpha\\lambda_\\beta y_{\\top}^{(\\alpha)}y_{\\top}^{(\\beta)}(x^{(\\alpha)})^\\top x^{(\\beta)}\\ +  \\sum_{\\alpha=1}^{p}\\lambda_\\alpha\\}$$"
   ]
  },
  {
   "cell_type": "markdown",
   "metadata": {},
   "source": [
    "Which is the result we searched for."
   ]
  },
  {
   "cell_type": "markdown",
   "metadata": {},
   "source": [
    "<img src=\"Auswahl_2016-01-11_004.png\">"
   ]
  },
  {
   "cell_type": "markdown",
   "metadata": {},
   "source": [
    "<img src=\"Auswahl_2016-01-11_005.png\">"
   ]
  },
  {
   "cell_type": "markdown",
   "metadata": {},
   "source": [
    "<img src=\"Auswahl_2016-01-11_006.png\">"
   ]
  },
  {
   "cell_type": "markdown",
   "metadata": {},
   "source": [
    "<img src=\"Auswahl_2016-01-11_007.png\">"
   ]
  },
  {
   "cell_type": "markdown",
   "metadata": {},
   "source": [
    "<img src=\"Auswahl_2016-01-11_008.png\">"
   ]
  },
  {
   "cell_type": "markdown",
   "metadata": {},
   "source": [
    "<img src=\"Auswahl_2016-01-11_009.png\">"
   ]
  },
  {
   "cell_type": "markdown",
   "metadata": {},
   "source": [
    "<img src=\"Auswahl_2016-01-11_010.png\">"
   ]
  },
  {
   "cell_type": "markdown",
   "metadata": {},
   "source": [
    "<img src=\"Auswahl_2016-01-11_011.png\">"
   ]
  },
  {
   "cell_type": "markdown",
   "metadata": {},
   "source": [
    "<img src=\"Auswahl_2016-01-11_012.png\">"
   ]
  },
  {
   "cell_type": "code",
   "execution_count": null,
   "metadata": {
    "collapsed": true
   },
   "outputs": [],
   "source": []
  },
  {
   "cell_type": "code",
   "execution_count": null,
   "metadata": {
    "collapsed": true
   },
   "outputs": [],
   "source": []
  },
  {
   "cell_type": "code",
   "execution_count": null,
   "metadata": {
    "collapsed": true
   },
   "outputs": [],
   "source": []
  }
 ],
 "metadata": {
  "kernelspec": {
   "display_name": "Python 2",
   "language": "python",
   "name": "python2"
  },
  "language_info": {
   "codemirror_mode": {
    "name": "ipython",
    "version": 2
   },
   "file_extension": ".py",
   "mimetype": "text/x-python",
   "name": "python",
   "nbconvert_exporter": "python",
   "pygments_lexer": "ipython2",
   "version": "2.7.10"
  }
 },
 "nbformat": 4,
 "nbformat_minor": 0
}
